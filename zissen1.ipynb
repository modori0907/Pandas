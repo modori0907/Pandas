{
 "cells": [
  {
   "cell_type": "code",
   "execution_count": 8,
   "metadata": {
    "collapsed": true
   },
   "outputs": [
    {
     "data": {
      "text/plain": "0     object\n1     object\n2     object\n3     object\n4     object\n5     object\n6     object\n7     object\n8     object\n9     object\n10    object\n11    object\n12    object\n13    object\n14    object\n15    object\n16    object\n17    object\n18    object\n19    object\n20    object\n21    object\n22    object\n23    object\n24    object\n25    object\n26    object\n27    object\n28    object\n29    object\ndtype: object"
     },
     "execution_count": 8,
     "metadata": {},
     "output_type": "execute_result"
    }
   ],
   "source": [
    "import pandas as pd\n",
    "\n",
    "data = pd.read_csv(\"data/22_shizuoka_all_20210331.csv\" ,encoding='shift-jis',header=None, dtype=object)\n",
    "data.dtypes"
   ]
  },
  {
   "cell_type": "code",
   "execution_count": 4,
   "outputs": [
    {
     "data": {
      "text/plain": "Int64Index([ 0,  1,  2,  3,  4,  5,  6,  7,  8,  9, 10, 11, 12, 13, 14, 15, 16,\n            17, 18, 19, 20, 21, 22, 23, 24, 25, 26, 27, 28, 29],\n           dtype='int64')"
     },
     "execution_count": 4,
     "metadata": {},
     "output_type": "execute_result"
    }
   ],
   "source": [
    "data.columns"
   ],
   "metadata": {
    "collapsed": false
   }
  },
  {
   "cell_type": "code",
   "execution_count": 5,
   "outputs": [
    {
     "data": {
      "text/plain": "30"
     },
     "execution_count": 5,
     "metadata": {},
     "output_type": "execute_result"
    }
   ],
   "source": [
    "len(data.columns)"
   ],
   "metadata": {
    "collapsed": false
   }
  },
  {
   "cell_type": "code",
   "execution_count": 6,
   "outputs": [
    {
     "data": {
      "text/plain": "            0              1   2   3           4           5               6   \\\n0            1  1000013040008   1   1  2018-04-02  2015-10-05         静岡家庭裁判所   \n1            2  1000013050072   1   1  2018-04-02  2015-10-05         清水簡易裁判所   \n2            3  1000013050080   1   1  2018-04-02  2015-10-05         浜松簡易裁判所   \n3            4  1000020222119   1   1  2018-04-05  2015-10-05             磐田市   \n4            5  1000020222127   1   1  2018-04-05  2015-10-05             焼津市   \n...        ...            ...  ..  ..         ...         ...             ...   \n114608  114609  9700150095744   1   0  2019-09-27  2019-08-22     久根共有財産管理委員会   \n114609  114610  9700150097253   1   0  2020-01-24  2019-12-26      静岡小児感染症研究会   \n114610  114611  9700150099530   1   0  2020-07-13  2020-06-23  北方領土返還要求静岡県民会議   \n114611  114612  9700150099852   1   0  2020-08-20  2020-07-22        両河内児童クラブ   \n114612  114613  9700150101659   1   0  2021-01-26  2021-01-14      静岡市茶業振興協議会   \n\n        7    8    9   ...  20   21          22  23                       24  \\\n0      NaN  101  静岡県  ... NaN  NaN  2015-10-05   1    Shizuoka Family Court   \n1      NaN  101  静岡県  ... NaN  NaN  2015-10-05   1    Shimizu Summary Court   \n2      NaN  101  静岡県  ... NaN  NaN  2015-10-05   1  Hamamatsu Summary Court   \n3      NaN  201  静岡県  ... NaN  NaN  2015-10-05   1               Iwata City   \n4      NaN  201  静岡県  ... NaN  NaN  2015-10-05   1               Yaizu city   \n...     ..  ...  ...  ...  ..  ...         ...  ..                      ...   \n114608 NaN  499  静岡県  ... NaN  NaN  2019-08-22   1                      NaN   \n114609 NaN  499  静岡県  ... NaN  NaN  2019-12-26   1                      NaN   \n114610 NaN  499  静岡県  ... NaN  NaN  2020-06-23   1                      NaN   \n114611 NaN  499  静岡県  ... NaN  NaN  2020-07-22   1                      NaN   \n114612 NaN  499  静岡県  ... NaN  NaN  2021-01-14   1                      NaN   \n\n              25                                        26  27  \\\n0       Shizuoka      1-20, Jonaicho, Aoi ku, Shizuoka shi NaN   \n1       Shizuoka  1-6-15, Tenjin, Shimizu ku, Shizuoka shi NaN   \n2       Shizuoka      1-12-5, Chuo, Naka ku, Hamamatsu shi NaN   \n3       Shizuoka                   3-1,Kounodai, Iwata shi NaN   \n4       Shizuoka               2-16-32 Honmachi, Yaizu shi NaN   \n...          ...                                       ...  ..   \n114608       NaN                                       NaN NaN   \n114609       NaN                                       NaN NaN   \n114610       NaN                                       NaN NaN   \n114611       NaN                                       NaN NaN   \n114612       NaN                                       NaN NaN   \n\n                                  28  29  \n0                      シズオカカテイサイバンショ   0  \n1                       シミズカンイサイバンショ   0  \n2                      ハママツカンイサイバンショ   0  \n3                               イワタシ   0  \n4                               ヤイヅシ   0  \n...                              ...  ..  \n114608           クネキヨウユウザイサンカンリイインカイ   0  \n114609        シズオカシヨウニカンセンシヨウケンキユウカイ   0  \n114610  ホツポウリヨウドヘンカンヨウキユウシズオカケンミンカイギ   0  \n114611                  リヨウゴウチジドウクラブ   0  \n114612          シズオカシチヤギヨウシンコウキヨウギカイ   0  \n\n[114613 rows x 30 columns]",
      "text/html": "<div>\n<style scoped>\n    .dataframe tbody tr th:only-of-type {\n        vertical-align: middle;\n    }\n\n    .dataframe tbody tr th {\n        vertical-align: top;\n    }\n\n    .dataframe thead th {\n        text-align: right;\n    }\n</style>\n<table border=\"1\" class=\"dataframe\">\n  <thead>\n    <tr style=\"text-align: right;\">\n      <th></th>\n      <th>0</th>\n      <th>1</th>\n      <th>2</th>\n      <th>3</th>\n      <th>4</th>\n      <th>5</th>\n      <th>6</th>\n      <th>7</th>\n      <th>8</th>\n      <th>9</th>\n      <th>...</th>\n      <th>20</th>\n      <th>21</th>\n      <th>22</th>\n      <th>23</th>\n      <th>24</th>\n      <th>25</th>\n      <th>26</th>\n      <th>27</th>\n      <th>28</th>\n      <th>29</th>\n    </tr>\n  </thead>\n  <tbody>\n    <tr>\n      <th>0</th>\n      <td>1</td>\n      <td>1000013040008</td>\n      <td>1</td>\n      <td>1</td>\n      <td>2018-04-02</td>\n      <td>2015-10-05</td>\n      <td>静岡家庭裁判所</td>\n      <td>NaN</td>\n      <td>101</td>\n      <td>静岡県</td>\n      <td>...</td>\n      <td>NaN</td>\n      <td>NaN</td>\n      <td>2015-10-05</td>\n      <td>1</td>\n      <td>Shizuoka Family Court</td>\n      <td>Shizuoka</td>\n      <td>1-20, Jonaicho, Aoi ku, Shizuoka shi</td>\n      <td>NaN</td>\n      <td>シズオカカテイサイバンショ</td>\n      <td>0</td>\n    </tr>\n    <tr>\n      <th>1</th>\n      <td>2</td>\n      <td>1000013050072</td>\n      <td>1</td>\n      <td>1</td>\n      <td>2018-04-02</td>\n      <td>2015-10-05</td>\n      <td>清水簡易裁判所</td>\n      <td>NaN</td>\n      <td>101</td>\n      <td>静岡県</td>\n      <td>...</td>\n      <td>NaN</td>\n      <td>NaN</td>\n      <td>2015-10-05</td>\n      <td>1</td>\n      <td>Shimizu Summary Court</td>\n      <td>Shizuoka</td>\n      <td>1-6-15, Tenjin, Shimizu ku, Shizuoka shi</td>\n      <td>NaN</td>\n      <td>シミズカンイサイバンショ</td>\n      <td>0</td>\n    </tr>\n    <tr>\n      <th>2</th>\n      <td>3</td>\n      <td>1000013050080</td>\n      <td>1</td>\n      <td>1</td>\n      <td>2018-04-02</td>\n      <td>2015-10-05</td>\n      <td>浜松簡易裁判所</td>\n      <td>NaN</td>\n      <td>101</td>\n      <td>静岡県</td>\n      <td>...</td>\n      <td>NaN</td>\n      <td>NaN</td>\n      <td>2015-10-05</td>\n      <td>1</td>\n      <td>Hamamatsu Summary Court</td>\n      <td>Shizuoka</td>\n      <td>1-12-5, Chuo, Naka ku, Hamamatsu shi</td>\n      <td>NaN</td>\n      <td>ハママツカンイサイバンショ</td>\n      <td>0</td>\n    </tr>\n    <tr>\n      <th>3</th>\n      <td>4</td>\n      <td>1000020222119</td>\n      <td>1</td>\n      <td>1</td>\n      <td>2018-04-05</td>\n      <td>2015-10-05</td>\n      <td>磐田市</td>\n      <td>NaN</td>\n      <td>201</td>\n      <td>静岡県</td>\n      <td>...</td>\n      <td>NaN</td>\n      <td>NaN</td>\n      <td>2015-10-05</td>\n      <td>1</td>\n      <td>Iwata City</td>\n      <td>Shizuoka</td>\n      <td>3-1,Kounodai, Iwata shi</td>\n      <td>NaN</td>\n      <td>イワタシ</td>\n      <td>0</td>\n    </tr>\n    <tr>\n      <th>4</th>\n      <td>5</td>\n      <td>1000020222127</td>\n      <td>1</td>\n      <td>1</td>\n      <td>2018-04-05</td>\n      <td>2015-10-05</td>\n      <td>焼津市</td>\n      <td>NaN</td>\n      <td>201</td>\n      <td>静岡県</td>\n      <td>...</td>\n      <td>NaN</td>\n      <td>NaN</td>\n      <td>2015-10-05</td>\n      <td>1</td>\n      <td>Yaizu city</td>\n      <td>Shizuoka</td>\n      <td>2-16-32 Honmachi, Yaizu shi</td>\n      <td>NaN</td>\n      <td>ヤイヅシ</td>\n      <td>0</td>\n    </tr>\n    <tr>\n      <th>...</th>\n      <td>...</td>\n      <td>...</td>\n      <td>...</td>\n      <td>...</td>\n      <td>...</td>\n      <td>...</td>\n      <td>...</td>\n      <td>...</td>\n      <td>...</td>\n      <td>...</td>\n      <td>...</td>\n      <td>...</td>\n      <td>...</td>\n      <td>...</td>\n      <td>...</td>\n      <td>...</td>\n      <td>...</td>\n      <td>...</td>\n      <td>...</td>\n      <td>...</td>\n      <td>...</td>\n    </tr>\n    <tr>\n      <th>114608</th>\n      <td>114609</td>\n      <td>9700150095744</td>\n      <td>1</td>\n      <td>0</td>\n      <td>2019-09-27</td>\n      <td>2019-08-22</td>\n      <td>久根共有財産管理委員会</td>\n      <td>NaN</td>\n      <td>499</td>\n      <td>静岡県</td>\n      <td>...</td>\n      <td>NaN</td>\n      <td>NaN</td>\n      <td>2019-08-22</td>\n      <td>1</td>\n      <td>NaN</td>\n      <td>NaN</td>\n      <td>NaN</td>\n      <td>NaN</td>\n      <td>クネキヨウユウザイサンカンリイインカイ</td>\n      <td>0</td>\n    </tr>\n    <tr>\n      <th>114609</th>\n      <td>114610</td>\n      <td>9700150097253</td>\n      <td>1</td>\n      <td>0</td>\n      <td>2020-01-24</td>\n      <td>2019-12-26</td>\n      <td>静岡小児感染症研究会</td>\n      <td>NaN</td>\n      <td>499</td>\n      <td>静岡県</td>\n      <td>...</td>\n      <td>NaN</td>\n      <td>NaN</td>\n      <td>2019-12-26</td>\n      <td>1</td>\n      <td>NaN</td>\n      <td>NaN</td>\n      <td>NaN</td>\n      <td>NaN</td>\n      <td>シズオカシヨウニカンセンシヨウケンキユウカイ</td>\n      <td>0</td>\n    </tr>\n    <tr>\n      <th>114610</th>\n      <td>114611</td>\n      <td>9700150099530</td>\n      <td>1</td>\n      <td>0</td>\n      <td>2020-07-13</td>\n      <td>2020-06-23</td>\n      <td>北方領土返還要求静岡県民会議</td>\n      <td>NaN</td>\n      <td>499</td>\n      <td>静岡県</td>\n      <td>...</td>\n      <td>NaN</td>\n      <td>NaN</td>\n      <td>2020-06-23</td>\n      <td>1</td>\n      <td>NaN</td>\n      <td>NaN</td>\n      <td>NaN</td>\n      <td>NaN</td>\n      <td>ホツポウリヨウドヘンカンヨウキユウシズオカケンミンカイギ</td>\n      <td>0</td>\n    </tr>\n    <tr>\n      <th>114611</th>\n      <td>114612</td>\n      <td>9700150099852</td>\n      <td>1</td>\n      <td>0</td>\n      <td>2020-08-20</td>\n      <td>2020-07-22</td>\n      <td>両河内児童クラブ</td>\n      <td>NaN</td>\n      <td>499</td>\n      <td>静岡県</td>\n      <td>...</td>\n      <td>NaN</td>\n      <td>NaN</td>\n      <td>2020-07-22</td>\n      <td>1</td>\n      <td>NaN</td>\n      <td>NaN</td>\n      <td>NaN</td>\n      <td>NaN</td>\n      <td>リヨウゴウチジドウクラブ</td>\n      <td>0</td>\n    </tr>\n    <tr>\n      <th>114612</th>\n      <td>114613</td>\n      <td>9700150101659</td>\n      <td>1</td>\n      <td>0</td>\n      <td>2021-01-26</td>\n      <td>2021-01-14</td>\n      <td>静岡市茶業振興協議会</td>\n      <td>NaN</td>\n      <td>499</td>\n      <td>静岡県</td>\n      <td>...</td>\n      <td>NaN</td>\n      <td>NaN</td>\n      <td>2021-01-14</td>\n      <td>1</td>\n      <td>NaN</td>\n      <td>NaN</td>\n      <td>NaN</td>\n      <td>NaN</td>\n      <td>シズオカシチヤギヨウシンコウキヨウギカイ</td>\n      <td>0</td>\n    </tr>\n  </tbody>\n</table>\n<p>114613 rows × 30 columns</p>\n</div>"
     },
     "execution_count": 6,
     "metadata": {},
     "output_type": "execute_result"
    }
   ],
   "source": [
    "data"
   ],
   "metadata": {
    "collapsed": false
   }
  },
  {
   "cell_type": "code",
   "execution_count": 7,
   "outputs": [
    {
     "data": {
      "text/plain": "0       int64\n1       int64\n2       int64\n3       int64\n4      object\n5      object\n6      object\n7     float64\n8       int64\n9      object\n10     object\n11     object\n12    float64\n13      int64\n14      int64\n15    float64\n16    float64\n17    float64\n18     object\n19    float64\n20    float64\n21     object\n22     object\n23      int64\n24     object\n25     object\n26     object\n27    float64\n28     object\n29      int64\ndtype: object"
     },
     "execution_count": 7,
     "metadata": {},
     "output_type": "execute_result"
    }
   ],
   "source": [
    "data.dtypes"
   ],
   "metadata": {
    "collapsed": false
   }
  },
  {
   "cell_type": "code",
   "execution_count": 10,
   "outputs": [
    {
     "data": {
      "text/plain": "   column_id column_name_ja   column_name_en\n0          1           一連番号   sequenceNumber\n1          2           法人番号  corporateNumber\n2          3           処理区分          process\n3          4           訂正区分          correct\n4          5          更新年月日       updateDate",
      "text/html": "<div>\n<style scoped>\n    .dataframe tbody tr th:only-of-type {\n        vertical-align: middle;\n    }\n\n    .dataframe tbody tr th {\n        vertical-align: top;\n    }\n\n    .dataframe thead th {\n        text-align: right;\n    }\n</style>\n<table border=\"1\" class=\"dataframe\">\n  <thead>\n    <tr style=\"text-align: right;\">\n      <th></th>\n      <th>column_id</th>\n      <th>column_name_ja</th>\n      <th>column_name_en</th>\n    </tr>\n  </thead>\n  <tbody>\n    <tr>\n      <th>0</th>\n      <td>1</td>\n      <td>一連番号</td>\n      <td>sequenceNumber</td>\n    </tr>\n    <tr>\n      <th>1</th>\n      <td>2</td>\n      <td>法人番号</td>\n      <td>corporateNumber</td>\n    </tr>\n    <tr>\n      <th>2</th>\n      <td>3</td>\n      <td>処理区分</td>\n      <td>process</td>\n    </tr>\n    <tr>\n      <th>3</th>\n      <td>4</td>\n      <td>訂正区分</td>\n      <td>correct</td>\n    </tr>\n    <tr>\n      <th>4</th>\n      <td>5</td>\n      <td>更新年月日</td>\n      <td>updateDate</td>\n    </tr>\n  </tbody>\n</table>\n</div>"
     },
     "execution_count": 10,
     "metadata": {},
     "output_type": "execute_result"
    }
   ],
   "source": [
    "mst = pd.read_csv('data/mst_column_name.txt', encoding='shift-jis',sep='\\t')\n",
    "mst.head()"
   ],
   "metadata": {
    "collapsed": false
   }
  },
  {
   "cell_type": "code",
   "execution_count": 11,
   "outputs": [
    {
     "data": {
      "text/plain": "30"
     },
     "execution_count": 11,
     "metadata": {},
     "output_type": "execute_result"
    }
   ],
   "source": [
    "len(mst)"
   ],
   "metadata": {
    "collapsed": false
   }
  },
  {
   "cell_type": "code",
   "execution_count": 12,
   "outputs": [
    {
     "data": {
      "text/plain": "True"
     },
     "execution_count": 12,
     "metadata": {},
     "output_type": "execute_result"
    }
   ],
   "source": [
    "# ヘッダの項目数とレコード数の比較\n",
    "len(mst) == len(data.columns)"
   ],
   "metadata": {
    "collapsed": false
   }
  },
  {
   "cell_type": "code",
   "execution_count": 14,
   "outputs": [
    {
     "data": {
      "text/plain": "array(['sequenceNumber', 'corporateNumber', 'process', 'correct',\n       'updateDate', 'changeDate', 'name', 'nameImageId', 'kind',\n       'prefectureName', 'cityName', 'streetNumber', 'addressImageId',\n       'prefectureCode', 'cityCode', 'postCode', 'addressOutside',\n       'addressOutsideImageId', 'closeDate', 'closeCause',\n       'successorCorporateNumber', 'changeCause', 'assignmentDate',\n       'latest', 'enName', 'enPrefectureName', 'enCityName',\n       'enAddressOutside', 'furigana', 'hihyoji'], dtype=object)"
     },
     "execution_count": 14,
     "metadata": {},
     "output_type": "execute_result"
    }
   ],
   "source": [
    "# columnsの中から指定した列をヘッダにする処理\n",
    "columns = mst.column_name_en.values\n",
    "columns"
   ],
   "metadata": {
    "collapsed": false
   }
  },
  {
   "cell_type": "code",
   "execution_count": 15,
   "outputs": [
    {
     "data": {
      "text/plain": "  sequenceNumber corporateNumber process correct  updateDate  changeDate  \\\n0              1   1000013040008      01       1  2018-04-02  2015-10-05   \n1              2   1000013050072      01       1  2018-04-02  2015-10-05   \n2              3   1000013050080      01       1  2018-04-02  2015-10-05   \n3              4   1000020222119      01       1  2018-04-05  2015-10-05   \n4              5   1000020222127      01       1  2018-04-05  2015-10-05   \n\n      name nameImageId kind prefectureName  ... successorCorporateNumber  \\\n0  静岡家庭裁判所         NaN  101            静岡県  ...                      NaN   \n1  清水簡易裁判所         NaN  101            静岡県  ...                      NaN   \n2  浜松簡易裁判所         NaN  101            静岡県  ...                      NaN   \n3      磐田市         NaN  201            静岡県  ...                      NaN   \n4      焼津市         NaN  201            静岡県  ...                      NaN   \n\n  changeCause assignmentDate latest                   enName enPrefectureName  \\\n0         NaN     2015-10-05      1    Shizuoka Family Court         Shizuoka   \n1         NaN     2015-10-05      1    Shimizu Summary Court         Shizuoka   \n2         NaN     2015-10-05      1  Hamamatsu Summary Court         Shizuoka   \n3         NaN     2015-10-05      1               Iwata City         Shizuoka   \n4         NaN     2015-10-05      1               Yaizu city         Shizuoka   \n\n                                 enCityName enAddressOutside       furigana  \\\n0      1-20, Jonaicho, Aoi ku, Shizuoka shi              NaN  シズオカカテイサイバンショ   \n1  1-6-15, Tenjin, Shimizu ku, Shizuoka shi              NaN   シミズカンイサイバンショ   \n2      1-12-5, Chuo, Naka ku, Hamamatsu shi              NaN  ハママツカンイサイバンショ   \n3                   3-1,Kounodai, Iwata shi              NaN           イワタシ   \n4               2-16-32 Honmachi, Yaizu shi              NaN           ヤイヅシ   \n\n  hihyoji  \n0       0  \n1       0  \n2       0  \n3       0  \n4       0  \n\n[5 rows x 30 columns]",
      "text/html": "<div>\n<style scoped>\n    .dataframe tbody tr th:only-of-type {\n        vertical-align: middle;\n    }\n\n    .dataframe tbody tr th {\n        vertical-align: top;\n    }\n\n    .dataframe thead th {\n        text-align: right;\n    }\n</style>\n<table border=\"1\" class=\"dataframe\">\n  <thead>\n    <tr style=\"text-align: right;\">\n      <th></th>\n      <th>sequenceNumber</th>\n      <th>corporateNumber</th>\n      <th>process</th>\n      <th>correct</th>\n      <th>updateDate</th>\n      <th>changeDate</th>\n      <th>name</th>\n      <th>nameImageId</th>\n      <th>kind</th>\n      <th>prefectureName</th>\n      <th>...</th>\n      <th>successorCorporateNumber</th>\n      <th>changeCause</th>\n      <th>assignmentDate</th>\n      <th>latest</th>\n      <th>enName</th>\n      <th>enPrefectureName</th>\n      <th>enCityName</th>\n      <th>enAddressOutside</th>\n      <th>furigana</th>\n      <th>hihyoji</th>\n    </tr>\n  </thead>\n  <tbody>\n    <tr>\n      <th>0</th>\n      <td>1</td>\n      <td>1000013040008</td>\n      <td>01</td>\n      <td>1</td>\n      <td>2018-04-02</td>\n      <td>2015-10-05</td>\n      <td>静岡家庭裁判所</td>\n      <td>NaN</td>\n      <td>101</td>\n      <td>静岡県</td>\n      <td>...</td>\n      <td>NaN</td>\n      <td>NaN</td>\n      <td>2015-10-05</td>\n      <td>1</td>\n      <td>Shizuoka Family Court</td>\n      <td>Shizuoka</td>\n      <td>1-20, Jonaicho, Aoi ku, Shizuoka shi</td>\n      <td>NaN</td>\n      <td>シズオカカテイサイバンショ</td>\n      <td>0</td>\n    </tr>\n    <tr>\n      <th>1</th>\n      <td>2</td>\n      <td>1000013050072</td>\n      <td>01</td>\n      <td>1</td>\n      <td>2018-04-02</td>\n      <td>2015-10-05</td>\n      <td>清水簡易裁判所</td>\n      <td>NaN</td>\n      <td>101</td>\n      <td>静岡県</td>\n      <td>...</td>\n      <td>NaN</td>\n      <td>NaN</td>\n      <td>2015-10-05</td>\n      <td>1</td>\n      <td>Shimizu Summary Court</td>\n      <td>Shizuoka</td>\n      <td>1-6-15, Tenjin, Shimizu ku, Shizuoka shi</td>\n      <td>NaN</td>\n      <td>シミズカンイサイバンショ</td>\n      <td>0</td>\n    </tr>\n    <tr>\n      <th>2</th>\n      <td>3</td>\n      <td>1000013050080</td>\n      <td>01</td>\n      <td>1</td>\n      <td>2018-04-02</td>\n      <td>2015-10-05</td>\n      <td>浜松簡易裁判所</td>\n      <td>NaN</td>\n      <td>101</td>\n      <td>静岡県</td>\n      <td>...</td>\n      <td>NaN</td>\n      <td>NaN</td>\n      <td>2015-10-05</td>\n      <td>1</td>\n      <td>Hamamatsu Summary Court</td>\n      <td>Shizuoka</td>\n      <td>1-12-5, Chuo, Naka ku, Hamamatsu shi</td>\n      <td>NaN</td>\n      <td>ハママツカンイサイバンショ</td>\n      <td>0</td>\n    </tr>\n    <tr>\n      <th>3</th>\n      <td>4</td>\n      <td>1000020222119</td>\n      <td>01</td>\n      <td>1</td>\n      <td>2018-04-05</td>\n      <td>2015-10-05</td>\n      <td>磐田市</td>\n      <td>NaN</td>\n      <td>201</td>\n      <td>静岡県</td>\n      <td>...</td>\n      <td>NaN</td>\n      <td>NaN</td>\n      <td>2015-10-05</td>\n      <td>1</td>\n      <td>Iwata City</td>\n      <td>Shizuoka</td>\n      <td>3-1,Kounodai, Iwata shi</td>\n      <td>NaN</td>\n      <td>イワタシ</td>\n      <td>0</td>\n    </tr>\n    <tr>\n      <th>4</th>\n      <td>5</td>\n      <td>1000020222127</td>\n      <td>01</td>\n      <td>1</td>\n      <td>2018-04-05</td>\n      <td>2015-10-05</td>\n      <td>焼津市</td>\n      <td>NaN</td>\n      <td>201</td>\n      <td>静岡県</td>\n      <td>...</td>\n      <td>NaN</td>\n      <td>NaN</td>\n      <td>2015-10-05</td>\n      <td>1</td>\n      <td>Yaizu city</td>\n      <td>Shizuoka</td>\n      <td>2-16-32 Honmachi, Yaizu shi</td>\n      <td>NaN</td>\n      <td>ヤイヅシ</td>\n      <td>0</td>\n    </tr>\n  </tbody>\n</table>\n<p>5 rows × 30 columns</p>\n</div>"
     },
     "execution_count": 15,
     "metadata": {},
     "output_type": "execute_result"
    }
   ],
   "source": [
    "data.columns = columns\n",
    "data.head()"
   ],
   "metadata": {
    "collapsed": false
   }
  },
  {
   "cell_type": "code",
   "execution_count": 16,
   "outputs": [
    {
     "data": {
      "text/plain": "       sequenceNumber corporateNumber process correct  updateDate  changeDate  \\\ncount          114613          114613  114613  114613      114613      114613   \nunique         114613          114613       6       2        1316        1344   \ntop                 1   1000013040008      01       0  2015-11-13  2015-10-05   \nfreq                1               1   94126   80704       55969       83291   \n\n          name nameImageId    kind prefectureName  ...  \\\ncount   114613        1243  114613         114613  ...   \nunique  105857        1243       9              1  ...   \ntop       八幡神社    00067214     301            静岡県  ...   \nfreq       171           1   51229         114613  ...   \n\n       successorCorporateNumber  \\\ncount                       666   \nunique                      572   \ntop               8080001004480   \nfreq                         12   \n\n                                              changeCause assignmentDate  \\\ncount                                                1111         114613   \nunique                                               1051           1328   \ntop     平成２９年１２月１日静岡市駿河区富士見台一丁目２１番２２号富士見工業株式会社（8080001...     2015-10-05   \nfreq                                                   12         101316   \n\n        latest                  enName enPrefectureName  \\\ncount   114613                     232              230   \nunique       1                     231                1   \ntop          1  Kamiide financial ward         Shizuoka   \nfreq    114613                       2              230   \n\n                   enCityName enAddressOutside furigana hihyoji  \ncount                     230                0    46620  114613  \nunique                    129                0    41339       2  \ntop     2-1-1,oohara, Ito shi              NaN   ハチマングウ       0  \nfreq                       10              NaN       30  114388  \n\n[4 rows x 30 columns]",
      "text/html": "<div>\n<style scoped>\n    .dataframe tbody tr th:only-of-type {\n        vertical-align: middle;\n    }\n\n    .dataframe tbody tr th {\n        vertical-align: top;\n    }\n\n    .dataframe thead th {\n        text-align: right;\n    }\n</style>\n<table border=\"1\" class=\"dataframe\">\n  <thead>\n    <tr style=\"text-align: right;\">\n      <th></th>\n      <th>sequenceNumber</th>\n      <th>corporateNumber</th>\n      <th>process</th>\n      <th>correct</th>\n      <th>updateDate</th>\n      <th>changeDate</th>\n      <th>name</th>\n      <th>nameImageId</th>\n      <th>kind</th>\n      <th>prefectureName</th>\n      <th>...</th>\n      <th>successorCorporateNumber</th>\n      <th>changeCause</th>\n      <th>assignmentDate</th>\n      <th>latest</th>\n      <th>enName</th>\n      <th>enPrefectureName</th>\n      <th>enCityName</th>\n      <th>enAddressOutside</th>\n      <th>furigana</th>\n      <th>hihyoji</th>\n    </tr>\n  </thead>\n  <tbody>\n    <tr>\n      <th>count</th>\n      <td>114613</td>\n      <td>114613</td>\n      <td>114613</td>\n      <td>114613</td>\n      <td>114613</td>\n      <td>114613</td>\n      <td>114613</td>\n      <td>1243</td>\n      <td>114613</td>\n      <td>114613</td>\n      <td>...</td>\n      <td>666</td>\n      <td>1111</td>\n      <td>114613</td>\n      <td>114613</td>\n      <td>232</td>\n      <td>230</td>\n      <td>230</td>\n      <td>0</td>\n      <td>46620</td>\n      <td>114613</td>\n    </tr>\n    <tr>\n      <th>unique</th>\n      <td>114613</td>\n      <td>114613</td>\n      <td>6</td>\n      <td>2</td>\n      <td>1316</td>\n      <td>1344</td>\n      <td>105857</td>\n      <td>1243</td>\n      <td>9</td>\n      <td>1</td>\n      <td>...</td>\n      <td>572</td>\n      <td>1051</td>\n      <td>1328</td>\n      <td>1</td>\n      <td>231</td>\n      <td>1</td>\n      <td>129</td>\n      <td>0</td>\n      <td>41339</td>\n      <td>2</td>\n    </tr>\n    <tr>\n      <th>top</th>\n      <td>1</td>\n      <td>1000013040008</td>\n      <td>01</td>\n      <td>0</td>\n      <td>2015-11-13</td>\n      <td>2015-10-05</td>\n      <td>八幡神社</td>\n      <td>00067214</td>\n      <td>301</td>\n      <td>静岡県</td>\n      <td>...</td>\n      <td>8080001004480</td>\n      <td>平成２９年１２月１日静岡市駿河区富士見台一丁目２１番２２号富士見工業株式会社（8080001...</td>\n      <td>2015-10-05</td>\n      <td>1</td>\n      <td>Kamiide financial ward</td>\n      <td>Shizuoka</td>\n      <td>2-1-1,oohara, Ito shi</td>\n      <td>NaN</td>\n      <td>ハチマングウ</td>\n      <td>0</td>\n    </tr>\n    <tr>\n      <th>freq</th>\n      <td>1</td>\n      <td>1</td>\n      <td>94126</td>\n      <td>80704</td>\n      <td>55969</td>\n      <td>83291</td>\n      <td>171</td>\n      <td>1</td>\n      <td>51229</td>\n      <td>114613</td>\n      <td>...</td>\n      <td>12</td>\n      <td>12</td>\n      <td>101316</td>\n      <td>114613</td>\n      <td>2</td>\n      <td>230</td>\n      <td>10</td>\n      <td>NaN</td>\n      <td>30</td>\n      <td>114388</td>\n    </tr>\n  </tbody>\n</table>\n<p>4 rows × 30 columns</p>\n</div>"
     },
     "execution_count": 16,
     "metadata": {},
     "output_type": "execute_result"
    }
   ],
   "source": [
    "# 統計量と欠損値を確認\n",
    "data.describe()\n"
   ],
   "metadata": {
    "collapsed": false
   }
  },
  {
   "cell_type": "code",
   "execution_count": 17,
   "outputs": [
    {
     "data": {
      "text/plain": "sequenceNumber                   0\ncorporateNumber                  0\nprocess                          0\ncorrect                          0\nupdateDate                       0\nchangeDate                       0\nname                             0\nnameImageId                 113370\nkind                             0\nprefectureName                   0\ncityName                         0\nstreetNumber                    17\naddressImageId              113418\nprefectureCode                   0\ncityCode                         0\npostCode                       173\naddressOutside              114613\naddressOutsideImageId       114613\ncloseDate                   104536\ncloseCause                  104536\nsuccessorCorporateNumber    113947\nchangeCause                 113502\nassignmentDate                   0\nlatest                           0\nenName                      114381\nenPrefectureName            114383\nenCityName                  114383\nenAddressOutside            114613\nfurigana                     67993\nhihyoji                          0\ndtype: int64"
     },
     "execution_count": 17,
     "metadata": {},
     "output_type": "execute_result"
    }
   ],
   "source": [
    "data.isna().sum()"
   ],
   "metadata": {
    "collapsed": false
   }
  },
  {
   "cell_type": "code",
   "execution_count": 18,
   "outputs": [
    {
     "data": {
      "text/plain": "['mst_corp_kind.csv',\n 'mst_hihyoji.csv',\n '22_shizuoka_all_20210331.csv',\n 'diff_20210405.csv',\n 'diff_20210407.csv',\n 'diff_20210406.csv',\n 'diff_20210401.csv',\n 'mst_process_kbn.csv',\n 'mst_column_name.txt',\n 'mst_latest.csv',\n 'mst_closeCause.csv',\n 'diff_20210408.csv',\n 'diff_20210409.csv',\n 'mst_correct_kbn.csv']"
     },
     "execution_count": 18,
     "metadata": {},
     "output_type": "execute_result"
    }
   ],
   "source": [
    "import os\n",
    "os.listdir('data')"
   ],
   "metadata": {
    "collapsed": false
   }
  },
  {
   "cell_type": "code",
   "execution_count": 19,
   "outputs": [
    {
     "data": {
      "text/plain": "['data/diff_20210405.csv',\n 'data/diff_20210407.csv',\n 'data/diff_20210406.csv',\n 'data/diff_20210401.csv',\n 'data/diff_20210408.csv',\n 'data/diff_20210409.csv']"
     },
     "execution_count": 19,
     "metadata": {},
     "output_type": "execute_result"
    }
   ],
   "source": [
    "from glob import glob\n",
    "diff_files = glob('data/diff*.csv')\n",
    "diff_files"
   ],
   "metadata": {
    "collapsed": false
   }
  },
  {
   "cell_type": "code",
   "execution_count": 20,
   "outputs": [
    {
     "name": "stdout",
     "output_type": "stream",
     "text": [
      "2316\n"
     ]
    },
    {
     "data": {
      "text/plain": "  0              1   2  3           4           5                   6    7   \\\n0  1  1010001016019  71  0  2021-04-01  2021-03-01         株式会社国際漢方研究所  NaN   \n1  2  1010001092869  01  1  2021-04-01  2020-06-11  あさひ銀リテールファイナンス株式会社  NaN   \n2  3  1010001092869  21  0  2021-04-01  2021-03-22  あさひ銀リテールファイナンス株式会社  NaN   \n\n    8    9   ...   20                                                 21  \\\n0  301  東京都  ...  NaN  令和３年３月１日東京都渋谷区千駄ヶ谷五丁目２９番１１号ナカニシビル６０２号室株式会社Ｉｎｔｅ...   \n1  301  東京都  ...  NaN                                                NaN   \n2  301  東京都  ...  NaN                                                NaN   \n\n           22 23   24   25   26   27               28 29  \n0  2015-10-05  1  NaN  NaN  NaN  NaN  コクサイカンポウケンキュウショ  0  \n1  2020-06-11  0  NaN  NaN  NaN  NaN  アサヒギンリテールファイナンス  0  \n2  2020-06-11  1  NaN  NaN  NaN  NaN  アサヒギンリテールファイナンス  0  \n\n[3 rows x 30 columns]",
      "text/html": "<div>\n<style scoped>\n    .dataframe tbody tr th:only-of-type {\n        vertical-align: middle;\n    }\n\n    .dataframe tbody tr th {\n        vertical-align: top;\n    }\n\n    .dataframe thead th {\n        text-align: right;\n    }\n</style>\n<table border=\"1\" class=\"dataframe\">\n  <thead>\n    <tr style=\"text-align: right;\">\n      <th></th>\n      <th>0</th>\n      <th>1</th>\n      <th>2</th>\n      <th>3</th>\n      <th>4</th>\n      <th>5</th>\n      <th>6</th>\n      <th>7</th>\n      <th>8</th>\n      <th>9</th>\n      <th>...</th>\n      <th>20</th>\n      <th>21</th>\n      <th>22</th>\n      <th>23</th>\n      <th>24</th>\n      <th>25</th>\n      <th>26</th>\n      <th>27</th>\n      <th>28</th>\n      <th>29</th>\n    </tr>\n  </thead>\n  <tbody>\n    <tr>\n      <th>0</th>\n      <td>1</td>\n      <td>1010001016019</td>\n      <td>71</td>\n      <td>0</td>\n      <td>2021-04-01</td>\n      <td>2021-03-01</td>\n      <td>株式会社国際漢方研究所</td>\n      <td>NaN</td>\n      <td>301</td>\n      <td>東京都</td>\n      <td>...</td>\n      <td>NaN</td>\n      <td>令和３年３月１日東京都渋谷区千駄ヶ谷五丁目２９番１１号ナカニシビル６０２号室株式会社Ｉｎｔｅ...</td>\n      <td>2015-10-05</td>\n      <td>1</td>\n      <td>NaN</td>\n      <td>NaN</td>\n      <td>NaN</td>\n      <td>NaN</td>\n      <td>コクサイカンポウケンキュウショ</td>\n      <td>0</td>\n    </tr>\n    <tr>\n      <th>1</th>\n      <td>2</td>\n      <td>1010001092869</td>\n      <td>01</td>\n      <td>1</td>\n      <td>2021-04-01</td>\n      <td>2020-06-11</td>\n      <td>あさひ銀リテールファイナンス株式会社</td>\n      <td>NaN</td>\n      <td>301</td>\n      <td>東京都</td>\n      <td>...</td>\n      <td>NaN</td>\n      <td>NaN</td>\n      <td>2020-06-11</td>\n      <td>0</td>\n      <td>NaN</td>\n      <td>NaN</td>\n      <td>NaN</td>\n      <td>NaN</td>\n      <td>アサヒギンリテールファイナンス</td>\n      <td>0</td>\n    </tr>\n    <tr>\n      <th>2</th>\n      <td>3</td>\n      <td>1010001092869</td>\n      <td>21</td>\n      <td>0</td>\n      <td>2021-04-01</td>\n      <td>2021-03-22</td>\n      <td>あさひ銀リテールファイナンス株式会社</td>\n      <td>NaN</td>\n      <td>301</td>\n      <td>東京都</td>\n      <td>...</td>\n      <td>NaN</td>\n      <td>NaN</td>\n      <td>2020-06-11</td>\n      <td>1</td>\n      <td>NaN</td>\n      <td>NaN</td>\n      <td>NaN</td>\n      <td>NaN</td>\n      <td>アサヒギンリテールファイナンス</td>\n      <td>0</td>\n    </tr>\n  </tbody>\n</table>\n<p>3 rows × 30 columns</p>\n</div>"
     },
     "execution_count": 20,
     "metadata": {},
     "output_type": "execute_result"
    }
   ],
   "source": [
    "diff_files.sort()\n",
    "diff = pd.read_csv(diff_files[0], encoding='shift-jis', header=None, dtype=object)\n",
    "print(len(diff))\n",
    "diff.head(3)"
   ],
   "metadata": {
    "collapsed": false
   }
  },
  {
   "cell_type": "code",
   "execution_count": 23,
   "outputs": [
    {
     "name": "stdout",
     "output_type": "stream",
     "text": [
      "43\n"
     ]
    },
    {
     "data": {
      "text/plain": "    sequenceNumber corporateNumber process correct  updateDate  changeDate  \\\n107            108   1080001015906      01       1  2021-04-01  2015-10-05   \n108            109   1080001015906      12       1  2021-04-01  2021-03-30   \n109            110   1080002015434      01       1  2021-04-01  2015-10-05   \n\n            name nameImageId kind prefectureName  ...  \\\n107  株式会社エムケイテック         NaN  301            静岡県  ...   \n108  株式会社エムケイテック         NaN  301            静岡県  ...   \n109   有限会社ハイナンＤＣ         NaN  302            静岡県  ...   \n\n    successorCorporateNumber changeCause assignmentDate latest enName  \\\n107                      NaN         NaN     2015-10-05      0    NaN   \n108                      NaN         NaN     2015-10-05      1    NaN   \n109                      NaN         NaN     2015-10-05      1    NaN   \n\n    enPrefectureName enCityName enAddressOutside   furigana hihyoji  \n107              NaN        NaN              NaN    エムケイテック       0  \n108              NaN        NaN              NaN    エムケイテック       0  \n109              NaN        NaN              NaN  ハイナンディーシー       0  \n\n[3 rows x 30 columns]",
      "text/html": "<div>\n<style scoped>\n    .dataframe tbody tr th:only-of-type {\n        vertical-align: middle;\n    }\n\n    .dataframe tbody tr th {\n        vertical-align: top;\n    }\n\n    .dataframe thead th {\n        text-align: right;\n    }\n</style>\n<table border=\"1\" class=\"dataframe\">\n  <thead>\n    <tr style=\"text-align: right;\">\n      <th></th>\n      <th>sequenceNumber</th>\n      <th>corporateNumber</th>\n      <th>process</th>\n      <th>correct</th>\n      <th>updateDate</th>\n      <th>changeDate</th>\n      <th>name</th>\n      <th>nameImageId</th>\n      <th>kind</th>\n      <th>prefectureName</th>\n      <th>...</th>\n      <th>successorCorporateNumber</th>\n      <th>changeCause</th>\n      <th>assignmentDate</th>\n      <th>latest</th>\n      <th>enName</th>\n      <th>enPrefectureName</th>\n      <th>enCityName</th>\n      <th>enAddressOutside</th>\n      <th>furigana</th>\n      <th>hihyoji</th>\n    </tr>\n  </thead>\n  <tbody>\n    <tr>\n      <th>107</th>\n      <td>108</td>\n      <td>1080001015906</td>\n      <td>01</td>\n      <td>1</td>\n      <td>2021-04-01</td>\n      <td>2015-10-05</td>\n      <td>株式会社エムケイテック</td>\n      <td>NaN</td>\n      <td>301</td>\n      <td>静岡県</td>\n      <td>...</td>\n      <td>NaN</td>\n      <td>NaN</td>\n      <td>2015-10-05</td>\n      <td>0</td>\n      <td>NaN</td>\n      <td>NaN</td>\n      <td>NaN</td>\n      <td>NaN</td>\n      <td>エムケイテック</td>\n      <td>0</td>\n    </tr>\n    <tr>\n      <th>108</th>\n      <td>109</td>\n      <td>1080001015906</td>\n      <td>12</td>\n      <td>1</td>\n      <td>2021-04-01</td>\n      <td>2021-03-30</td>\n      <td>株式会社エムケイテック</td>\n      <td>NaN</td>\n      <td>301</td>\n      <td>静岡県</td>\n      <td>...</td>\n      <td>NaN</td>\n      <td>NaN</td>\n      <td>2015-10-05</td>\n      <td>1</td>\n      <td>NaN</td>\n      <td>NaN</td>\n      <td>NaN</td>\n      <td>NaN</td>\n      <td>エムケイテック</td>\n      <td>0</td>\n    </tr>\n    <tr>\n      <th>109</th>\n      <td>110</td>\n      <td>1080002015434</td>\n      <td>01</td>\n      <td>1</td>\n      <td>2021-04-01</td>\n      <td>2015-10-05</td>\n      <td>有限会社ハイナンＤＣ</td>\n      <td>NaN</td>\n      <td>302</td>\n      <td>静岡県</td>\n      <td>...</td>\n      <td>NaN</td>\n      <td>NaN</td>\n      <td>2015-10-05</td>\n      <td>1</td>\n      <td>NaN</td>\n      <td>NaN</td>\n      <td>NaN</td>\n      <td>NaN</td>\n      <td>ハイナンディーシー</td>\n      <td>0</td>\n    </tr>\n  </tbody>\n</table>\n<p>3 rows × 30 columns</p>\n</div>"
     },
     "execution_count": 23,
     "metadata": {},
     "output_type": "execute_result"
    }
   ],
   "source": [
    "# diffにカラムを追記\n",
    "diff.columns = columns\n",
    "# カラムの中から静岡県を選択する\n",
    "diff = diff.loc[diff['prefectureName'] == '静岡県']\n",
    "print(len(diff))\n",
    "diff.head(3)"
   ],
   "metadata": {
    "collapsed": false
   }
  },
  {
   "cell_type": "code",
   "execution_count": 24,
   "outputs": [
    {
     "name": "stdout",
     "output_type": "stream",
     "text": [
      "114613\n",
      "114613\n",
      "43\n"
     ]
    }
   ],
   "source": [
    "data_test = data\n",
    "print(len(data_test))\n",
    "print(len(data_test)) == len(data)\n",
    "print(len(diff))\n"
   ],
   "metadata": {
    "collapsed": false
   }
  },
  {
   "cell_type": "code",
   "execution_count": null,
   "outputs": [],
   "source": [],
   "metadata": {
    "collapsed": false
   }
  }
 ],
 "metadata": {
  "kernelspec": {
   "display_name": "Python 3",
   "language": "python",
   "name": "python3"
  },
  "language_info": {
   "codemirror_mode": {
    "name": "ipython",
    "version": 2
   },
   "file_extension": ".py",
   "mimetype": "text/x-python",
   "name": "python",
   "nbconvert_exporter": "python",
   "pygments_lexer": "ipython2",
   "version": "2.7.6"
  }
 },
 "nbformat": 4,
 "nbformat_minor": 0
}
