{
 "cells": [
  {
   "cell_type": "code",
   "execution_count": 5,
   "metadata": {
    "collapsed": true
   },
   "outputs": [
    {
     "data": {
      "text/plain": "0     object\n1     object\n2     object\n3     object\n4     object\n5     object\n6     object\n7     object\n8     object\n9     object\n10    object\n11    object\n12    object\n13    object\n14    object\n15    object\n16    object\n17    object\n18    object\n19    object\n20    object\n21    object\n22    object\n23    object\n24    object\n25    object\n26    object\n27    object\n28    object\n29    object\ndtype: object"
     },
     "execution_count": 5,
     "metadata": {},
     "output_type": "execute_result"
    }
   ],
   "source": [
    "import pandas as pd\n",
    "\n",
    "data = pd.read_csv(\"data/22_shizuoka_all_20210331.csv\" ,encoding='shift-jis',header=None, dtype=object)\n",
    "data.dtypes"
   ]
  },
  {
   "cell_type": "code",
   "execution_count": 6,
   "outputs": [
    {
     "data": {
      "text/plain": "Int64Index([ 0,  1,  2,  3,  4,  5,  6,  7,  8,  9, 10, 11, 12, 13, 14, 15, 16,\n            17, 18, 19, 20, 21, 22, 23, 24, 25, 26, 27, 28, 29],\n           dtype='int64')"
     },
     "execution_count": 6,
     "metadata": {},
     "output_type": "execute_result"
    }
   ],
   "source": [
    "data.columns"
   ],
   "metadata": {
    "collapsed": false
   }
  },
  {
   "cell_type": "code",
   "execution_count": 7,
   "outputs": [
    {
     "data": {
      "text/plain": "30"
     },
     "execution_count": 7,
     "metadata": {},
     "output_type": "execute_result"
    }
   ],
   "source": [
    "len(data.columns)"
   ],
   "metadata": {
    "collapsed": false
   }
  },
  {
   "cell_type": "code",
   "execution_count": 8,
   "outputs": [
    {
     "data": {
      "text/plain": "            0              1   2  3           4           5               6   \\\n0            1  1000013040008  01  1  2018-04-02  2015-10-05         静岡家庭裁判所   \n1            2  1000013050072  01  1  2018-04-02  2015-10-05         清水簡易裁判所   \n2            3  1000013050080  01  1  2018-04-02  2015-10-05         浜松簡易裁判所   \n3            4  1000020222119  01  1  2018-04-05  2015-10-05             磐田市   \n4            5  1000020222127  01  1  2018-04-05  2015-10-05             焼津市   \n...        ...            ...  .. ..         ...         ...             ...   \n114608  114609  9700150095744  01  0  2019-09-27  2019-08-22     久根共有財産管理委員会   \n114609  114610  9700150097253  01  0  2020-01-24  2019-12-26      静岡小児感染症研究会   \n114610  114611  9700150099530  01  0  2020-07-13  2020-06-23  北方領土返還要求静岡県民会議   \n114611  114612  9700150099852  01  0  2020-08-20  2020-07-22        両河内児童クラブ   \n114612  114613  9700150101659  01  0  2021-01-26  2021-01-14      静岡市茶業振興協議会   \n\n         7    8    9   ...   20   21          22 23                       24  \\\n0       NaN  101  静岡県  ...  NaN  NaN  2015-10-05  1    Shizuoka Family Court   \n1       NaN  101  静岡県  ...  NaN  NaN  2015-10-05  1    Shimizu Summary Court   \n2       NaN  101  静岡県  ...  NaN  NaN  2015-10-05  1  Hamamatsu Summary Court   \n3       NaN  201  静岡県  ...  NaN  NaN  2015-10-05  1               Iwata City   \n4       NaN  201  静岡県  ...  NaN  NaN  2015-10-05  1               Yaizu city   \n...     ...  ...  ...  ...  ...  ...         ... ..                      ...   \n114608  NaN  499  静岡県  ...  NaN  NaN  2019-08-22  1                      NaN   \n114609  NaN  499  静岡県  ...  NaN  NaN  2019-12-26  1                      NaN   \n114610  NaN  499  静岡県  ...  NaN  NaN  2020-06-23  1                      NaN   \n114611  NaN  499  静岡県  ...  NaN  NaN  2020-07-22  1                      NaN   \n114612  NaN  499  静岡県  ...  NaN  NaN  2021-01-14  1                      NaN   \n\n              25                                        26   27  \\\n0       Shizuoka      1-20, Jonaicho, Aoi ku, Shizuoka shi  NaN   \n1       Shizuoka  1-6-15, Tenjin, Shimizu ku, Shizuoka shi  NaN   \n2       Shizuoka      1-12-5, Chuo, Naka ku, Hamamatsu shi  NaN   \n3       Shizuoka                   3-1,Kounodai, Iwata shi  NaN   \n4       Shizuoka               2-16-32 Honmachi, Yaizu shi  NaN   \n...          ...                                       ...  ...   \n114608       NaN                                       NaN  NaN   \n114609       NaN                                       NaN  NaN   \n114610       NaN                                       NaN  NaN   \n114611       NaN                                       NaN  NaN   \n114612       NaN                                       NaN  NaN   \n\n                                  28 29  \n0                      シズオカカテイサイバンショ  0  \n1                       シミズカンイサイバンショ  0  \n2                      ハママツカンイサイバンショ  0  \n3                               イワタシ  0  \n4                               ヤイヅシ  0  \n...                              ... ..  \n114608           クネキヨウユウザイサンカンリイインカイ  0  \n114609        シズオカシヨウニカンセンシヨウケンキユウカイ  0  \n114610  ホツポウリヨウドヘンカンヨウキユウシズオカケンミンカイギ  0  \n114611                  リヨウゴウチジドウクラブ  0  \n114612          シズオカシチヤギヨウシンコウキヨウギカイ  0  \n\n[114613 rows x 30 columns]",
      "text/html": "<div>\n<style scoped>\n    .dataframe tbody tr th:only-of-type {\n        vertical-align: middle;\n    }\n\n    .dataframe tbody tr th {\n        vertical-align: top;\n    }\n\n    .dataframe thead th {\n        text-align: right;\n    }\n</style>\n<table border=\"1\" class=\"dataframe\">\n  <thead>\n    <tr style=\"text-align: right;\">\n      <th></th>\n      <th>0</th>\n      <th>1</th>\n      <th>2</th>\n      <th>3</th>\n      <th>4</th>\n      <th>5</th>\n      <th>6</th>\n      <th>7</th>\n      <th>8</th>\n      <th>9</th>\n      <th>...</th>\n      <th>20</th>\n      <th>21</th>\n      <th>22</th>\n      <th>23</th>\n      <th>24</th>\n      <th>25</th>\n      <th>26</th>\n      <th>27</th>\n      <th>28</th>\n      <th>29</th>\n    </tr>\n  </thead>\n  <tbody>\n    <tr>\n      <th>0</th>\n      <td>1</td>\n      <td>1000013040008</td>\n      <td>01</td>\n      <td>1</td>\n      <td>2018-04-02</td>\n      <td>2015-10-05</td>\n      <td>静岡家庭裁判所</td>\n      <td>NaN</td>\n      <td>101</td>\n      <td>静岡県</td>\n      <td>...</td>\n      <td>NaN</td>\n      <td>NaN</td>\n      <td>2015-10-05</td>\n      <td>1</td>\n      <td>Shizuoka Family Court</td>\n      <td>Shizuoka</td>\n      <td>1-20, Jonaicho, Aoi ku, Shizuoka shi</td>\n      <td>NaN</td>\n      <td>シズオカカテイサイバンショ</td>\n      <td>0</td>\n    </tr>\n    <tr>\n      <th>1</th>\n      <td>2</td>\n      <td>1000013050072</td>\n      <td>01</td>\n      <td>1</td>\n      <td>2018-04-02</td>\n      <td>2015-10-05</td>\n      <td>清水簡易裁判所</td>\n      <td>NaN</td>\n      <td>101</td>\n      <td>静岡県</td>\n      <td>...</td>\n      <td>NaN</td>\n      <td>NaN</td>\n      <td>2015-10-05</td>\n      <td>1</td>\n      <td>Shimizu Summary Court</td>\n      <td>Shizuoka</td>\n      <td>1-6-15, Tenjin, Shimizu ku, Shizuoka shi</td>\n      <td>NaN</td>\n      <td>シミズカンイサイバンショ</td>\n      <td>0</td>\n    </tr>\n    <tr>\n      <th>2</th>\n      <td>3</td>\n      <td>1000013050080</td>\n      <td>01</td>\n      <td>1</td>\n      <td>2018-04-02</td>\n      <td>2015-10-05</td>\n      <td>浜松簡易裁判所</td>\n      <td>NaN</td>\n      <td>101</td>\n      <td>静岡県</td>\n      <td>...</td>\n      <td>NaN</td>\n      <td>NaN</td>\n      <td>2015-10-05</td>\n      <td>1</td>\n      <td>Hamamatsu Summary Court</td>\n      <td>Shizuoka</td>\n      <td>1-12-5, Chuo, Naka ku, Hamamatsu shi</td>\n      <td>NaN</td>\n      <td>ハママツカンイサイバンショ</td>\n      <td>0</td>\n    </tr>\n    <tr>\n      <th>3</th>\n      <td>4</td>\n      <td>1000020222119</td>\n      <td>01</td>\n      <td>1</td>\n      <td>2018-04-05</td>\n      <td>2015-10-05</td>\n      <td>磐田市</td>\n      <td>NaN</td>\n      <td>201</td>\n      <td>静岡県</td>\n      <td>...</td>\n      <td>NaN</td>\n      <td>NaN</td>\n      <td>2015-10-05</td>\n      <td>1</td>\n      <td>Iwata City</td>\n      <td>Shizuoka</td>\n      <td>3-1,Kounodai, Iwata shi</td>\n      <td>NaN</td>\n      <td>イワタシ</td>\n      <td>0</td>\n    </tr>\n    <tr>\n      <th>4</th>\n      <td>5</td>\n      <td>1000020222127</td>\n      <td>01</td>\n      <td>1</td>\n      <td>2018-04-05</td>\n      <td>2015-10-05</td>\n      <td>焼津市</td>\n      <td>NaN</td>\n      <td>201</td>\n      <td>静岡県</td>\n      <td>...</td>\n      <td>NaN</td>\n      <td>NaN</td>\n      <td>2015-10-05</td>\n      <td>1</td>\n      <td>Yaizu city</td>\n      <td>Shizuoka</td>\n      <td>2-16-32 Honmachi, Yaizu shi</td>\n      <td>NaN</td>\n      <td>ヤイヅシ</td>\n      <td>0</td>\n    </tr>\n    <tr>\n      <th>...</th>\n      <td>...</td>\n      <td>...</td>\n      <td>...</td>\n      <td>...</td>\n      <td>...</td>\n      <td>...</td>\n      <td>...</td>\n      <td>...</td>\n      <td>...</td>\n      <td>...</td>\n      <td>...</td>\n      <td>...</td>\n      <td>...</td>\n      <td>...</td>\n      <td>...</td>\n      <td>...</td>\n      <td>...</td>\n      <td>...</td>\n      <td>...</td>\n      <td>...</td>\n      <td>...</td>\n    </tr>\n    <tr>\n      <th>114608</th>\n      <td>114609</td>\n      <td>9700150095744</td>\n      <td>01</td>\n      <td>0</td>\n      <td>2019-09-27</td>\n      <td>2019-08-22</td>\n      <td>久根共有財産管理委員会</td>\n      <td>NaN</td>\n      <td>499</td>\n      <td>静岡県</td>\n      <td>...</td>\n      <td>NaN</td>\n      <td>NaN</td>\n      <td>2019-08-22</td>\n      <td>1</td>\n      <td>NaN</td>\n      <td>NaN</td>\n      <td>NaN</td>\n      <td>NaN</td>\n      <td>クネキヨウユウザイサンカンリイインカイ</td>\n      <td>0</td>\n    </tr>\n    <tr>\n      <th>114609</th>\n      <td>114610</td>\n      <td>9700150097253</td>\n      <td>01</td>\n      <td>0</td>\n      <td>2020-01-24</td>\n      <td>2019-12-26</td>\n      <td>静岡小児感染症研究会</td>\n      <td>NaN</td>\n      <td>499</td>\n      <td>静岡県</td>\n      <td>...</td>\n      <td>NaN</td>\n      <td>NaN</td>\n      <td>2019-12-26</td>\n      <td>1</td>\n      <td>NaN</td>\n      <td>NaN</td>\n      <td>NaN</td>\n      <td>NaN</td>\n      <td>シズオカシヨウニカンセンシヨウケンキユウカイ</td>\n      <td>0</td>\n    </tr>\n    <tr>\n      <th>114610</th>\n      <td>114611</td>\n      <td>9700150099530</td>\n      <td>01</td>\n      <td>0</td>\n      <td>2020-07-13</td>\n      <td>2020-06-23</td>\n      <td>北方領土返還要求静岡県民会議</td>\n      <td>NaN</td>\n      <td>499</td>\n      <td>静岡県</td>\n      <td>...</td>\n      <td>NaN</td>\n      <td>NaN</td>\n      <td>2020-06-23</td>\n      <td>1</td>\n      <td>NaN</td>\n      <td>NaN</td>\n      <td>NaN</td>\n      <td>NaN</td>\n      <td>ホツポウリヨウドヘンカンヨウキユウシズオカケンミンカイギ</td>\n      <td>0</td>\n    </tr>\n    <tr>\n      <th>114611</th>\n      <td>114612</td>\n      <td>9700150099852</td>\n      <td>01</td>\n      <td>0</td>\n      <td>2020-08-20</td>\n      <td>2020-07-22</td>\n      <td>両河内児童クラブ</td>\n      <td>NaN</td>\n      <td>499</td>\n      <td>静岡県</td>\n      <td>...</td>\n      <td>NaN</td>\n      <td>NaN</td>\n      <td>2020-07-22</td>\n      <td>1</td>\n      <td>NaN</td>\n      <td>NaN</td>\n      <td>NaN</td>\n      <td>NaN</td>\n      <td>リヨウゴウチジドウクラブ</td>\n      <td>0</td>\n    </tr>\n    <tr>\n      <th>114612</th>\n      <td>114613</td>\n      <td>9700150101659</td>\n      <td>01</td>\n      <td>0</td>\n      <td>2021-01-26</td>\n      <td>2021-01-14</td>\n      <td>静岡市茶業振興協議会</td>\n      <td>NaN</td>\n      <td>499</td>\n      <td>静岡県</td>\n      <td>...</td>\n      <td>NaN</td>\n      <td>NaN</td>\n      <td>2021-01-14</td>\n      <td>1</td>\n      <td>NaN</td>\n      <td>NaN</td>\n      <td>NaN</td>\n      <td>NaN</td>\n      <td>シズオカシチヤギヨウシンコウキヨウギカイ</td>\n      <td>0</td>\n    </tr>\n  </tbody>\n</table>\n<p>114613 rows × 30 columns</p>\n</div>"
     },
     "execution_count": 8,
     "metadata": {},
     "output_type": "execute_result"
    }
   ],
   "source": [
    "data"
   ],
   "metadata": {
    "collapsed": false
   }
  },
  {
   "cell_type": "code",
   "execution_count": 9,
   "outputs": [
    {
     "data": {
      "text/plain": "0     object\n1     object\n2     object\n3     object\n4     object\n5     object\n6     object\n7     object\n8     object\n9     object\n10    object\n11    object\n12    object\n13    object\n14    object\n15    object\n16    object\n17    object\n18    object\n19    object\n20    object\n21    object\n22    object\n23    object\n24    object\n25    object\n26    object\n27    object\n28    object\n29    object\ndtype: object"
     },
     "execution_count": 9,
     "metadata": {},
     "output_type": "execute_result"
    }
   ],
   "source": [
    "data.dtypes"
   ],
   "metadata": {
    "collapsed": false
   }
  },
  {
   "cell_type": "code",
   "execution_count": 10,
   "outputs": [
    {
     "data": {
      "text/plain": "   column_id column_name_ja   column_name_en\n0          1           一連番号   sequenceNumber\n1          2           法人番号  corporateNumber\n2          3           処理区分          process\n3          4           訂正区分          correct\n4          5          更新年月日       updateDate",
      "text/html": "<div>\n<style scoped>\n    .dataframe tbody tr th:only-of-type {\n        vertical-align: middle;\n    }\n\n    .dataframe tbody tr th {\n        vertical-align: top;\n    }\n\n    .dataframe thead th {\n        text-align: right;\n    }\n</style>\n<table border=\"1\" class=\"dataframe\">\n  <thead>\n    <tr style=\"text-align: right;\">\n      <th></th>\n      <th>column_id</th>\n      <th>column_name_ja</th>\n      <th>column_name_en</th>\n    </tr>\n  </thead>\n  <tbody>\n    <tr>\n      <th>0</th>\n      <td>1</td>\n      <td>一連番号</td>\n      <td>sequenceNumber</td>\n    </tr>\n    <tr>\n      <th>1</th>\n      <td>2</td>\n      <td>法人番号</td>\n      <td>corporateNumber</td>\n    </tr>\n    <tr>\n      <th>2</th>\n      <td>3</td>\n      <td>処理区分</td>\n      <td>process</td>\n    </tr>\n    <tr>\n      <th>3</th>\n      <td>4</td>\n      <td>訂正区分</td>\n      <td>correct</td>\n    </tr>\n    <tr>\n      <th>4</th>\n      <td>5</td>\n      <td>更新年月日</td>\n      <td>updateDate</td>\n    </tr>\n  </tbody>\n</table>\n</div>"
     },
     "execution_count": 10,
     "metadata": {},
     "output_type": "execute_result"
    }
   ],
   "source": [
    "mst = pd.read_csv('data/mst_column_name.txt', encoding='shift-jis',sep='\\t')\n",
    "mst.head()"
   ],
   "metadata": {
    "collapsed": false
   }
  },
  {
   "cell_type": "code",
   "execution_count": 11,
   "outputs": [
    {
     "data": {
      "text/plain": "30"
     },
     "execution_count": 11,
     "metadata": {},
     "output_type": "execute_result"
    }
   ],
   "source": [
    "len(mst)"
   ],
   "metadata": {
    "collapsed": false
   }
  },
  {
   "cell_type": "code",
   "execution_count": 12,
   "outputs": [
    {
     "data": {
      "text/plain": "True"
     },
     "execution_count": 12,
     "metadata": {},
     "output_type": "execute_result"
    }
   ],
   "source": [
    "# ヘッダの項目数とレコード数の比較\n",
    "len(mst) == len(data.columns)"
   ],
   "metadata": {
    "collapsed": false
   }
  },
  {
   "cell_type": "code",
   "execution_count": 13,
   "outputs": [
    {
     "data": {
      "text/plain": "array(['sequenceNumber', 'corporateNumber', 'process', 'correct',\n       'updateDate', 'changeDate', 'name', 'nameImageId', 'kind',\n       'prefectureName', 'cityName', 'streetNumber', 'addressImageId',\n       'prefectureCode', 'cityCode', 'postCode', 'addressOutside',\n       'addressOutsideImageId', 'closeDate', 'closeCause',\n       'successorCorporateNumber', 'changeCause', 'assignmentDate',\n       'latest', 'enName', 'enPrefectureName', 'enCityName',\n       'enAddressOutside', 'furigana', 'hihyoji'], dtype=object)"
     },
     "execution_count": 13,
     "metadata": {},
     "output_type": "execute_result"
    }
   ],
   "source": [
    "# columnsの中から指定した列をヘッダにする処理\n",
    "columns = mst.column_name_en.values\n",
    "columns"
   ],
   "metadata": {
    "collapsed": false
   }
  },
  {
   "cell_type": "code",
   "execution_count": 14,
   "outputs": [
    {
     "data": {
      "text/plain": "  sequenceNumber corporateNumber process correct  updateDate  changeDate  \\\n0              1   1000013040008      01       1  2018-04-02  2015-10-05   \n1              2   1000013050072      01       1  2018-04-02  2015-10-05   \n2              3   1000013050080      01       1  2018-04-02  2015-10-05   \n3              4   1000020222119      01       1  2018-04-05  2015-10-05   \n4              5   1000020222127      01       1  2018-04-05  2015-10-05   \n\n      name nameImageId kind prefectureName  ... successorCorporateNumber  \\\n0  静岡家庭裁判所         NaN  101            静岡県  ...                      NaN   \n1  清水簡易裁判所         NaN  101            静岡県  ...                      NaN   \n2  浜松簡易裁判所         NaN  101            静岡県  ...                      NaN   \n3      磐田市         NaN  201            静岡県  ...                      NaN   \n4      焼津市         NaN  201            静岡県  ...                      NaN   \n\n  changeCause assignmentDate latest                   enName enPrefectureName  \\\n0         NaN     2015-10-05      1    Shizuoka Family Court         Shizuoka   \n1         NaN     2015-10-05      1    Shimizu Summary Court         Shizuoka   \n2         NaN     2015-10-05      1  Hamamatsu Summary Court         Shizuoka   \n3         NaN     2015-10-05      1               Iwata City         Shizuoka   \n4         NaN     2015-10-05      1               Yaizu city         Shizuoka   \n\n                                 enCityName enAddressOutside       furigana  \\\n0      1-20, Jonaicho, Aoi ku, Shizuoka shi              NaN  シズオカカテイサイバンショ   \n1  1-6-15, Tenjin, Shimizu ku, Shizuoka shi              NaN   シミズカンイサイバンショ   \n2      1-12-5, Chuo, Naka ku, Hamamatsu shi              NaN  ハママツカンイサイバンショ   \n3                   3-1,Kounodai, Iwata shi              NaN           イワタシ   \n4               2-16-32 Honmachi, Yaizu shi              NaN           ヤイヅシ   \n\n  hihyoji  \n0       0  \n1       0  \n2       0  \n3       0  \n4       0  \n\n[5 rows x 30 columns]",
      "text/html": "<div>\n<style scoped>\n    .dataframe tbody tr th:only-of-type {\n        vertical-align: middle;\n    }\n\n    .dataframe tbody tr th {\n        vertical-align: top;\n    }\n\n    .dataframe thead th {\n        text-align: right;\n    }\n</style>\n<table border=\"1\" class=\"dataframe\">\n  <thead>\n    <tr style=\"text-align: right;\">\n      <th></th>\n      <th>sequenceNumber</th>\n      <th>corporateNumber</th>\n      <th>process</th>\n      <th>correct</th>\n      <th>updateDate</th>\n      <th>changeDate</th>\n      <th>name</th>\n      <th>nameImageId</th>\n      <th>kind</th>\n      <th>prefectureName</th>\n      <th>...</th>\n      <th>successorCorporateNumber</th>\n      <th>changeCause</th>\n      <th>assignmentDate</th>\n      <th>latest</th>\n      <th>enName</th>\n      <th>enPrefectureName</th>\n      <th>enCityName</th>\n      <th>enAddressOutside</th>\n      <th>furigana</th>\n      <th>hihyoji</th>\n    </tr>\n  </thead>\n  <tbody>\n    <tr>\n      <th>0</th>\n      <td>1</td>\n      <td>1000013040008</td>\n      <td>01</td>\n      <td>1</td>\n      <td>2018-04-02</td>\n      <td>2015-10-05</td>\n      <td>静岡家庭裁判所</td>\n      <td>NaN</td>\n      <td>101</td>\n      <td>静岡県</td>\n      <td>...</td>\n      <td>NaN</td>\n      <td>NaN</td>\n      <td>2015-10-05</td>\n      <td>1</td>\n      <td>Shizuoka Family Court</td>\n      <td>Shizuoka</td>\n      <td>1-20, Jonaicho, Aoi ku, Shizuoka shi</td>\n      <td>NaN</td>\n      <td>シズオカカテイサイバンショ</td>\n      <td>0</td>\n    </tr>\n    <tr>\n      <th>1</th>\n      <td>2</td>\n      <td>1000013050072</td>\n      <td>01</td>\n      <td>1</td>\n      <td>2018-04-02</td>\n      <td>2015-10-05</td>\n      <td>清水簡易裁判所</td>\n      <td>NaN</td>\n      <td>101</td>\n      <td>静岡県</td>\n      <td>...</td>\n      <td>NaN</td>\n      <td>NaN</td>\n      <td>2015-10-05</td>\n      <td>1</td>\n      <td>Shimizu Summary Court</td>\n      <td>Shizuoka</td>\n      <td>1-6-15, Tenjin, Shimizu ku, Shizuoka shi</td>\n      <td>NaN</td>\n      <td>シミズカンイサイバンショ</td>\n      <td>0</td>\n    </tr>\n    <tr>\n      <th>2</th>\n      <td>3</td>\n      <td>1000013050080</td>\n      <td>01</td>\n      <td>1</td>\n      <td>2018-04-02</td>\n      <td>2015-10-05</td>\n      <td>浜松簡易裁判所</td>\n      <td>NaN</td>\n      <td>101</td>\n      <td>静岡県</td>\n      <td>...</td>\n      <td>NaN</td>\n      <td>NaN</td>\n      <td>2015-10-05</td>\n      <td>1</td>\n      <td>Hamamatsu Summary Court</td>\n      <td>Shizuoka</td>\n      <td>1-12-5, Chuo, Naka ku, Hamamatsu shi</td>\n      <td>NaN</td>\n      <td>ハママツカンイサイバンショ</td>\n      <td>0</td>\n    </tr>\n    <tr>\n      <th>3</th>\n      <td>4</td>\n      <td>1000020222119</td>\n      <td>01</td>\n      <td>1</td>\n      <td>2018-04-05</td>\n      <td>2015-10-05</td>\n      <td>磐田市</td>\n      <td>NaN</td>\n      <td>201</td>\n      <td>静岡県</td>\n      <td>...</td>\n      <td>NaN</td>\n      <td>NaN</td>\n      <td>2015-10-05</td>\n      <td>1</td>\n      <td>Iwata City</td>\n      <td>Shizuoka</td>\n      <td>3-1,Kounodai, Iwata shi</td>\n      <td>NaN</td>\n      <td>イワタシ</td>\n      <td>0</td>\n    </tr>\n    <tr>\n      <th>4</th>\n      <td>5</td>\n      <td>1000020222127</td>\n      <td>01</td>\n      <td>1</td>\n      <td>2018-04-05</td>\n      <td>2015-10-05</td>\n      <td>焼津市</td>\n      <td>NaN</td>\n      <td>201</td>\n      <td>静岡県</td>\n      <td>...</td>\n      <td>NaN</td>\n      <td>NaN</td>\n      <td>2015-10-05</td>\n      <td>1</td>\n      <td>Yaizu city</td>\n      <td>Shizuoka</td>\n      <td>2-16-32 Honmachi, Yaizu shi</td>\n      <td>NaN</td>\n      <td>ヤイヅシ</td>\n      <td>0</td>\n    </tr>\n  </tbody>\n</table>\n<p>5 rows × 30 columns</p>\n</div>"
     },
     "execution_count": 14,
     "metadata": {},
     "output_type": "execute_result"
    }
   ],
   "source": [
    "data.columns = columns\n",
    "data.head()"
   ],
   "metadata": {
    "collapsed": false
   }
  },
  {
   "cell_type": "code",
   "execution_count": 15,
   "outputs": [
    {
     "data": {
      "text/plain": "       sequenceNumber corporateNumber process correct  updateDate  changeDate  \\\ncount          114613          114613  114613  114613      114613      114613   \nunique         114613          114613       6       2        1316        1344   \ntop                 1   1000013040008      01       0  2015-11-13  2015-10-05   \nfreq                1               1   94126   80704       55969       83291   \n\n          name nameImageId    kind prefectureName  ...  \\\ncount   114613        1243  114613         114613  ...   \nunique  105857        1243       9              1  ...   \ntop       八幡神社    00067214     301            静岡県  ...   \nfreq       171           1   51229         114613  ...   \n\n       successorCorporateNumber  \\\ncount                       666   \nunique                      572   \ntop               8080001004480   \nfreq                         12   \n\n                                              changeCause assignmentDate  \\\ncount                                                1111         114613   \nunique                                               1051           1328   \ntop     平成２９年１２月１日静岡市駿河区富士見台一丁目２１番２２号富士見工業株式会社（8080001...     2015-10-05   \nfreq                                                   12         101316   \n\n        latest                  enName enPrefectureName  \\\ncount   114613                     232              230   \nunique       1                     231                1   \ntop          1  Kamiide financial ward         Shizuoka   \nfreq    114613                       2              230   \n\n                   enCityName enAddressOutside furigana hihyoji  \ncount                     230                0    46620  114613  \nunique                    129                0    41339       2  \ntop     2-1-1,oohara, Ito shi              NaN   ハチマングウ       0  \nfreq                       10              NaN       30  114388  \n\n[4 rows x 30 columns]",
      "text/html": "<div>\n<style scoped>\n    .dataframe tbody tr th:only-of-type {\n        vertical-align: middle;\n    }\n\n    .dataframe tbody tr th {\n        vertical-align: top;\n    }\n\n    .dataframe thead th {\n        text-align: right;\n    }\n</style>\n<table border=\"1\" class=\"dataframe\">\n  <thead>\n    <tr style=\"text-align: right;\">\n      <th></th>\n      <th>sequenceNumber</th>\n      <th>corporateNumber</th>\n      <th>process</th>\n      <th>correct</th>\n      <th>updateDate</th>\n      <th>changeDate</th>\n      <th>name</th>\n      <th>nameImageId</th>\n      <th>kind</th>\n      <th>prefectureName</th>\n      <th>...</th>\n      <th>successorCorporateNumber</th>\n      <th>changeCause</th>\n      <th>assignmentDate</th>\n      <th>latest</th>\n      <th>enName</th>\n      <th>enPrefectureName</th>\n      <th>enCityName</th>\n      <th>enAddressOutside</th>\n      <th>furigana</th>\n      <th>hihyoji</th>\n    </tr>\n  </thead>\n  <tbody>\n    <tr>\n      <th>count</th>\n      <td>114613</td>\n      <td>114613</td>\n      <td>114613</td>\n      <td>114613</td>\n      <td>114613</td>\n      <td>114613</td>\n      <td>114613</td>\n      <td>1243</td>\n      <td>114613</td>\n      <td>114613</td>\n      <td>...</td>\n      <td>666</td>\n      <td>1111</td>\n      <td>114613</td>\n      <td>114613</td>\n      <td>232</td>\n      <td>230</td>\n      <td>230</td>\n      <td>0</td>\n      <td>46620</td>\n      <td>114613</td>\n    </tr>\n    <tr>\n      <th>unique</th>\n      <td>114613</td>\n      <td>114613</td>\n      <td>6</td>\n      <td>2</td>\n      <td>1316</td>\n      <td>1344</td>\n      <td>105857</td>\n      <td>1243</td>\n      <td>9</td>\n      <td>1</td>\n      <td>...</td>\n      <td>572</td>\n      <td>1051</td>\n      <td>1328</td>\n      <td>1</td>\n      <td>231</td>\n      <td>1</td>\n      <td>129</td>\n      <td>0</td>\n      <td>41339</td>\n      <td>2</td>\n    </tr>\n    <tr>\n      <th>top</th>\n      <td>1</td>\n      <td>1000013040008</td>\n      <td>01</td>\n      <td>0</td>\n      <td>2015-11-13</td>\n      <td>2015-10-05</td>\n      <td>八幡神社</td>\n      <td>00067214</td>\n      <td>301</td>\n      <td>静岡県</td>\n      <td>...</td>\n      <td>8080001004480</td>\n      <td>平成２９年１２月１日静岡市駿河区富士見台一丁目２１番２２号富士見工業株式会社（8080001...</td>\n      <td>2015-10-05</td>\n      <td>1</td>\n      <td>Kamiide financial ward</td>\n      <td>Shizuoka</td>\n      <td>2-1-1,oohara, Ito shi</td>\n      <td>NaN</td>\n      <td>ハチマングウ</td>\n      <td>0</td>\n    </tr>\n    <tr>\n      <th>freq</th>\n      <td>1</td>\n      <td>1</td>\n      <td>94126</td>\n      <td>80704</td>\n      <td>55969</td>\n      <td>83291</td>\n      <td>171</td>\n      <td>1</td>\n      <td>51229</td>\n      <td>114613</td>\n      <td>...</td>\n      <td>12</td>\n      <td>12</td>\n      <td>101316</td>\n      <td>114613</td>\n      <td>2</td>\n      <td>230</td>\n      <td>10</td>\n      <td>NaN</td>\n      <td>30</td>\n      <td>114388</td>\n    </tr>\n  </tbody>\n</table>\n<p>4 rows × 30 columns</p>\n</div>"
     },
     "execution_count": 15,
     "metadata": {},
     "output_type": "execute_result"
    }
   ],
   "source": [
    "# 統計量と欠損値を確認\n",
    "data.describe()\n"
   ],
   "metadata": {
    "collapsed": false
   }
  },
  {
   "cell_type": "code",
   "execution_count": 16,
   "outputs": [
    {
     "data": {
      "text/plain": "sequenceNumber                   0\ncorporateNumber                  0\nprocess                          0\ncorrect                          0\nupdateDate                       0\nchangeDate                       0\nname                             0\nnameImageId                 113370\nkind                             0\nprefectureName                   0\ncityName                         0\nstreetNumber                    17\naddressImageId              113418\nprefectureCode                   0\ncityCode                         0\npostCode                       173\naddressOutside              114613\naddressOutsideImageId       114613\ncloseDate                   104536\ncloseCause                  104536\nsuccessorCorporateNumber    113947\nchangeCause                 113502\nassignmentDate                   0\nlatest                           0\nenName                      114381\nenPrefectureName            114383\nenCityName                  114383\nenAddressOutside            114613\nfurigana                     67993\nhihyoji                          0\ndtype: int64"
     },
     "execution_count": 16,
     "metadata": {},
     "output_type": "execute_result"
    }
   ],
   "source": [
    "data.isna().sum()"
   ],
   "metadata": {
    "collapsed": false
   }
  },
  {
   "cell_type": "code",
   "execution_count": 17,
   "outputs": [
    {
     "data": {
      "text/plain": "['mst_corp_kind.csv',\n 'mst_hihyoji.csv',\n '22_shizuoka_all_20210331.csv',\n 'diff_20210405.csv',\n 'diff_20210407.csv',\n 'diff_20210406.csv',\n 'diff_20210401.csv',\n 'mst_process_kbn.csv',\n 'mst_column_name.txt',\n 'mst_latest.csv',\n 'mst_closeCause.csv',\n 'diff_20210408.csv',\n 'diff_20210409.csv',\n 'mst_correct_kbn.csv']"
     },
     "execution_count": 17,
     "metadata": {},
     "output_type": "execute_result"
    }
   ],
   "source": [
    "import os\n",
    "os.listdir('data')"
   ],
   "metadata": {
    "collapsed": false
   }
  },
  {
   "cell_type": "code",
   "execution_count": 18,
   "outputs": [
    {
     "data": {
      "text/plain": "['data/diff_20210405.csv',\n 'data/diff_20210407.csv',\n 'data/diff_20210406.csv',\n 'data/diff_20210401.csv',\n 'data/diff_20210408.csv',\n 'data/diff_20210409.csv']"
     },
     "execution_count": 18,
     "metadata": {},
     "output_type": "execute_result"
    }
   ],
   "source": [
    "from glob import glob\n",
    "diff_files = glob('data/diff*.csv')\n",
    "diff_files"
   ],
   "metadata": {
    "collapsed": false
   }
  },
  {
   "cell_type": "code",
   "execution_count": 19,
   "outputs": [
    {
     "name": "stdout",
     "output_type": "stream",
     "text": [
      "2316\n"
     ]
    },
    {
     "data": {
      "text/plain": "  0              1   2  3           4           5                   6    7   \\\n0  1  1010001016019  71  0  2021-04-01  2021-03-01         株式会社国際漢方研究所  NaN   \n1  2  1010001092869  01  1  2021-04-01  2020-06-11  あさひ銀リテールファイナンス株式会社  NaN   \n2  3  1010001092869  21  0  2021-04-01  2021-03-22  あさひ銀リテールファイナンス株式会社  NaN   \n\n    8    9   ...   20                                                 21  \\\n0  301  東京都  ...  NaN  令和３年３月１日東京都渋谷区千駄ヶ谷五丁目２９番１１号ナカニシビル６０２号室株式会社Ｉｎｔｅ...   \n1  301  東京都  ...  NaN                                                NaN   \n2  301  東京都  ...  NaN                                                NaN   \n\n           22 23   24   25   26   27               28 29  \n0  2015-10-05  1  NaN  NaN  NaN  NaN  コクサイカンポウケンキュウショ  0  \n1  2020-06-11  0  NaN  NaN  NaN  NaN  アサヒギンリテールファイナンス  0  \n2  2020-06-11  1  NaN  NaN  NaN  NaN  アサヒギンリテールファイナンス  0  \n\n[3 rows x 30 columns]",
      "text/html": "<div>\n<style scoped>\n    .dataframe tbody tr th:only-of-type {\n        vertical-align: middle;\n    }\n\n    .dataframe tbody tr th {\n        vertical-align: top;\n    }\n\n    .dataframe thead th {\n        text-align: right;\n    }\n</style>\n<table border=\"1\" class=\"dataframe\">\n  <thead>\n    <tr style=\"text-align: right;\">\n      <th></th>\n      <th>0</th>\n      <th>1</th>\n      <th>2</th>\n      <th>3</th>\n      <th>4</th>\n      <th>5</th>\n      <th>6</th>\n      <th>7</th>\n      <th>8</th>\n      <th>9</th>\n      <th>...</th>\n      <th>20</th>\n      <th>21</th>\n      <th>22</th>\n      <th>23</th>\n      <th>24</th>\n      <th>25</th>\n      <th>26</th>\n      <th>27</th>\n      <th>28</th>\n      <th>29</th>\n    </tr>\n  </thead>\n  <tbody>\n    <tr>\n      <th>0</th>\n      <td>1</td>\n      <td>1010001016019</td>\n      <td>71</td>\n      <td>0</td>\n      <td>2021-04-01</td>\n      <td>2021-03-01</td>\n      <td>株式会社国際漢方研究所</td>\n      <td>NaN</td>\n      <td>301</td>\n      <td>東京都</td>\n      <td>...</td>\n      <td>NaN</td>\n      <td>令和３年３月１日東京都渋谷区千駄ヶ谷五丁目２９番１１号ナカニシビル６０２号室株式会社Ｉｎｔｅ...</td>\n      <td>2015-10-05</td>\n      <td>1</td>\n      <td>NaN</td>\n      <td>NaN</td>\n      <td>NaN</td>\n      <td>NaN</td>\n      <td>コクサイカンポウケンキュウショ</td>\n      <td>0</td>\n    </tr>\n    <tr>\n      <th>1</th>\n      <td>2</td>\n      <td>1010001092869</td>\n      <td>01</td>\n      <td>1</td>\n      <td>2021-04-01</td>\n      <td>2020-06-11</td>\n      <td>あさひ銀リテールファイナンス株式会社</td>\n      <td>NaN</td>\n      <td>301</td>\n      <td>東京都</td>\n      <td>...</td>\n      <td>NaN</td>\n      <td>NaN</td>\n      <td>2020-06-11</td>\n      <td>0</td>\n      <td>NaN</td>\n      <td>NaN</td>\n      <td>NaN</td>\n      <td>NaN</td>\n      <td>アサヒギンリテールファイナンス</td>\n      <td>0</td>\n    </tr>\n    <tr>\n      <th>2</th>\n      <td>3</td>\n      <td>1010001092869</td>\n      <td>21</td>\n      <td>0</td>\n      <td>2021-04-01</td>\n      <td>2021-03-22</td>\n      <td>あさひ銀リテールファイナンス株式会社</td>\n      <td>NaN</td>\n      <td>301</td>\n      <td>東京都</td>\n      <td>...</td>\n      <td>NaN</td>\n      <td>NaN</td>\n      <td>2020-06-11</td>\n      <td>1</td>\n      <td>NaN</td>\n      <td>NaN</td>\n      <td>NaN</td>\n      <td>NaN</td>\n      <td>アサヒギンリテールファイナンス</td>\n      <td>0</td>\n    </tr>\n  </tbody>\n</table>\n<p>3 rows × 30 columns</p>\n</div>"
     },
     "execution_count": 19,
     "metadata": {},
     "output_type": "execute_result"
    }
   ],
   "source": [
    "diff_files.sort()\n",
    "diff = pd.read_csv(diff_files[0], encoding='shift-jis', header=None, dtype=object)\n",
    "print(len(diff))\n",
    "diff.head(3)"
   ],
   "metadata": {
    "collapsed": false
   }
  },
  {
   "cell_type": "code",
   "execution_count": 20,
   "outputs": [
    {
     "name": "stdout",
     "output_type": "stream",
     "text": [
      "43\n"
     ]
    },
    {
     "data": {
      "text/plain": "    sequenceNumber corporateNumber process correct  updateDate  changeDate  \\\n107            108   1080001015906      01       1  2021-04-01  2015-10-05   \n108            109   1080001015906      12       1  2021-04-01  2021-03-30   \n109            110   1080002015434      01       1  2021-04-01  2015-10-05   \n\n            name nameImageId kind prefectureName  ...  \\\n107  株式会社エムケイテック         NaN  301            静岡県  ...   \n108  株式会社エムケイテック         NaN  301            静岡県  ...   \n109   有限会社ハイナンＤＣ         NaN  302            静岡県  ...   \n\n    successorCorporateNumber changeCause assignmentDate latest enName  \\\n107                      NaN         NaN     2015-10-05      0    NaN   \n108                      NaN         NaN     2015-10-05      1    NaN   \n109                      NaN         NaN     2015-10-05      1    NaN   \n\n    enPrefectureName enCityName enAddressOutside   furigana hihyoji  \n107              NaN        NaN              NaN    エムケイテック       0  \n108              NaN        NaN              NaN    エムケイテック       0  \n109              NaN        NaN              NaN  ハイナンディーシー       0  \n\n[3 rows x 30 columns]",
      "text/html": "<div>\n<style scoped>\n    .dataframe tbody tr th:only-of-type {\n        vertical-align: middle;\n    }\n\n    .dataframe tbody tr th {\n        vertical-align: top;\n    }\n\n    .dataframe thead th {\n        text-align: right;\n    }\n</style>\n<table border=\"1\" class=\"dataframe\">\n  <thead>\n    <tr style=\"text-align: right;\">\n      <th></th>\n      <th>sequenceNumber</th>\n      <th>corporateNumber</th>\n      <th>process</th>\n      <th>correct</th>\n      <th>updateDate</th>\n      <th>changeDate</th>\n      <th>name</th>\n      <th>nameImageId</th>\n      <th>kind</th>\n      <th>prefectureName</th>\n      <th>...</th>\n      <th>successorCorporateNumber</th>\n      <th>changeCause</th>\n      <th>assignmentDate</th>\n      <th>latest</th>\n      <th>enName</th>\n      <th>enPrefectureName</th>\n      <th>enCityName</th>\n      <th>enAddressOutside</th>\n      <th>furigana</th>\n      <th>hihyoji</th>\n    </tr>\n  </thead>\n  <tbody>\n    <tr>\n      <th>107</th>\n      <td>108</td>\n      <td>1080001015906</td>\n      <td>01</td>\n      <td>1</td>\n      <td>2021-04-01</td>\n      <td>2015-10-05</td>\n      <td>株式会社エムケイテック</td>\n      <td>NaN</td>\n      <td>301</td>\n      <td>静岡県</td>\n      <td>...</td>\n      <td>NaN</td>\n      <td>NaN</td>\n      <td>2015-10-05</td>\n      <td>0</td>\n      <td>NaN</td>\n      <td>NaN</td>\n      <td>NaN</td>\n      <td>NaN</td>\n      <td>エムケイテック</td>\n      <td>0</td>\n    </tr>\n    <tr>\n      <th>108</th>\n      <td>109</td>\n      <td>1080001015906</td>\n      <td>12</td>\n      <td>1</td>\n      <td>2021-04-01</td>\n      <td>2021-03-30</td>\n      <td>株式会社エムケイテック</td>\n      <td>NaN</td>\n      <td>301</td>\n      <td>静岡県</td>\n      <td>...</td>\n      <td>NaN</td>\n      <td>NaN</td>\n      <td>2015-10-05</td>\n      <td>1</td>\n      <td>NaN</td>\n      <td>NaN</td>\n      <td>NaN</td>\n      <td>NaN</td>\n      <td>エムケイテック</td>\n      <td>0</td>\n    </tr>\n    <tr>\n      <th>109</th>\n      <td>110</td>\n      <td>1080002015434</td>\n      <td>01</td>\n      <td>1</td>\n      <td>2021-04-01</td>\n      <td>2015-10-05</td>\n      <td>有限会社ハイナンＤＣ</td>\n      <td>NaN</td>\n      <td>302</td>\n      <td>静岡県</td>\n      <td>...</td>\n      <td>NaN</td>\n      <td>NaN</td>\n      <td>2015-10-05</td>\n      <td>1</td>\n      <td>NaN</td>\n      <td>NaN</td>\n      <td>NaN</td>\n      <td>NaN</td>\n      <td>ハイナンディーシー</td>\n      <td>0</td>\n    </tr>\n  </tbody>\n</table>\n<p>3 rows × 30 columns</p>\n</div>"
     },
     "execution_count": 20,
     "metadata": {},
     "output_type": "execute_result"
    }
   ],
   "source": [
    "# diffにカラムを追記\n",
    "diff.columns = columns\n",
    "# カラムの中から静岡県を選択する\n",
    "diff = diff.loc[diff['prefectureName'] == '静岡県']\n",
    "print(len(diff))\n",
    "diff.head(3)"
   ],
   "metadata": {
    "collapsed": false
   }
  },
  {
   "cell_type": "code",
   "execution_count": 21,
   "outputs": [
    {
     "name": "stdout",
     "output_type": "stream",
     "text": [
      "114613\n",
      "114613\n",
      "43\n",
      "114656\n"
     ]
    },
    {
     "name": "stderr",
     "output_type": "stream",
     "text": [
      "/var/folders/27/ydgmxlhx53s5rgdv9pqq_fbc0000gn/T/ipykernel_11147/25404775.py:5: FutureWarning: The frame.append method is deprecated and will be removed from pandas in a future version. Use pandas.concat instead.\n",
      "  data_test = data_test.append(diff) # 静岡県でソートしたデータを追加\n"
     ]
    },
    {
     "data": {
      "text/plain": "     sequenceNumber corporateNumber process correct  updateDate  changeDate  \\\n2159           2160   9080401024929      01       0  2021-04-01  2021-04-01   \n2160           2161   9080402007726      01       1  2021-04-01  2015-10-05   \n2161           2162   9080402021917      21       0  2021-04-01  2021-03-30   \n\n          name nameImageId kind prefectureName  ... successorCorporateNumber  \\\n2159  株式会社リガーレ         NaN  301            静岡県  ...                      NaN   \n2160  有限会社丸信商店         NaN  302            静岡県  ...                      NaN   \n2161  有限会社岡本商会         NaN  302            静岡県  ...                      NaN   \n\n     changeCause assignmentDate latest enName enPrefectureName enCityName  \\\n2159         NaN     2021-04-01      1    NaN              NaN        NaN   \n2160         NaN     2015-10-05      1    NaN              NaN        NaN   \n2161         NaN     2015-10-05      1    NaN              NaN        NaN   \n\n     enAddressOutside   furigana hihyoji  \n2159              NaN       リガーレ       0  \n2160              NaN  マルシンショウテン       0  \n2161              NaN  オカモトショウカイ       0  \n\n[3 rows x 30 columns]",
      "text/html": "<div>\n<style scoped>\n    .dataframe tbody tr th:only-of-type {\n        vertical-align: middle;\n    }\n\n    .dataframe tbody tr th {\n        vertical-align: top;\n    }\n\n    .dataframe thead th {\n        text-align: right;\n    }\n</style>\n<table border=\"1\" class=\"dataframe\">\n  <thead>\n    <tr style=\"text-align: right;\">\n      <th></th>\n      <th>sequenceNumber</th>\n      <th>corporateNumber</th>\n      <th>process</th>\n      <th>correct</th>\n      <th>updateDate</th>\n      <th>changeDate</th>\n      <th>name</th>\n      <th>nameImageId</th>\n      <th>kind</th>\n      <th>prefectureName</th>\n      <th>...</th>\n      <th>successorCorporateNumber</th>\n      <th>changeCause</th>\n      <th>assignmentDate</th>\n      <th>latest</th>\n      <th>enName</th>\n      <th>enPrefectureName</th>\n      <th>enCityName</th>\n      <th>enAddressOutside</th>\n      <th>furigana</th>\n      <th>hihyoji</th>\n    </tr>\n  </thead>\n  <tbody>\n    <tr>\n      <th>2159</th>\n      <td>2160</td>\n      <td>9080401024929</td>\n      <td>01</td>\n      <td>0</td>\n      <td>2021-04-01</td>\n      <td>2021-04-01</td>\n      <td>株式会社リガーレ</td>\n      <td>NaN</td>\n      <td>301</td>\n      <td>静岡県</td>\n      <td>...</td>\n      <td>NaN</td>\n      <td>NaN</td>\n      <td>2021-04-01</td>\n      <td>1</td>\n      <td>NaN</td>\n      <td>NaN</td>\n      <td>NaN</td>\n      <td>NaN</td>\n      <td>リガーレ</td>\n      <td>0</td>\n    </tr>\n    <tr>\n      <th>2160</th>\n      <td>2161</td>\n      <td>9080402007726</td>\n      <td>01</td>\n      <td>1</td>\n      <td>2021-04-01</td>\n      <td>2015-10-05</td>\n      <td>有限会社丸信商店</td>\n      <td>NaN</td>\n      <td>302</td>\n      <td>静岡県</td>\n      <td>...</td>\n      <td>NaN</td>\n      <td>NaN</td>\n      <td>2015-10-05</td>\n      <td>1</td>\n      <td>NaN</td>\n      <td>NaN</td>\n      <td>NaN</td>\n      <td>NaN</td>\n      <td>マルシンショウテン</td>\n      <td>0</td>\n    </tr>\n    <tr>\n      <th>2161</th>\n      <td>2162</td>\n      <td>9080402021917</td>\n      <td>21</td>\n      <td>0</td>\n      <td>2021-04-01</td>\n      <td>2021-03-30</td>\n      <td>有限会社岡本商会</td>\n      <td>NaN</td>\n      <td>302</td>\n      <td>静岡県</td>\n      <td>...</td>\n      <td>NaN</td>\n      <td>NaN</td>\n      <td>2015-10-05</td>\n      <td>1</td>\n      <td>NaN</td>\n      <td>NaN</td>\n      <td>NaN</td>\n      <td>NaN</td>\n      <td>オカモトショウカイ</td>\n      <td>0</td>\n    </tr>\n  </tbody>\n</table>\n<p>3 rows × 30 columns</p>\n</div>"
     },
     "execution_count": 21,
     "metadata": {},
     "output_type": "execute_result"
    }
   ],
   "source": [
    "data_test = data\n",
    "print(len(data_test))\n",
    "print(len(data_test)) == len(data)\n",
    "print(len(diff))\n",
    "data_test = data_test.append(diff) # 静岡県でソートしたデータを追加\n",
    "print(len(data_test))\n",
    "data_test.tail(3)\n"
   ],
   "metadata": {
    "collapsed": false
   }
  },
  {
   "cell_type": "code",
   "execution_count": 23,
   "outputs": [
    {
     "name": "stderr",
     "output_type": "stream",
     "text": [
      "/var/folders/27/ydgmxlhx53s5rgdv9pqq_fbc0000gn/T/ipykernel_11147/1487644602.py:7: FutureWarning: The frame.append method is deprecated and will be removed from pandas in a future version. Use pandas.concat instead.\n",
      "  data = data.append(diff)\n",
      "/var/folders/27/ydgmxlhx53s5rgdv9pqq_fbc0000gn/T/ipykernel_11147/1487644602.py:7: FutureWarning: The frame.append method is deprecated and will be removed from pandas in a future version. Use pandas.concat instead.\n",
      "  data = data.append(diff)\n",
      "/var/folders/27/ydgmxlhx53s5rgdv9pqq_fbc0000gn/T/ipykernel_11147/1487644602.py:7: FutureWarning: The frame.append method is deprecated and will be removed from pandas in a future version. Use pandas.concat instead.\n",
      "  data = data.append(diff)\n",
      "/var/folders/27/ydgmxlhx53s5rgdv9pqq_fbc0000gn/T/ipykernel_11147/1487644602.py:7: FutureWarning: The frame.append method is deprecated and will be removed from pandas in a future version. Use pandas.concat instead.\n",
      "  data = data.append(diff)\n",
      "/var/folders/27/ydgmxlhx53s5rgdv9pqq_fbc0000gn/T/ipykernel_11147/1487644602.py:7: FutureWarning: The frame.append method is deprecated and will be removed from pandas in a future version. Use pandas.concat instead.\n",
      "  data = data.append(diff)\n",
      "/var/folders/27/ydgmxlhx53s5rgdv9pqq_fbc0000gn/T/ipykernel_11147/1487644602.py:7: FutureWarning: The frame.append method is deprecated and will be removed from pandas in a future version. Use pandas.concat instead.\n",
      "  data = data.append(diff)\n"
     ]
    },
    {
     "data": {
      "text/plain": "       sequenceNumber corporateNumber process correct  updateDate  changeDate  \\\ncount          115427          115427  115427  115427      115427      115427   \nunique         114613          114758       6       2        1322        1351   \ntop              3032   7080402010509      01       0  2015-11-13  2015-10-05   \nfreq                7               9   94670   81194       55969       83531   \n\n          name nameImageId    kind prefectureName  ...  \\\ncount   115427        1249  115427         115427  ...   \nunique  106019        1245       9              1  ...   \ntop       八幡神社    00067824     301            静岡県  ...   \nfreq       171           3   51719         115427  ...   \n\n       successorCorporateNumber  \\\ncount                       690   \nunique                      581   \ntop               8080001004480   \nfreq                         12   \n\n                                              changeCause assignmentDate  \\\ncount                                                1149         115427   \nunique                                               1067           1334   \ntop     平成２９年１２月１日静岡市駿河区富士見台一丁目２１番２２号富士見工業株式会社（8080001...     2015-10-05   \nfreq                                                   12         101776   \n\n        latest        enName enPrefectureName                enCityName  \\\ncount   115427           234              232                       232   \nunique       2           232                1                       130   \ntop          1  FSP Co.,Ltd.         Shizuoka  212-2,Tanaka, Kawazu cho   \nfreq    115357             2              232                        10   \n\n       enAddressOutside furigana hihyoji  \ncount                 0    47416  115427  \nunique                0    41577       2  \ntop                 NaN   ハチマングウ       0  \nfreq                NaN       30  115202  \n\n[4 rows x 30 columns]",
      "text/html": "<div>\n<style scoped>\n    .dataframe tbody tr th:only-of-type {\n        vertical-align: middle;\n    }\n\n    .dataframe tbody tr th {\n        vertical-align: top;\n    }\n\n    .dataframe thead th {\n        text-align: right;\n    }\n</style>\n<table border=\"1\" class=\"dataframe\">\n  <thead>\n    <tr style=\"text-align: right;\">\n      <th></th>\n      <th>sequenceNumber</th>\n      <th>corporateNumber</th>\n      <th>process</th>\n      <th>correct</th>\n      <th>updateDate</th>\n      <th>changeDate</th>\n      <th>name</th>\n      <th>nameImageId</th>\n      <th>kind</th>\n      <th>prefectureName</th>\n      <th>...</th>\n      <th>successorCorporateNumber</th>\n      <th>changeCause</th>\n      <th>assignmentDate</th>\n      <th>latest</th>\n      <th>enName</th>\n      <th>enPrefectureName</th>\n      <th>enCityName</th>\n      <th>enAddressOutside</th>\n      <th>furigana</th>\n      <th>hihyoji</th>\n    </tr>\n  </thead>\n  <tbody>\n    <tr>\n      <th>count</th>\n      <td>115427</td>\n      <td>115427</td>\n      <td>115427</td>\n      <td>115427</td>\n      <td>115427</td>\n      <td>115427</td>\n      <td>115427</td>\n      <td>1249</td>\n      <td>115427</td>\n      <td>115427</td>\n      <td>...</td>\n      <td>690</td>\n      <td>1149</td>\n      <td>115427</td>\n      <td>115427</td>\n      <td>234</td>\n      <td>232</td>\n      <td>232</td>\n      <td>0</td>\n      <td>47416</td>\n      <td>115427</td>\n    </tr>\n    <tr>\n      <th>unique</th>\n      <td>114613</td>\n      <td>114758</td>\n      <td>6</td>\n      <td>2</td>\n      <td>1322</td>\n      <td>1351</td>\n      <td>106019</td>\n      <td>1245</td>\n      <td>9</td>\n      <td>1</td>\n      <td>...</td>\n      <td>581</td>\n      <td>1067</td>\n      <td>1334</td>\n      <td>2</td>\n      <td>232</td>\n      <td>1</td>\n      <td>130</td>\n      <td>0</td>\n      <td>41577</td>\n      <td>2</td>\n    </tr>\n    <tr>\n      <th>top</th>\n      <td>3032</td>\n      <td>7080402010509</td>\n      <td>01</td>\n      <td>0</td>\n      <td>2015-11-13</td>\n      <td>2015-10-05</td>\n      <td>八幡神社</td>\n      <td>00067824</td>\n      <td>301</td>\n      <td>静岡県</td>\n      <td>...</td>\n      <td>8080001004480</td>\n      <td>平成２９年１２月１日静岡市駿河区富士見台一丁目２１番２２号富士見工業株式会社（8080001...</td>\n      <td>2015-10-05</td>\n      <td>1</td>\n      <td>FSP Co.,Ltd.</td>\n      <td>Shizuoka</td>\n      <td>212-2,Tanaka, Kawazu cho</td>\n      <td>NaN</td>\n      <td>ハチマングウ</td>\n      <td>0</td>\n    </tr>\n    <tr>\n      <th>freq</th>\n      <td>7</td>\n      <td>9</td>\n      <td>94670</td>\n      <td>81194</td>\n      <td>55969</td>\n      <td>83531</td>\n      <td>171</td>\n      <td>3</td>\n      <td>51719</td>\n      <td>115427</td>\n      <td>...</td>\n      <td>12</td>\n      <td>12</td>\n      <td>101776</td>\n      <td>115357</td>\n      <td>2</td>\n      <td>232</td>\n      <td>10</td>\n      <td>NaN</td>\n      <td>30</td>\n      <td>115202</td>\n    </tr>\n  </tbody>\n</table>\n<p>4 rows × 30 columns</p>\n</div>"
     },
     "execution_count": 23,
     "metadata": {},
     "output_type": "execute_result"
    }
   ],
   "source": [
    "# p42\n",
    "\n",
    "for f in diff_files:\n",
    "    diff = pd.read_csv(f , encoding=\"shift-jis\", header=None, dtype=object)\n",
    "    diff.columns = columns\n",
    "    diff = diff.loc[diff[\"prefectureName\"] == \"静岡県\"]\n",
    "    data = data.append(diff)\n",
    "\n",
    "data.describe()"
   ],
   "metadata": {
    "collapsed": false
   }
  },
  {
   "cell_type": "code",
   "execution_count": 25,
   "outputs": [
    {
     "name": "stdout",
     "output_type": "stream",
     "text": [
      "     sequenceNumber corporateNumber process correct  updateDate  changeDate  \\\n",
      "107             108   1080001015906      01       1  2021-04-01  2015-10-05   \n",
      "108             109   1080001015906      12       1  2021-04-01  2021-03-30   \n",
      "109             110   1080002015434      01       1  2021-04-01  2015-10-05   \n",
      "110             111   1080105005588      12       0  2021-04-01  2021-03-25   \n",
      "113             114   1080403003401      21       0  2021-04-01  2021-03-02   \n",
      "...             ...             ...     ...     ...         ...         ...   \n",
      "3194           3195   9080001021673      01       1  2021-04-09  2017-07-07   \n",
      "3195           3196   9080101022431      01       0  2021-04-09  2021-04-09   \n",
      "3196           3197   9080102008933      01       1  2021-04-09  2015-10-05   \n",
      "3197           3198   9080402002859      21       0  2021-04-09  2021-04-01   \n",
      "3198           3199   9080402015836      12       0  2021-04-09  2021-04-01   \n",
      "\n",
      "                        name nameImageId kind prefectureName  ...  \\\n",
      "107              株式会社エムケイテック         NaN  301            静岡県  ...   \n",
      "108              株式会社エムケイテック         NaN  301            静岡県  ...   \n",
      "109               有限会社ハイナンＤＣ         NaN  302            静岡県  ...   \n",
      "110   認定特定非営利活動法人ＲＥＡＬＥ　ＷＯＲＬＤ         NaN  399            静岡県  ...   \n",
      "113          合同会社ポップスターインポート         NaN  305            静岡県  ...   \n",
      "...                      ...         ...  ...            ...  ...   \n",
      "3194                 株式会社ＡＣＴ         NaN  301            静岡県  ...   \n",
      "3195              株式会社ＬＥＳＱＵＡ         NaN  301            静岡県  ...   \n",
      "3196               有限会社サクラ急送         NaN  302            静岡県  ...   \n",
      "3197                  有限会社弘法         NaN  302            静岡県  ...   \n",
      "3198              有限会社エコワークス         NaN  302            静岡県  ...   \n",
      "\n",
      "     successorCorporateNumber  \\\n",
      "107                       NaN   \n",
      "108                       NaN   \n",
      "109                       NaN   \n",
      "110                       NaN   \n",
      "113             2080401020653   \n",
      "...                       ...   \n",
      "3194                      NaN   \n",
      "3195                      NaN   \n",
      "3196                      NaN   \n",
      "3197            8080401016019   \n",
      "3198                      NaN   \n",
      "\n",
      "                                            changeCause assignmentDate latest  \\\n",
      "107                                                 NaN     2015-10-05      0   \n",
      "108                                                 NaN     2015-10-05      1   \n",
      "109                                                 NaN     2015-10-05      1   \n",
      "110                                                 NaN     2015-12-11      1   \n",
      "113   令和３年３月２日浜松市中区元浜町３２番地の１株式会社ポップスタージャパン（208040102...     2017-02-17      1   \n",
      "...                                                 ...            ...    ...   \n",
      "3194                                                NaN     2017-07-07      1   \n",
      "3195                                                NaN     2021-04-09      1   \n",
      "3196                                                NaN     2015-10-05      1   \n",
      "3197  令和３年４月１日静岡県磐田市安久路二丁目２番地の２まごころ株式会社（808040101601...     2015-10-05      1   \n",
      "3198                                                NaN     2015-10-05      1   \n",
      "\n",
      "     enName enPrefectureName enCityName enAddressOutside     furigana hihyoji  \n",
      "107     NaN              NaN        NaN              NaN      エムケイテック       0  \n",
      "108     NaN              NaN        NaN              NaN      エムケイテック       0  \n",
      "109     NaN              NaN        NaN              NaN    ハイナンディーシー       0  \n",
      "110     NaN              NaN        NaN              NaN     レアーレワールド       0  \n",
      "113     NaN              NaN        NaN              NaN  ポップスターインポート       0  \n",
      "...     ...              ...        ...              ...          ...     ...  \n",
      "3194    NaN              NaN        NaN              NaN          アクト       0  \n",
      "3195    NaN              NaN        NaN              NaN          レスカ       0  \n",
      "3196    NaN              NaN        NaN              NaN     サクラキュウソウ       0  \n",
      "3197    NaN              NaN        NaN              NaN         コウボウ       0  \n",
      "3198    NaN              NaN        NaN              NaN       エコワークス       0  \n",
      "\n",
      "[669 rows x 30 columns]\n"
     ]
    }
   ],
   "source": [
    "print(data[data[\"corporateNumber\"].duplicated()])"
   ],
   "metadata": {
    "collapsed": false
   }
  },
  {
   "cell_type": "code",
   "execution_count": 26,
   "outputs": [
    {
     "data": {
      "text/plain": "       sequenceNumber corporateNumber process correct  updateDate  changeDate  \\\ncount          114758          114758  114758  114758      114758      114758   \nunique         114388          114758       6       2        1322        1351   \ntop              3032   1000013040008      01       0  2015-11-13  2015-10-05   \nfreq                4               1   94176   80781       55849       83217   \n\n          name nameImageId    kind prefectureName  ...  \\\ncount   114758        1245  114758         114758  ...   \nunique  105992        1245       9              1  ...   \ntop       八幡神社    00067214     301            静岡県  ...   \nfreq       171           1   51331         114758  ...   \n\n       successorCorporateNumber  \\\ncount                       678   \nunique                      581   \ntop               8080001004480   \nfreq                         12   \n\n                                              changeCause assignmentDate  \\\ncount                                                1129         114758   \nunique                                               1066           1334   \ntop     平成２９年１２月１日静岡市駿河区富士見台一丁目２１番２２号富士見工業株式会社（8080001...     2015-10-05   \nfreq                                                   12         101319   \n\n        latest                  enName enPrefectureName  \\\ncount   114758                     233              231   \nunique       2                     232                1   \ntop          1  Kamiide financial ward         Shizuoka   \nfreq    114757                       2              231   \n\n                   enCityName enAddressOutside furigana hihyoji  \ncount                     231                0    46900  114758  \nunique                    130                0    41559       2  \ntop     2-1-1,oohara, Ito shi              NaN   ハチマングウ       0  \nfreq                       10              NaN       30  114533  \n\n[4 rows x 30 columns]",
      "text/html": "<div>\n<style scoped>\n    .dataframe tbody tr th:only-of-type {\n        vertical-align: middle;\n    }\n\n    .dataframe tbody tr th {\n        vertical-align: top;\n    }\n\n    .dataframe thead th {\n        text-align: right;\n    }\n</style>\n<table border=\"1\" class=\"dataframe\">\n  <thead>\n    <tr style=\"text-align: right;\">\n      <th></th>\n      <th>sequenceNumber</th>\n      <th>corporateNumber</th>\n      <th>process</th>\n      <th>correct</th>\n      <th>updateDate</th>\n      <th>changeDate</th>\n      <th>name</th>\n      <th>nameImageId</th>\n      <th>kind</th>\n      <th>prefectureName</th>\n      <th>...</th>\n      <th>successorCorporateNumber</th>\n      <th>changeCause</th>\n      <th>assignmentDate</th>\n      <th>latest</th>\n      <th>enName</th>\n      <th>enPrefectureName</th>\n      <th>enCityName</th>\n      <th>enAddressOutside</th>\n      <th>furigana</th>\n      <th>hihyoji</th>\n    </tr>\n  </thead>\n  <tbody>\n    <tr>\n      <th>count</th>\n      <td>114758</td>\n      <td>114758</td>\n      <td>114758</td>\n      <td>114758</td>\n      <td>114758</td>\n      <td>114758</td>\n      <td>114758</td>\n      <td>1245</td>\n      <td>114758</td>\n      <td>114758</td>\n      <td>...</td>\n      <td>678</td>\n      <td>1129</td>\n      <td>114758</td>\n      <td>114758</td>\n      <td>233</td>\n      <td>231</td>\n      <td>231</td>\n      <td>0</td>\n      <td>46900</td>\n      <td>114758</td>\n    </tr>\n    <tr>\n      <th>unique</th>\n      <td>114388</td>\n      <td>114758</td>\n      <td>6</td>\n      <td>2</td>\n      <td>1322</td>\n      <td>1351</td>\n      <td>105992</td>\n      <td>1245</td>\n      <td>9</td>\n      <td>1</td>\n      <td>...</td>\n      <td>581</td>\n      <td>1066</td>\n      <td>1334</td>\n      <td>2</td>\n      <td>232</td>\n      <td>1</td>\n      <td>130</td>\n      <td>0</td>\n      <td>41559</td>\n      <td>2</td>\n    </tr>\n    <tr>\n      <th>top</th>\n      <td>3032</td>\n      <td>1000013040008</td>\n      <td>01</td>\n      <td>0</td>\n      <td>2015-11-13</td>\n      <td>2015-10-05</td>\n      <td>八幡神社</td>\n      <td>00067214</td>\n      <td>301</td>\n      <td>静岡県</td>\n      <td>...</td>\n      <td>8080001004480</td>\n      <td>平成２９年１２月１日静岡市駿河区富士見台一丁目２１番２２号富士見工業株式会社（8080001...</td>\n      <td>2015-10-05</td>\n      <td>1</td>\n      <td>Kamiide financial ward</td>\n      <td>Shizuoka</td>\n      <td>2-1-1,oohara, Ito shi</td>\n      <td>NaN</td>\n      <td>ハチマングウ</td>\n      <td>0</td>\n    </tr>\n    <tr>\n      <th>freq</th>\n      <td>4</td>\n      <td>1</td>\n      <td>94176</td>\n      <td>80781</td>\n      <td>55849</td>\n      <td>83217</td>\n      <td>171</td>\n      <td>1</td>\n      <td>51331</td>\n      <td>114758</td>\n      <td>...</td>\n      <td>12</td>\n      <td>12</td>\n      <td>101319</td>\n      <td>114757</td>\n      <td>2</td>\n      <td>231</td>\n      <td>10</td>\n      <td>NaN</td>\n      <td>30</td>\n      <td>114533</td>\n    </tr>\n  </tbody>\n</table>\n<p>4 rows × 30 columns</p>\n</div>"
     },
     "execution_count": 26,
     "metadata": {},
     "output_type": "execute_result"
    }
   ],
   "source": [
    "data.drop_duplicates(subset=\"corporateNumber\", keep='last', inplace=True)\n",
    "data.describe()"
   ],
   "metadata": {
    "collapsed": false
   }
  },
  {
   "cell_type": "code",
   "execution_count": 27,
   "outputs": [
    {
     "data": {
      "text/plain": "sequenceNumber                   0\ncorporateNumber                  0\nprocess                          0\ncorrect                          0\nupdateDate                       0\nchangeDate                       0\nname                             0\nnameImageId                 113513\nkind                             0\nprefectureName                   0\ncityName                         0\nstreetNumber                    17\naddressImageId              113563\nprefectureCode                   0\ncityCode                         0\npostCode                       173\naddressOutside              114758\naddressOutsideImageId       114758\ncloseDate                   104650\ncloseCause                  104650\nsuccessorCorporateNumber    114080\nchangeCause                 113629\nassignmentDate                   0\nlatest                           0\nenName                      114525\nenPrefectureName            114527\nenCityName                  114527\nenAddressOutside            114758\nfurigana                     67858\nhihyoji                          0\ndtype: int64"
     },
     "execution_count": 27,
     "metadata": {},
     "output_type": "execute_result"
    }
   ],
   "source": [
    "data.isna().sum()"
   ],
   "metadata": {
    "collapsed": false
   }
  },
  {
   "cell_type": "code",
   "execution_count": 28,
   "outputs": [
    {
     "data": {
      "text/plain": "['mst_corp_kind.csv',\n 'mst_hihyoji.csv',\n '22_shizuoka_all_20210331.csv',\n 'diff_20210405.csv',\n 'diff_20210407.csv',\n 'diff_20210406.csv',\n 'diff_20210401.csv',\n 'mst_process_kbn.csv',\n 'mst_column_name.txt',\n 'mst_latest.csv',\n 'mst_closeCause.csv',\n 'diff_20210408.csv',\n 'diff_20210409.csv',\n 'mst_correct_kbn.csv']"
     },
     "execution_count": 28,
     "metadata": {},
     "output_type": "execute_result"
    }
   ],
   "source": [
    "os.listdir('data')"
   ],
   "metadata": {
    "collapsed": false
   }
  },
  {
   "cell_type": "code",
   "execution_count": 29,
   "outputs": [
    {
     "data": {
      "text/plain": "  process process_kbn_name\n0      01               新規\n1      11        商号又は名称の変更\n2      12         国内所在地の変更\n3      13         国外所在地の変更\n4      21         登記記録の閉鎖等\n5      22         登記記録の復活等\n6      71             吸収合併\n7      72           吸収合併無効\n8      81         商号の登記の抹消\n9      99               削除",
      "text/html": "<div>\n<style scoped>\n    .dataframe tbody tr th:only-of-type {\n        vertical-align: middle;\n    }\n\n    .dataframe tbody tr th {\n        vertical-align: top;\n    }\n\n    .dataframe thead th {\n        text-align: right;\n    }\n</style>\n<table border=\"1\" class=\"dataframe\">\n  <thead>\n    <tr style=\"text-align: right;\">\n      <th></th>\n      <th>process</th>\n      <th>process_kbn_name</th>\n    </tr>\n  </thead>\n  <tbody>\n    <tr>\n      <th>0</th>\n      <td>01</td>\n      <td>新規</td>\n    </tr>\n    <tr>\n      <th>1</th>\n      <td>11</td>\n      <td>商号又は名称の変更</td>\n    </tr>\n    <tr>\n      <th>2</th>\n      <td>12</td>\n      <td>国内所在地の変更</td>\n    </tr>\n    <tr>\n      <th>3</th>\n      <td>13</td>\n      <td>国外所在地の変更</td>\n    </tr>\n    <tr>\n      <th>4</th>\n      <td>21</td>\n      <td>登記記録の閉鎖等</td>\n    </tr>\n    <tr>\n      <th>5</th>\n      <td>22</td>\n      <td>登記記録の復活等</td>\n    </tr>\n    <tr>\n      <th>6</th>\n      <td>71</td>\n      <td>吸収合併</td>\n    </tr>\n    <tr>\n      <th>7</th>\n      <td>72</td>\n      <td>吸収合併無効</td>\n    </tr>\n    <tr>\n      <th>8</th>\n      <td>81</td>\n      <td>商号の登記の抹消</td>\n    </tr>\n    <tr>\n      <th>9</th>\n      <td>99</td>\n      <td>削除</td>\n    </tr>\n  </tbody>\n</table>\n</div>"
     },
     "execution_count": 29,
     "metadata": {},
     "output_type": "execute_result"
    }
   ],
   "source": [
    "mst_process_kbn = pd.read_csv('data/mst_process_kbn.csv', dtype=object)\n",
    "mst_process_kbn"
   ],
   "metadata": {
    "collapsed": false
   }
  },
  {
   "cell_type": "code",
   "execution_count": 30,
   "outputs": [
    {
     "name": "stdout",
     "output_type": "stream",
     "text": [
      "31\n"
     ]
    },
    {
     "data": {
      "text/plain": "  sequenceNumber corporateNumber process correct  updateDate  changeDate  \\\n0              1   1000013040008      01       1  2018-04-02  2015-10-05   \n1              2   1000013050072      01       1  2018-04-02  2015-10-05   \n2              3   1000013050080      01       1  2018-04-02  2015-10-05   \n\n      name nameImageId kind prefectureName  ... changeCause assignmentDate  \\\n0  静岡家庭裁判所         NaN  101            静岡県  ...         NaN     2015-10-05   \n1  清水簡易裁判所         NaN  101            静岡県  ...         NaN     2015-10-05   \n2  浜松簡易裁判所         NaN  101            静岡県  ...         NaN     2015-10-05   \n\n  latest                   enName enPrefectureName  \\\n0      1    Shizuoka Family Court         Shizuoka   \n1      1    Shimizu Summary Court         Shizuoka   \n2      1  Hamamatsu Summary Court         Shizuoka   \n\n                                 enCityName enAddressOutside       furigana  \\\n0      1-20, Jonaicho, Aoi ku, Shizuoka shi              NaN  シズオカカテイサイバンショ   \n1  1-6-15, Tenjin, Shimizu ku, Shizuoka shi              NaN   シミズカンイサイバンショ   \n2      1-12-5, Chuo, Naka ku, Hamamatsu shi              NaN  ハママツカンイサイバンショ   \n\n  hihyoji process_kbn_name  \n0       0               新規  \n1       0               新規  \n2       0               新規  \n\n[3 rows x 31 columns]",
      "text/html": "<div>\n<style scoped>\n    .dataframe tbody tr th:only-of-type {\n        vertical-align: middle;\n    }\n\n    .dataframe tbody tr th {\n        vertical-align: top;\n    }\n\n    .dataframe thead th {\n        text-align: right;\n    }\n</style>\n<table border=\"1\" class=\"dataframe\">\n  <thead>\n    <tr style=\"text-align: right;\">\n      <th></th>\n      <th>sequenceNumber</th>\n      <th>corporateNumber</th>\n      <th>process</th>\n      <th>correct</th>\n      <th>updateDate</th>\n      <th>changeDate</th>\n      <th>name</th>\n      <th>nameImageId</th>\n      <th>kind</th>\n      <th>prefectureName</th>\n      <th>...</th>\n      <th>changeCause</th>\n      <th>assignmentDate</th>\n      <th>latest</th>\n      <th>enName</th>\n      <th>enPrefectureName</th>\n      <th>enCityName</th>\n      <th>enAddressOutside</th>\n      <th>furigana</th>\n      <th>hihyoji</th>\n      <th>process_kbn_name</th>\n    </tr>\n  </thead>\n  <tbody>\n    <tr>\n      <th>0</th>\n      <td>1</td>\n      <td>1000013040008</td>\n      <td>01</td>\n      <td>1</td>\n      <td>2018-04-02</td>\n      <td>2015-10-05</td>\n      <td>静岡家庭裁判所</td>\n      <td>NaN</td>\n      <td>101</td>\n      <td>静岡県</td>\n      <td>...</td>\n      <td>NaN</td>\n      <td>2015-10-05</td>\n      <td>1</td>\n      <td>Shizuoka Family Court</td>\n      <td>Shizuoka</td>\n      <td>1-20, Jonaicho, Aoi ku, Shizuoka shi</td>\n      <td>NaN</td>\n      <td>シズオカカテイサイバンショ</td>\n      <td>0</td>\n      <td>新規</td>\n    </tr>\n    <tr>\n      <th>1</th>\n      <td>2</td>\n      <td>1000013050072</td>\n      <td>01</td>\n      <td>1</td>\n      <td>2018-04-02</td>\n      <td>2015-10-05</td>\n      <td>清水簡易裁判所</td>\n      <td>NaN</td>\n      <td>101</td>\n      <td>静岡県</td>\n      <td>...</td>\n      <td>NaN</td>\n      <td>2015-10-05</td>\n      <td>1</td>\n      <td>Shimizu Summary Court</td>\n      <td>Shizuoka</td>\n      <td>1-6-15, Tenjin, Shimizu ku, Shizuoka shi</td>\n      <td>NaN</td>\n      <td>シミズカンイサイバンショ</td>\n      <td>0</td>\n      <td>新規</td>\n    </tr>\n    <tr>\n      <th>2</th>\n      <td>3</td>\n      <td>1000013050080</td>\n      <td>01</td>\n      <td>1</td>\n      <td>2018-04-02</td>\n      <td>2015-10-05</td>\n      <td>浜松簡易裁判所</td>\n      <td>NaN</td>\n      <td>101</td>\n      <td>静岡県</td>\n      <td>...</td>\n      <td>NaN</td>\n      <td>2015-10-05</td>\n      <td>1</td>\n      <td>Hamamatsu Summary Court</td>\n      <td>Shizuoka</td>\n      <td>1-12-5, Chuo, Naka ku, Hamamatsu shi</td>\n      <td>NaN</td>\n      <td>ハママツカンイサイバンショ</td>\n      <td>0</td>\n      <td>新規</td>\n    </tr>\n  </tbody>\n</table>\n<p>3 rows × 31 columns</p>\n</div>"
     },
     "execution_count": 30,
     "metadata": {},
     "output_type": "execute_result"
    }
   ],
   "source": [
    "data = data.merge(mst_process_kbn, on=\"process\", how=\"left\")\n",
    "print(len(data.columns))\n",
    "data.head(3)"
   ],
   "metadata": {
    "collapsed": false
   }
  },
  {
   "cell_type": "code",
   "execution_count": 31,
   "outputs": [
    {
     "data": {
      "text/plain": "  correct correct_kbn_name\n0       0             訂正以外\n1       1               訂正",
      "text/html": "<div>\n<style scoped>\n    .dataframe tbody tr th:only-of-type {\n        vertical-align: middle;\n    }\n\n    .dataframe tbody tr th {\n        vertical-align: top;\n    }\n\n    .dataframe thead th {\n        text-align: right;\n    }\n</style>\n<table border=\"1\" class=\"dataframe\">\n  <thead>\n    <tr style=\"text-align: right;\">\n      <th></th>\n      <th>correct</th>\n      <th>correct_kbn_name</th>\n    </tr>\n  </thead>\n  <tbody>\n    <tr>\n      <th>0</th>\n      <td>0</td>\n      <td>訂正以外</td>\n    </tr>\n    <tr>\n      <th>1</th>\n      <td>1</td>\n      <td>訂正</td>\n    </tr>\n  </tbody>\n</table>\n</div>"
     },
     "execution_count": 31,
     "metadata": {},
     "output_type": "execute_result"
    }
   ],
   "source": [
    "# p50\n",
    "mst_correct_kbn = pd.read_csv('data/mst_correct_kbn.csv', encoding='shift-jis', dtype=object)\n",
    "mst_correct_kbn"
   ],
   "metadata": {
    "collapsed": false
   }
  },
  {
   "cell_type": "code",
   "execution_count": 32,
   "outputs": [
    {
     "name": "stdout",
     "output_type": "stream",
     "text": [
      "32\n"
     ]
    },
    {
     "data": {
      "text/plain": "  sequenceNumber corporateNumber process correct  updateDate  changeDate  \\\n0              1   1000013040008      01       1  2018-04-02  2015-10-05   \n1              2   1000013050072      01       1  2018-04-02  2015-10-05   \n2              3   1000013050080      01       1  2018-04-02  2015-10-05   \n\n      name nameImageId kind prefectureName  ... assignmentDate latest  \\\n0  静岡家庭裁判所         NaN  101            静岡県  ...     2015-10-05      1   \n1  清水簡易裁判所         NaN  101            静岡県  ...     2015-10-05      1   \n2  浜松簡易裁判所         NaN  101            静岡県  ...     2015-10-05      1   \n\n                    enName enPrefectureName  \\\n0    Shizuoka Family Court         Shizuoka   \n1    Shimizu Summary Court         Shizuoka   \n2  Hamamatsu Summary Court         Shizuoka   \n\n                                 enCityName enAddressOutside       furigana  \\\n0      1-20, Jonaicho, Aoi ku, Shizuoka shi              NaN  シズオカカテイサイバンショ   \n1  1-6-15, Tenjin, Shimizu ku, Shizuoka shi              NaN   シミズカンイサイバンショ   \n2      1-12-5, Chuo, Naka ku, Hamamatsu shi              NaN  ハママツカンイサイバンショ   \n\n  hihyoji process_kbn_name correct_kbn_name  \n0       0               新規               訂正  \n1       0               新規               訂正  \n2       0               新規               訂正  \n\n[3 rows x 32 columns]",
      "text/html": "<div>\n<style scoped>\n    .dataframe tbody tr th:only-of-type {\n        vertical-align: middle;\n    }\n\n    .dataframe tbody tr th {\n        vertical-align: top;\n    }\n\n    .dataframe thead th {\n        text-align: right;\n    }\n</style>\n<table border=\"1\" class=\"dataframe\">\n  <thead>\n    <tr style=\"text-align: right;\">\n      <th></th>\n      <th>sequenceNumber</th>\n      <th>corporateNumber</th>\n      <th>process</th>\n      <th>correct</th>\n      <th>updateDate</th>\n      <th>changeDate</th>\n      <th>name</th>\n      <th>nameImageId</th>\n      <th>kind</th>\n      <th>prefectureName</th>\n      <th>...</th>\n      <th>assignmentDate</th>\n      <th>latest</th>\n      <th>enName</th>\n      <th>enPrefectureName</th>\n      <th>enCityName</th>\n      <th>enAddressOutside</th>\n      <th>furigana</th>\n      <th>hihyoji</th>\n      <th>process_kbn_name</th>\n      <th>correct_kbn_name</th>\n    </tr>\n  </thead>\n  <tbody>\n    <tr>\n      <th>0</th>\n      <td>1</td>\n      <td>1000013040008</td>\n      <td>01</td>\n      <td>1</td>\n      <td>2018-04-02</td>\n      <td>2015-10-05</td>\n      <td>静岡家庭裁判所</td>\n      <td>NaN</td>\n      <td>101</td>\n      <td>静岡県</td>\n      <td>...</td>\n      <td>2015-10-05</td>\n      <td>1</td>\n      <td>Shizuoka Family Court</td>\n      <td>Shizuoka</td>\n      <td>1-20, Jonaicho, Aoi ku, Shizuoka shi</td>\n      <td>NaN</td>\n      <td>シズオカカテイサイバンショ</td>\n      <td>0</td>\n      <td>新規</td>\n      <td>訂正</td>\n    </tr>\n    <tr>\n      <th>1</th>\n      <td>2</td>\n      <td>1000013050072</td>\n      <td>01</td>\n      <td>1</td>\n      <td>2018-04-02</td>\n      <td>2015-10-05</td>\n      <td>清水簡易裁判所</td>\n      <td>NaN</td>\n      <td>101</td>\n      <td>静岡県</td>\n      <td>...</td>\n      <td>2015-10-05</td>\n      <td>1</td>\n      <td>Shimizu Summary Court</td>\n      <td>Shizuoka</td>\n      <td>1-6-15, Tenjin, Shimizu ku, Shizuoka shi</td>\n      <td>NaN</td>\n      <td>シミズカンイサイバンショ</td>\n      <td>0</td>\n      <td>新規</td>\n      <td>訂正</td>\n    </tr>\n    <tr>\n      <th>2</th>\n      <td>3</td>\n      <td>1000013050080</td>\n      <td>01</td>\n      <td>1</td>\n      <td>2018-04-02</td>\n      <td>2015-10-05</td>\n      <td>浜松簡易裁判所</td>\n      <td>NaN</td>\n      <td>101</td>\n      <td>静岡県</td>\n      <td>...</td>\n      <td>2015-10-05</td>\n      <td>1</td>\n      <td>Hamamatsu Summary Court</td>\n      <td>Shizuoka</td>\n      <td>1-12-5, Chuo, Naka ku, Hamamatsu shi</td>\n      <td>NaN</td>\n      <td>ハママツカンイサイバンショ</td>\n      <td>0</td>\n      <td>新規</td>\n      <td>訂正</td>\n    </tr>\n  </tbody>\n</table>\n<p>3 rows × 32 columns</p>\n</div>"
     },
     "execution_count": 32,
     "metadata": {},
     "output_type": "execute_result"
    }
   ],
   "source": [
    "data = data.merge(mst_correct_kbn, on='correct', how='left')\n",
    "print(len(data.columns))\n",
    "data.head(3)"
   ],
   "metadata": {
    "collapsed": false
   }
  },
  {
   "cell_type": "code",
   "execution_count": 34,
   "outputs": [
    {
     "data": {
      "text/plain": "  kind corp_kind_name\n0  101           国の機関\n1  201         地方公共団体\n2  301           株式会社\n3  302           有限会社\n4  303           合名会社\n5  304           合資会社\n6  305           合同会社\n7  399     その他の設立登記法人\n8  401          外国会社等\n9  499            その他",
      "text/html": "<div>\n<style scoped>\n    .dataframe tbody tr th:only-of-type {\n        vertical-align: middle;\n    }\n\n    .dataframe tbody tr th {\n        vertical-align: top;\n    }\n\n    .dataframe thead th {\n        text-align: right;\n    }\n</style>\n<table border=\"1\" class=\"dataframe\">\n  <thead>\n    <tr style=\"text-align: right;\">\n      <th></th>\n      <th>kind</th>\n      <th>corp_kind_name</th>\n    </tr>\n  </thead>\n  <tbody>\n    <tr>\n      <th>0</th>\n      <td>101</td>\n      <td>国の機関</td>\n    </tr>\n    <tr>\n      <th>1</th>\n      <td>201</td>\n      <td>地方公共団体</td>\n    </tr>\n    <tr>\n      <th>2</th>\n      <td>301</td>\n      <td>株式会社</td>\n    </tr>\n    <tr>\n      <th>3</th>\n      <td>302</td>\n      <td>有限会社</td>\n    </tr>\n    <tr>\n      <th>4</th>\n      <td>303</td>\n      <td>合名会社</td>\n    </tr>\n    <tr>\n      <th>5</th>\n      <td>304</td>\n      <td>合資会社</td>\n    </tr>\n    <tr>\n      <th>6</th>\n      <td>305</td>\n      <td>合同会社</td>\n    </tr>\n    <tr>\n      <th>7</th>\n      <td>399</td>\n      <td>その他の設立登記法人</td>\n    </tr>\n    <tr>\n      <th>8</th>\n      <td>401</td>\n      <td>外国会社等</td>\n    </tr>\n    <tr>\n      <th>9</th>\n      <td>499</td>\n      <td>その他</td>\n    </tr>\n  </tbody>\n</table>\n</div>"
     },
     "execution_count": 34,
     "metadata": {},
     "output_type": "execute_result"
    }
   ],
   "source": [
    "mst_corp_kind = pd.read_csv('data/mst_corp_kind.csv', dtype=object)\n",
    "mst_corp_kind"
   ],
   "metadata": {
    "collapsed": false
   }
  },
  {
   "cell_type": "code",
   "execution_count": 35,
   "outputs": [
    {
     "name": "stdout",
     "output_type": "stream",
     "text": [
      "33\n"
     ]
    },
    {
     "data": {
      "text/plain": "  sequenceNumber corporateNumber process correct  updateDate  changeDate  \\\n0              1   1000013040008      01       1  2018-04-02  2015-10-05   \n1              2   1000013050072      01       1  2018-04-02  2015-10-05   \n2              3   1000013050080      01       1  2018-04-02  2015-10-05   \n\n      name nameImageId kind prefectureName  ... latest  \\\n0  静岡家庭裁判所         NaN  101            静岡県  ...      1   \n1  清水簡易裁判所         NaN  101            静岡県  ...      1   \n2  浜松簡易裁判所         NaN  101            静岡県  ...      1   \n\n                    enName enPrefectureName  \\\n0    Shizuoka Family Court         Shizuoka   \n1    Shimizu Summary Court         Shizuoka   \n2  Hamamatsu Summary Court         Shizuoka   \n\n                                 enCityName enAddressOutside       furigana  \\\n0      1-20, Jonaicho, Aoi ku, Shizuoka shi              NaN  シズオカカテイサイバンショ   \n1  1-6-15, Tenjin, Shimizu ku, Shizuoka shi              NaN   シミズカンイサイバンショ   \n2      1-12-5, Chuo, Naka ku, Hamamatsu shi              NaN  ハママツカンイサイバンショ   \n\n  hihyoji process_kbn_name correct_kbn_name corp_kind_name  \n0       0               新規               訂正           国の機関  \n1       0               新規               訂正           国の機関  \n2       0               新規               訂正           国の機関  \n\n[3 rows x 33 columns]",
      "text/html": "<div>\n<style scoped>\n    .dataframe tbody tr th:only-of-type {\n        vertical-align: middle;\n    }\n\n    .dataframe tbody tr th {\n        vertical-align: top;\n    }\n\n    .dataframe thead th {\n        text-align: right;\n    }\n</style>\n<table border=\"1\" class=\"dataframe\">\n  <thead>\n    <tr style=\"text-align: right;\">\n      <th></th>\n      <th>sequenceNumber</th>\n      <th>corporateNumber</th>\n      <th>process</th>\n      <th>correct</th>\n      <th>updateDate</th>\n      <th>changeDate</th>\n      <th>name</th>\n      <th>nameImageId</th>\n      <th>kind</th>\n      <th>prefectureName</th>\n      <th>...</th>\n      <th>latest</th>\n      <th>enName</th>\n      <th>enPrefectureName</th>\n      <th>enCityName</th>\n      <th>enAddressOutside</th>\n      <th>furigana</th>\n      <th>hihyoji</th>\n      <th>process_kbn_name</th>\n      <th>correct_kbn_name</th>\n      <th>corp_kind_name</th>\n    </tr>\n  </thead>\n  <tbody>\n    <tr>\n      <th>0</th>\n      <td>1</td>\n      <td>1000013040008</td>\n      <td>01</td>\n      <td>1</td>\n      <td>2018-04-02</td>\n      <td>2015-10-05</td>\n      <td>静岡家庭裁判所</td>\n      <td>NaN</td>\n      <td>101</td>\n      <td>静岡県</td>\n      <td>...</td>\n      <td>1</td>\n      <td>Shizuoka Family Court</td>\n      <td>Shizuoka</td>\n      <td>1-20, Jonaicho, Aoi ku, Shizuoka shi</td>\n      <td>NaN</td>\n      <td>シズオカカテイサイバンショ</td>\n      <td>0</td>\n      <td>新規</td>\n      <td>訂正</td>\n      <td>国の機関</td>\n    </tr>\n    <tr>\n      <th>1</th>\n      <td>2</td>\n      <td>1000013050072</td>\n      <td>01</td>\n      <td>1</td>\n      <td>2018-04-02</td>\n      <td>2015-10-05</td>\n      <td>清水簡易裁判所</td>\n      <td>NaN</td>\n      <td>101</td>\n      <td>静岡県</td>\n      <td>...</td>\n      <td>1</td>\n      <td>Shimizu Summary Court</td>\n      <td>Shizuoka</td>\n      <td>1-6-15, Tenjin, Shimizu ku, Shizuoka shi</td>\n      <td>NaN</td>\n      <td>シミズカンイサイバンショ</td>\n      <td>0</td>\n      <td>新規</td>\n      <td>訂正</td>\n      <td>国の機関</td>\n    </tr>\n    <tr>\n      <th>2</th>\n      <td>3</td>\n      <td>1000013050080</td>\n      <td>01</td>\n      <td>1</td>\n      <td>2018-04-02</td>\n      <td>2015-10-05</td>\n      <td>浜松簡易裁判所</td>\n      <td>NaN</td>\n      <td>101</td>\n      <td>静岡県</td>\n      <td>...</td>\n      <td>1</td>\n      <td>Hamamatsu Summary Court</td>\n      <td>Shizuoka</td>\n      <td>1-12-5, Chuo, Naka ku, Hamamatsu shi</td>\n      <td>NaN</td>\n      <td>ハママツカンイサイバンショ</td>\n      <td>0</td>\n      <td>新規</td>\n      <td>訂正</td>\n      <td>国の機関</td>\n    </tr>\n  </tbody>\n</table>\n<p>3 rows × 33 columns</p>\n</div>"
     },
     "execution_count": 35,
     "metadata": {},
     "output_type": "execute_result"
    }
   ],
   "source": [
    "data = data.merge(mst_corp_kind, on='kind', how='left')\n",
    "print(len(data.columns))\n",
    "data.head(3)"
   ],
   "metadata": {
    "collapsed": false
   }
  },
  {
   "cell_type": "code",
   "execution_count": 36,
   "outputs": [
    {
     "data": {
      "text/plain": "  closeCause closeCause_name\n0         01          清算の結了等\n1         11        合併による解散等\n2         21        登記官による閉鎖\n3         31      その他の清算の結了等",
      "text/html": "<div>\n<style scoped>\n    .dataframe tbody tr th:only-of-type {\n        vertical-align: middle;\n    }\n\n    .dataframe tbody tr th {\n        vertical-align: top;\n    }\n\n    .dataframe thead th {\n        text-align: right;\n    }\n</style>\n<table border=\"1\" class=\"dataframe\">\n  <thead>\n    <tr style=\"text-align: right;\">\n      <th></th>\n      <th>closeCause</th>\n      <th>closeCause_name</th>\n    </tr>\n  </thead>\n  <tbody>\n    <tr>\n      <th>0</th>\n      <td>01</td>\n      <td>清算の結了等</td>\n    </tr>\n    <tr>\n      <th>1</th>\n      <td>11</td>\n      <td>合併による解散等</td>\n    </tr>\n    <tr>\n      <th>2</th>\n      <td>21</td>\n      <td>登記官による閉鎖</td>\n    </tr>\n    <tr>\n      <th>3</th>\n      <td>31</td>\n      <td>その他の清算の結了等</td>\n    </tr>\n  </tbody>\n</table>\n</div>"
     },
     "execution_count": 36,
     "metadata": {},
     "output_type": "execute_result"
    }
   ],
   "source": [
    "mst_close_cause = pd.read_csv('data/mst_closeCause.csv', dtype=object)\n",
    "mst_close_cause"
   ],
   "metadata": {
    "collapsed": false
   }
  },
  {
   "cell_type": "code",
   "execution_count": 37,
   "outputs": [
    {
     "name": "stdout",
     "output_type": "stream",
     "text": [
      "34\n"
     ]
    },
    {
     "data": {
      "text/plain": "  sequenceNumber corporateNumber process correct  updateDate  changeDate  \\\n0              1   1000013040008      01       1  2018-04-02  2015-10-05   \n1              2   1000013050072      01       1  2018-04-02  2015-10-05   \n2              3   1000013050080      01       1  2018-04-02  2015-10-05   \n\n      name nameImageId kind prefectureName  ...                   enName  \\\n0  静岡家庭裁判所         NaN  101            静岡県  ...    Shizuoka Family Court   \n1  清水簡易裁判所         NaN  101            静岡県  ...    Shimizu Summary Court   \n2  浜松簡易裁判所         NaN  101            静岡県  ...  Hamamatsu Summary Court   \n\n  enPrefectureName                                enCityName enAddressOutside  \\\n0         Shizuoka      1-20, Jonaicho, Aoi ku, Shizuoka shi              NaN   \n1         Shizuoka  1-6-15, Tenjin, Shimizu ku, Shizuoka shi              NaN   \n2         Shizuoka      1-12-5, Chuo, Naka ku, Hamamatsu shi              NaN   \n\n        furigana hihyoji process_kbn_name correct_kbn_name corp_kind_name  \\\n0  シズオカカテイサイバンショ       0               新規               訂正           国の機関   \n1   シミズカンイサイバンショ       0               新規               訂正           国の機関   \n2  ハママツカンイサイバンショ       0               新規               訂正           国の機関   \n\n  closeCause_name  \n0             NaN  \n1             NaN  \n2             NaN  \n\n[3 rows x 34 columns]",
      "text/html": "<div>\n<style scoped>\n    .dataframe tbody tr th:only-of-type {\n        vertical-align: middle;\n    }\n\n    .dataframe tbody tr th {\n        vertical-align: top;\n    }\n\n    .dataframe thead th {\n        text-align: right;\n    }\n</style>\n<table border=\"1\" class=\"dataframe\">\n  <thead>\n    <tr style=\"text-align: right;\">\n      <th></th>\n      <th>sequenceNumber</th>\n      <th>corporateNumber</th>\n      <th>process</th>\n      <th>correct</th>\n      <th>updateDate</th>\n      <th>changeDate</th>\n      <th>name</th>\n      <th>nameImageId</th>\n      <th>kind</th>\n      <th>prefectureName</th>\n      <th>...</th>\n      <th>enName</th>\n      <th>enPrefectureName</th>\n      <th>enCityName</th>\n      <th>enAddressOutside</th>\n      <th>furigana</th>\n      <th>hihyoji</th>\n      <th>process_kbn_name</th>\n      <th>correct_kbn_name</th>\n      <th>corp_kind_name</th>\n      <th>closeCause_name</th>\n    </tr>\n  </thead>\n  <tbody>\n    <tr>\n      <th>0</th>\n      <td>1</td>\n      <td>1000013040008</td>\n      <td>01</td>\n      <td>1</td>\n      <td>2018-04-02</td>\n      <td>2015-10-05</td>\n      <td>静岡家庭裁判所</td>\n      <td>NaN</td>\n      <td>101</td>\n      <td>静岡県</td>\n      <td>...</td>\n      <td>Shizuoka Family Court</td>\n      <td>Shizuoka</td>\n      <td>1-20, Jonaicho, Aoi ku, Shizuoka shi</td>\n      <td>NaN</td>\n      <td>シズオカカテイサイバンショ</td>\n      <td>0</td>\n      <td>新規</td>\n      <td>訂正</td>\n      <td>国の機関</td>\n      <td>NaN</td>\n    </tr>\n    <tr>\n      <th>1</th>\n      <td>2</td>\n      <td>1000013050072</td>\n      <td>01</td>\n      <td>1</td>\n      <td>2018-04-02</td>\n      <td>2015-10-05</td>\n      <td>清水簡易裁判所</td>\n      <td>NaN</td>\n      <td>101</td>\n      <td>静岡県</td>\n      <td>...</td>\n      <td>Shimizu Summary Court</td>\n      <td>Shizuoka</td>\n      <td>1-6-15, Tenjin, Shimizu ku, Shizuoka shi</td>\n      <td>NaN</td>\n      <td>シミズカンイサイバンショ</td>\n      <td>0</td>\n      <td>新規</td>\n      <td>訂正</td>\n      <td>国の機関</td>\n      <td>NaN</td>\n    </tr>\n    <tr>\n      <th>2</th>\n      <td>3</td>\n      <td>1000013050080</td>\n      <td>01</td>\n      <td>1</td>\n      <td>2018-04-02</td>\n      <td>2015-10-05</td>\n      <td>浜松簡易裁判所</td>\n      <td>NaN</td>\n      <td>101</td>\n      <td>静岡県</td>\n      <td>...</td>\n      <td>Hamamatsu Summary Court</td>\n      <td>Shizuoka</td>\n      <td>1-12-5, Chuo, Naka ku, Hamamatsu shi</td>\n      <td>NaN</td>\n      <td>ハママツカンイサイバンショ</td>\n      <td>0</td>\n      <td>新規</td>\n      <td>訂正</td>\n      <td>国の機関</td>\n      <td>NaN</td>\n    </tr>\n  </tbody>\n</table>\n<p>3 rows × 34 columns</p>\n</div>"
     },
     "execution_count": 37,
     "metadata": {},
     "output_type": "execute_result"
    }
   ],
   "source": [
    "data = data.merge(mst_close_cause, on=\"closeCause\", how=\"left\")\n",
    "print(len(data.columns))\n",
    "data.head(3)"
   ],
   "metadata": {
    "collapsed": false
   }
  },
  {
   "cell_type": "code",
   "execution_count": 38,
   "outputs": [
    {
     "data": {
      "text/plain": "  latest latest_name\n0      0        過去情報\n1      1        最新情報",
      "text/html": "<div>\n<style scoped>\n    .dataframe tbody tr th:only-of-type {\n        vertical-align: middle;\n    }\n\n    .dataframe tbody tr th {\n        vertical-align: top;\n    }\n\n    .dataframe thead th {\n        text-align: right;\n    }\n</style>\n<table border=\"1\" class=\"dataframe\">\n  <thead>\n    <tr style=\"text-align: right;\">\n      <th></th>\n      <th>latest</th>\n      <th>latest_name</th>\n    </tr>\n  </thead>\n  <tbody>\n    <tr>\n      <th>0</th>\n      <td>0</td>\n      <td>過去情報</td>\n    </tr>\n    <tr>\n      <th>1</th>\n      <td>1</td>\n      <td>最新情報</td>\n    </tr>\n  </tbody>\n</table>\n</div>"
     },
     "execution_count": 38,
     "metadata": {},
     "output_type": "execute_result"
    }
   ],
   "source": [
    "mst_latest = pd.read_csv('data/mst_latest.csv', dtype=object)\n",
    "mst_latest"
   ],
   "metadata": {
    "collapsed": false
   }
  },
  {
   "cell_type": "code",
   "execution_count": 39,
   "outputs": [
    {
     "name": "stdout",
     "output_type": "stream",
     "text": [
      "35\n"
     ]
    },
    {
     "data": {
      "text/plain": "  sequenceNumber corporateNumber process correct  updateDate  changeDate  \\\n0              1   1000013040008      01       1  2018-04-02  2015-10-05   \n1              2   1000013050072      01       1  2018-04-02  2015-10-05   \n2              3   1000013050080      01       1  2018-04-02  2015-10-05   \n\n      name nameImageId kind prefectureName  ... enPrefectureName  \\\n0  静岡家庭裁判所         NaN  101            静岡県  ...         Shizuoka   \n1  清水簡易裁判所         NaN  101            静岡県  ...         Shizuoka   \n2  浜松簡易裁判所         NaN  101            静岡県  ...         Shizuoka   \n\n                                 enCityName enAddressOutside       furigana  \\\n0      1-20, Jonaicho, Aoi ku, Shizuoka shi              NaN  シズオカカテイサイバンショ   \n1  1-6-15, Tenjin, Shimizu ku, Shizuoka shi              NaN   シミズカンイサイバンショ   \n2      1-12-5, Chuo, Naka ku, Hamamatsu shi              NaN  ハママツカンイサイバンショ   \n\n  hihyoji process_kbn_name correct_kbn_name corp_kind_name closeCause_name  \\\n0       0               新規               訂正           国の機関             NaN   \n1       0               新規               訂正           国の機関             NaN   \n2       0               新規               訂正           国の機関             NaN   \n\n  latest_name  \n0        最新情報  \n1        最新情報  \n2        最新情報  \n\n[3 rows x 35 columns]",
      "text/html": "<div>\n<style scoped>\n    .dataframe tbody tr th:only-of-type {\n        vertical-align: middle;\n    }\n\n    .dataframe tbody tr th {\n        vertical-align: top;\n    }\n\n    .dataframe thead th {\n        text-align: right;\n    }\n</style>\n<table border=\"1\" class=\"dataframe\">\n  <thead>\n    <tr style=\"text-align: right;\">\n      <th></th>\n      <th>sequenceNumber</th>\n      <th>corporateNumber</th>\n      <th>process</th>\n      <th>correct</th>\n      <th>updateDate</th>\n      <th>changeDate</th>\n      <th>name</th>\n      <th>nameImageId</th>\n      <th>kind</th>\n      <th>prefectureName</th>\n      <th>...</th>\n      <th>enPrefectureName</th>\n      <th>enCityName</th>\n      <th>enAddressOutside</th>\n      <th>furigana</th>\n      <th>hihyoji</th>\n      <th>process_kbn_name</th>\n      <th>correct_kbn_name</th>\n      <th>corp_kind_name</th>\n      <th>closeCause_name</th>\n      <th>latest_name</th>\n    </tr>\n  </thead>\n  <tbody>\n    <tr>\n      <th>0</th>\n      <td>1</td>\n      <td>1000013040008</td>\n      <td>01</td>\n      <td>1</td>\n      <td>2018-04-02</td>\n      <td>2015-10-05</td>\n      <td>静岡家庭裁判所</td>\n      <td>NaN</td>\n      <td>101</td>\n      <td>静岡県</td>\n      <td>...</td>\n      <td>Shizuoka</td>\n      <td>1-20, Jonaicho, Aoi ku, Shizuoka shi</td>\n      <td>NaN</td>\n      <td>シズオカカテイサイバンショ</td>\n      <td>0</td>\n      <td>新規</td>\n      <td>訂正</td>\n      <td>国の機関</td>\n      <td>NaN</td>\n      <td>最新情報</td>\n    </tr>\n    <tr>\n      <th>1</th>\n      <td>2</td>\n      <td>1000013050072</td>\n      <td>01</td>\n      <td>1</td>\n      <td>2018-04-02</td>\n      <td>2015-10-05</td>\n      <td>清水簡易裁判所</td>\n      <td>NaN</td>\n      <td>101</td>\n      <td>静岡県</td>\n      <td>...</td>\n      <td>Shizuoka</td>\n      <td>1-6-15, Tenjin, Shimizu ku, Shizuoka shi</td>\n      <td>NaN</td>\n      <td>シミズカンイサイバンショ</td>\n      <td>0</td>\n      <td>新規</td>\n      <td>訂正</td>\n      <td>国の機関</td>\n      <td>NaN</td>\n      <td>最新情報</td>\n    </tr>\n    <tr>\n      <th>2</th>\n      <td>3</td>\n      <td>1000013050080</td>\n      <td>01</td>\n      <td>1</td>\n      <td>2018-04-02</td>\n      <td>2015-10-05</td>\n      <td>浜松簡易裁判所</td>\n      <td>NaN</td>\n      <td>101</td>\n      <td>静岡県</td>\n      <td>...</td>\n      <td>Shizuoka</td>\n      <td>1-12-5, Chuo, Naka ku, Hamamatsu shi</td>\n      <td>NaN</td>\n      <td>ハママツカンイサイバンショ</td>\n      <td>0</td>\n      <td>新規</td>\n      <td>訂正</td>\n      <td>国の機関</td>\n      <td>NaN</td>\n      <td>最新情報</td>\n    </tr>\n  </tbody>\n</table>\n<p>3 rows × 35 columns</p>\n</div>"
     },
     "execution_count": 39,
     "metadata": {},
     "output_type": "execute_result"
    }
   ],
   "source": [
    "data = data.merge(mst_latest, on = 'latest', how='left')\n",
    "print(len(data.columns))\n",
    "data.head(3)"
   ],
   "metadata": {
    "collapsed": false
   }
  },
  {
   "cell_type": "code",
   "execution_count": 40,
   "outputs": [
    {
     "data": {
      "text/plain": "  hihyoji hihyoji_name\n0       0         検索対象\n1       1       検索対象除外",
      "text/html": "<div>\n<style scoped>\n    .dataframe tbody tr th:only-of-type {\n        vertical-align: middle;\n    }\n\n    .dataframe tbody tr th {\n        vertical-align: top;\n    }\n\n    .dataframe thead th {\n        text-align: right;\n    }\n</style>\n<table border=\"1\" class=\"dataframe\">\n  <thead>\n    <tr style=\"text-align: right;\">\n      <th></th>\n      <th>hihyoji</th>\n      <th>hihyoji_name</th>\n    </tr>\n  </thead>\n  <tbody>\n    <tr>\n      <th>0</th>\n      <td>0</td>\n      <td>検索対象</td>\n    </tr>\n    <tr>\n      <th>1</th>\n      <td>1</td>\n      <td>検索対象除外</td>\n    </tr>\n  </tbody>\n</table>\n</div>"
     },
     "execution_count": 40,
     "metadata": {},
     "output_type": "execute_result"
    }
   ],
   "source": [
    "mst_hihyoji = pd.read_csv('data/mst_hihyoji.csv', dtype=object)\n",
    "mst_hihyoji"
   ],
   "metadata": {
    "collapsed": false
   }
  },
  {
   "cell_type": "code",
   "execution_count": 41,
   "outputs": [
    {
     "name": "stdout",
     "output_type": "stream",
     "text": [
      "36\n"
     ]
    },
    {
     "data": {
      "text/plain": "  sequenceNumber corporateNumber process correct  updateDate  changeDate  \\\n0              1   1000013040008      01       1  2018-04-02  2015-10-05   \n1              2   1000013050072      01       1  2018-04-02  2015-10-05   \n2              3   1000013050080      01       1  2018-04-02  2015-10-05   \n\n      name nameImageId kind prefectureName  ...  \\\n0  静岡家庭裁判所         NaN  101            静岡県  ...   \n1  清水簡易裁判所         NaN  101            静岡県  ...   \n2  浜松簡易裁判所         NaN  101            静岡県  ...   \n\n                                 enCityName enAddressOutside       furigana  \\\n0      1-20, Jonaicho, Aoi ku, Shizuoka shi              NaN  シズオカカテイサイバンショ   \n1  1-6-15, Tenjin, Shimizu ku, Shizuoka shi              NaN   シミズカンイサイバンショ   \n2      1-12-5, Chuo, Naka ku, Hamamatsu shi              NaN  ハママツカンイサイバンショ   \n\n  hihyoji process_kbn_name correct_kbn_name corp_kind_name closeCause_name  \\\n0       0               新規               訂正           国の機関             NaN   \n1       0               新規               訂正           国の機関             NaN   \n2       0               新規               訂正           国の機関             NaN   \n\n  latest_name hihyoji_name  \n0        最新情報         検索対象  \n1        最新情報         検索対象  \n2        最新情報         検索対象  \n\n[3 rows x 36 columns]",
      "text/html": "<div>\n<style scoped>\n    .dataframe tbody tr th:only-of-type {\n        vertical-align: middle;\n    }\n\n    .dataframe tbody tr th {\n        vertical-align: top;\n    }\n\n    .dataframe thead th {\n        text-align: right;\n    }\n</style>\n<table border=\"1\" class=\"dataframe\">\n  <thead>\n    <tr style=\"text-align: right;\">\n      <th></th>\n      <th>sequenceNumber</th>\n      <th>corporateNumber</th>\n      <th>process</th>\n      <th>correct</th>\n      <th>updateDate</th>\n      <th>changeDate</th>\n      <th>name</th>\n      <th>nameImageId</th>\n      <th>kind</th>\n      <th>prefectureName</th>\n      <th>...</th>\n      <th>enCityName</th>\n      <th>enAddressOutside</th>\n      <th>furigana</th>\n      <th>hihyoji</th>\n      <th>process_kbn_name</th>\n      <th>correct_kbn_name</th>\n      <th>corp_kind_name</th>\n      <th>closeCause_name</th>\n      <th>latest_name</th>\n      <th>hihyoji_name</th>\n    </tr>\n  </thead>\n  <tbody>\n    <tr>\n      <th>0</th>\n      <td>1</td>\n      <td>1000013040008</td>\n      <td>01</td>\n      <td>1</td>\n      <td>2018-04-02</td>\n      <td>2015-10-05</td>\n      <td>静岡家庭裁判所</td>\n      <td>NaN</td>\n      <td>101</td>\n      <td>静岡県</td>\n      <td>...</td>\n      <td>1-20, Jonaicho, Aoi ku, Shizuoka shi</td>\n      <td>NaN</td>\n      <td>シズオカカテイサイバンショ</td>\n      <td>0</td>\n      <td>新規</td>\n      <td>訂正</td>\n      <td>国の機関</td>\n      <td>NaN</td>\n      <td>最新情報</td>\n      <td>検索対象</td>\n    </tr>\n    <tr>\n      <th>1</th>\n      <td>2</td>\n      <td>1000013050072</td>\n      <td>01</td>\n      <td>1</td>\n      <td>2018-04-02</td>\n      <td>2015-10-05</td>\n      <td>清水簡易裁判所</td>\n      <td>NaN</td>\n      <td>101</td>\n      <td>静岡県</td>\n      <td>...</td>\n      <td>1-6-15, Tenjin, Shimizu ku, Shizuoka shi</td>\n      <td>NaN</td>\n      <td>シミズカンイサイバンショ</td>\n      <td>0</td>\n      <td>新規</td>\n      <td>訂正</td>\n      <td>国の機関</td>\n      <td>NaN</td>\n      <td>最新情報</td>\n      <td>検索対象</td>\n    </tr>\n    <tr>\n      <th>2</th>\n      <td>3</td>\n      <td>1000013050080</td>\n      <td>01</td>\n      <td>1</td>\n      <td>2018-04-02</td>\n      <td>2015-10-05</td>\n      <td>浜松簡易裁判所</td>\n      <td>NaN</td>\n      <td>101</td>\n      <td>静岡県</td>\n      <td>...</td>\n      <td>1-12-5, Chuo, Naka ku, Hamamatsu shi</td>\n      <td>NaN</td>\n      <td>ハママツカンイサイバンショ</td>\n      <td>0</td>\n      <td>新規</td>\n      <td>訂正</td>\n      <td>国の機関</td>\n      <td>NaN</td>\n      <td>最新情報</td>\n      <td>検索対象</td>\n    </tr>\n  </tbody>\n</table>\n<p>3 rows × 36 columns</p>\n</div>"
     },
     "execution_count": 41,
     "metadata": {},
     "output_type": "execute_result"
    }
   ],
   "source": [
    "data = data.merge(mst_hihyoji, on='hihyoji', how='left')\n",
    "print(len(data.columns))\n",
    "data.head(3)"
   ],
   "metadata": {
    "collapsed": false
   }
  },
  {
   "cell_type": "code",
   "execution_count": 42,
   "outputs": [
    {
     "data": {
      "text/plain": "prefectureName     0\ncityName           0\nstreetNumber      17\ndtype: int64"
     },
     "execution_count": 42,
     "metadata": {},
     "output_type": "execute_result"
    }
   ],
   "source": [
    "data[['prefectureName', 'cityName', 'streetNumber']].isna().sum()"
   ],
   "metadata": {
    "collapsed": false
   }
  },
  {
   "cell_type": "code",
   "execution_count": 43,
   "outputs": [
    {
     "name": "stdout",
     "output_type": "stream",
     "text": [
      "37\n"
     ]
    },
    {
     "data": {
      "text/plain": "  sequenceNumber corporateNumber process correct  updateDate  changeDate  \\\n0              1   1000013040008      01       1  2018-04-02  2015-10-05   \n1              2   1000013050072      01       1  2018-04-02  2015-10-05   \n2              3   1000013050080      01       1  2018-04-02  2015-10-05   \n\n      name nameImageId kind prefectureName  ... enAddressOutside  \\\n0  静岡家庭裁判所         NaN  101            静岡県  ...              NaN   \n1  清水簡易裁判所         NaN  101            静岡県  ...              NaN   \n2  浜松簡易裁判所         NaN  101            静岡県  ...              NaN   \n\n        furigana hihyoji process_kbn_name correct_kbn_name corp_kind_name  \\\n0  シズオカカテイサイバンショ       0               新規               訂正           国の機関   \n1   シミズカンイサイバンショ       0               新規               訂正           国の機関   \n2  ハママツカンイサイバンショ       0               新規               訂正           国の機関   \n\n  closeCause_name latest_name hihyoji_name             address  \n0             NaN        最新情報         検索対象     静岡県静岡市葵区城内町１−２０  \n1             NaN        最新情報         検索対象  静岡県静岡市清水区天神１丁目６−１５  \n2             NaN        最新情報         検索対象   静岡県浜松市中区中央１丁目１２−５  \n\n[3 rows x 37 columns]",
      "text/html": "<div>\n<style scoped>\n    .dataframe tbody tr th:only-of-type {\n        vertical-align: middle;\n    }\n\n    .dataframe tbody tr th {\n        vertical-align: top;\n    }\n\n    .dataframe thead th {\n        text-align: right;\n    }\n</style>\n<table border=\"1\" class=\"dataframe\">\n  <thead>\n    <tr style=\"text-align: right;\">\n      <th></th>\n      <th>sequenceNumber</th>\n      <th>corporateNumber</th>\n      <th>process</th>\n      <th>correct</th>\n      <th>updateDate</th>\n      <th>changeDate</th>\n      <th>name</th>\n      <th>nameImageId</th>\n      <th>kind</th>\n      <th>prefectureName</th>\n      <th>...</th>\n      <th>enAddressOutside</th>\n      <th>furigana</th>\n      <th>hihyoji</th>\n      <th>process_kbn_name</th>\n      <th>correct_kbn_name</th>\n      <th>corp_kind_name</th>\n      <th>closeCause_name</th>\n      <th>latest_name</th>\n      <th>hihyoji_name</th>\n      <th>address</th>\n    </tr>\n  </thead>\n  <tbody>\n    <tr>\n      <th>0</th>\n      <td>1</td>\n      <td>1000013040008</td>\n      <td>01</td>\n      <td>1</td>\n      <td>2018-04-02</td>\n      <td>2015-10-05</td>\n      <td>静岡家庭裁判所</td>\n      <td>NaN</td>\n      <td>101</td>\n      <td>静岡県</td>\n      <td>...</td>\n      <td>NaN</td>\n      <td>シズオカカテイサイバンショ</td>\n      <td>0</td>\n      <td>新規</td>\n      <td>訂正</td>\n      <td>国の機関</td>\n      <td>NaN</td>\n      <td>最新情報</td>\n      <td>検索対象</td>\n      <td>静岡県静岡市葵区城内町１−２０</td>\n    </tr>\n    <tr>\n      <th>1</th>\n      <td>2</td>\n      <td>1000013050072</td>\n      <td>01</td>\n      <td>1</td>\n      <td>2018-04-02</td>\n      <td>2015-10-05</td>\n      <td>清水簡易裁判所</td>\n      <td>NaN</td>\n      <td>101</td>\n      <td>静岡県</td>\n      <td>...</td>\n      <td>NaN</td>\n      <td>シミズカンイサイバンショ</td>\n      <td>0</td>\n      <td>新規</td>\n      <td>訂正</td>\n      <td>国の機関</td>\n      <td>NaN</td>\n      <td>最新情報</td>\n      <td>検索対象</td>\n      <td>静岡県静岡市清水区天神１丁目６−１５</td>\n    </tr>\n    <tr>\n      <th>2</th>\n      <td>3</td>\n      <td>1000013050080</td>\n      <td>01</td>\n      <td>1</td>\n      <td>2018-04-02</td>\n      <td>2015-10-05</td>\n      <td>浜松簡易裁判所</td>\n      <td>NaN</td>\n      <td>101</td>\n      <td>静岡県</td>\n      <td>...</td>\n      <td>NaN</td>\n      <td>ハママツカンイサイバンショ</td>\n      <td>0</td>\n      <td>新規</td>\n      <td>訂正</td>\n      <td>国の機関</td>\n      <td>NaN</td>\n      <td>最新情報</td>\n      <td>検索対象</td>\n      <td>静岡県浜松市中区中央１丁目１２−５</td>\n    </tr>\n  </tbody>\n</table>\n<p>3 rows × 37 columns</p>\n</div>"
     },
     "execution_count": 43,
     "metadata": {},
     "output_type": "execute_result"
    }
   ],
   "source": [
    "data['address'] = data['prefectureName'] + data['cityName'] + data['streetNumber']\n",
    "print(len(data.columns))\n",
    "data.head(3)"
   ],
   "metadata": {
    "collapsed": false
   }
  },
  {
   "cell_type": "code",
   "execution_count": 44,
   "outputs": [
    {
     "data": {
      "text/plain": "      sequenceNumber corporateNumber process correct  updateDate  changeDate  \\\n3898            3909   1080005006629      01       0  2015-11-13  2015-10-05   \n16621          16657   2080005006628      01       0  2015-11-13  2015-10-05   \n20848          20889   2080105004250      01       1  2019-07-05  2015-10-05   \n\n                 name nameImageId kind prefectureName  ... enAddressOutside  \\\n3898   保証責任尾羽愛郷負債整理組合         NaN  399            静岡県  ...              NaN   \n16621  保証責任原下河原負債整理組合         NaN  399            静岡県  ...              NaN   \n20848   保證責任對島村負債整理組合         NaN  399            静岡県  ...              NaN   \n\n                      furigana hihyoji process_kbn_name correct_kbn_name  \\\n3898                       NaN       1               新規             訂正以外   \n16621                      NaN       1               新規             訂正以外   \n20848  ホショウセキニンタジマムラフサイセイリクミアイ       1               新規               訂正   \n\n      corp_kind_name closeCause_name latest_name hihyoji_name address  \n3898      その他の設立登記法人             NaN        最新情報       検索対象除外     NaN  \n16621     その他の設立登記法人             NaN        最新情報       検索対象除外     NaN  \n20848     その他の設立登記法人             NaN        最新情報       検索対象除外     NaN  \n\n[3 rows x 37 columns]",
      "text/html": "<div>\n<style scoped>\n    .dataframe tbody tr th:only-of-type {\n        vertical-align: middle;\n    }\n\n    .dataframe tbody tr th {\n        vertical-align: top;\n    }\n\n    .dataframe thead th {\n        text-align: right;\n    }\n</style>\n<table border=\"1\" class=\"dataframe\">\n  <thead>\n    <tr style=\"text-align: right;\">\n      <th></th>\n      <th>sequenceNumber</th>\n      <th>corporateNumber</th>\n      <th>process</th>\n      <th>correct</th>\n      <th>updateDate</th>\n      <th>changeDate</th>\n      <th>name</th>\n      <th>nameImageId</th>\n      <th>kind</th>\n      <th>prefectureName</th>\n      <th>...</th>\n      <th>enAddressOutside</th>\n      <th>furigana</th>\n      <th>hihyoji</th>\n      <th>process_kbn_name</th>\n      <th>correct_kbn_name</th>\n      <th>corp_kind_name</th>\n      <th>closeCause_name</th>\n      <th>latest_name</th>\n      <th>hihyoji_name</th>\n      <th>address</th>\n    </tr>\n  </thead>\n  <tbody>\n    <tr>\n      <th>3898</th>\n      <td>3909</td>\n      <td>1080005006629</td>\n      <td>01</td>\n      <td>0</td>\n      <td>2015-11-13</td>\n      <td>2015-10-05</td>\n      <td>保証責任尾羽愛郷負債整理組合</td>\n      <td>NaN</td>\n      <td>399</td>\n      <td>静岡県</td>\n      <td>...</td>\n      <td>NaN</td>\n      <td>NaN</td>\n      <td>1</td>\n      <td>新規</td>\n      <td>訂正以外</td>\n      <td>その他の設立登記法人</td>\n      <td>NaN</td>\n      <td>最新情報</td>\n      <td>検索対象除外</td>\n      <td>NaN</td>\n    </tr>\n    <tr>\n      <th>16621</th>\n      <td>16657</td>\n      <td>2080005006628</td>\n      <td>01</td>\n      <td>0</td>\n      <td>2015-11-13</td>\n      <td>2015-10-05</td>\n      <td>保証責任原下河原負債整理組合</td>\n      <td>NaN</td>\n      <td>399</td>\n      <td>静岡県</td>\n      <td>...</td>\n      <td>NaN</td>\n      <td>NaN</td>\n      <td>1</td>\n      <td>新規</td>\n      <td>訂正以外</td>\n      <td>その他の設立登記法人</td>\n      <td>NaN</td>\n      <td>最新情報</td>\n      <td>検索対象除外</td>\n      <td>NaN</td>\n    </tr>\n    <tr>\n      <th>20848</th>\n      <td>20889</td>\n      <td>2080105004250</td>\n      <td>01</td>\n      <td>1</td>\n      <td>2019-07-05</td>\n      <td>2015-10-05</td>\n      <td>保證責任對島村負債整理組合</td>\n      <td>NaN</td>\n      <td>399</td>\n      <td>静岡県</td>\n      <td>...</td>\n      <td>NaN</td>\n      <td>ホショウセキニンタジマムラフサイセイリクミアイ</td>\n      <td>1</td>\n      <td>新規</td>\n      <td>訂正</td>\n      <td>その他の設立登記法人</td>\n      <td>NaN</td>\n      <td>最新情報</td>\n      <td>検索対象除外</td>\n      <td>NaN</td>\n    </tr>\n  </tbody>\n</table>\n<p>3 rows × 37 columns</p>\n</div>"
     },
     "execution_count": 44,
     "metadata": {},
     "output_type": "execute_result"
    }
   ],
   "source": [
    "data.loc[data['streetNumber'].isna()].head(3)"
   ],
   "metadata": {
    "collapsed": false
   }
  },
  {
   "cell_type": "code",
   "execution_count": 45,
   "outputs": [
    {
     "name": "stdout",
     "output_type": "stream",
     "text": [
      "0\n"
     ]
    },
    {
     "data": {
      "text/plain": "      sequenceNumber corporateNumber process correct  updateDate  changeDate  \\\n3898            3909   1080005006629      01       0  2015-11-13  2015-10-05   \n16621          16657   2080005006628      01       0  2015-11-13  2015-10-05   \n20848          20889   2080105004250      01       1  2019-07-05  2015-10-05   \n\n                 name nameImageId kind prefectureName  ... enAddressOutside  \\\n3898   保証責任尾羽愛郷負債整理組合         NaN  399            静岡県  ...              NaN   \n16621  保証責任原下河原負債整理組合         NaN  399            静岡県  ...              NaN   \n20848   保證責任對島村負債整理組合         NaN  399            静岡県  ...              NaN   \n\n                      furigana hihyoji process_kbn_name correct_kbn_name  \\\n3898                       NaN       1               新規             訂正以外   \n16621                      NaN       1               新規             訂正以外   \n20848  ホショウセキニンタジマムラフサイセイリクミアイ       1               新規               訂正   \n\n      corp_kind_name closeCause_name latest_name hihyoji_name    address  \n3898      その他の設立登記法人             NaN        最新情報       検索対象除外  静岡県静岡市清水区  \n16621     その他の設立登記法人             NaN        最新情報       検索対象除外  静岡県静岡市清水区  \n20848     その他の設立登記法人             NaN        最新情報       検索対象除外     静岡県伊東市  \n\n[3 rows x 37 columns]",
      "text/html": "<div>\n<style scoped>\n    .dataframe tbody tr th:only-of-type {\n        vertical-align: middle;\n    }\n\n    .dataframe tbody tr th {\n        vertical-align: top;\n    }\n\n    .dataframe thead th {\n        text-align: right;\n    }\n</style>\n<table border=\"1\" class=\"dataframe\">\n  <thead>\n    <tr style=\"text-align: right;\">\n      <th></th>\n      <th>sequenceNumber</th>\n      <th>corporateNumber</th>\n      <th>process</th>\n      <th>correct</th>\n      <th>updateDate</th>\n      <th>changeDate</th>\n      <th>name</th>\n      <th>nameImageId</th>\n      <th>kind</th>\n      <th>prefectureName</th>\n      <th>...</th>\n      <th>enAddressOutside</th>\n      <th>furigana</th>\n      <th>hihyoji</th>\n      <th>process_kbn_name</th>\n      <th>correct_kbn_name</th>\n      <th>corp_kind_name</th>\n      <th>closeCause_name</th>\n      <th>latest_name</th>\n      <th>hihyoji_name</th>\n      <th>address</th>\n    </tr>\n  </thead>\n  <tbody>\n    <tr>\n      <th>3898</th>\n      <td>3909</td>\n      <td>1080005006629</td>\n      <td>01</td>\n      <td>0</td>\n      <td>2015-11-13</td>\n      <td>2015-10-05</td>\n      <td>保証責任尾羽愛郷負債整理組合</td>\n      <td>NaN</td>\n      <td>399</td>\n      <td>静岡県</td>\n      <td>...</td>\n      <td>NaN</td>\n      <td>NaN</td>\n      <td>1</td>\n      <td>新規</td>\n      <td>訂正以外</td>\n      <td>その他の設立登記法人</td>\n      <td>NaN</td>\n      <td>最新情報</td>\n      <td>検索対象除外</td>\n      <td>静岡県静岡市清水区</td>\n    </tr>\n    <tr>\n      <th>16621</th>\n      <td>16657</td>\n      <td>2080005006628</td>\n      <td>01</td>\n      <td>0</td>\n      <td>2015-11-13</td>\n      <td>2015-10-05</td>\n      <td>保証責任原下河原負債整理組合</td>\n      <td>NaN</td>\n      <td>399</td>\n      <td>静岡県</td>\n      <td>...</td>\n      <td>NaN</td>\n      <td>NaN</td>\n      <td>1</td>\n      <td>新規</td>\n      <td>訂正以外</td>\n      <td>その他の設立登記法人</td>\n      <td>NaN</td>\n      <td>最新情報</td>\n      <td>検索対象除外</td>\n      <td>静岡県静岡市清水区</td>\n    </tr>\n    <tr>\n      <th>20848</th>\n      <td>20889</td>\n      <td>2080105004250</td>\n      <td>01</td>\n      <td>1</td>\n      <td>2019-07-05</td>\n      <td>2015-10-05</td>\n      <td>保證責任對島村負債整理組合</td>\n      <td>NaN</td>\n      <td>399</td>\n      <td>静岡県</td>\n      <td>...</td>\n      <td>NaN</td>\n      <td>ホショウセキニンタジマムラフサイセイリクミアイ</td>\n      <td>1</td>\n      <td>新規</td>\n      <td>訂正</td>\n      <td>その他の設立登記法人</td>\n      <td>NaN</td>\n      <td>最新情報</td>\n      <td>検索対象除外</td>\n      <td>静岡県伊東市</td>\n    </tr>\n  </tbody>\n</table>\n<p>3 rows × 37 columns</p>\n</div>"
     },
     "execution_count": 45,
     "metadata": {},
     "output_type": "execute_result"
    }
   ],
   "source": [
    "data['address'].loc[data['streetNumber'].isna()] = data['prefectureName'] + data['cityName']\n",
    "print(data['address'].isna().sum())\n",
    "data.loc[data['streetNumber'].isna()].head(3)"
   ],
   "metadata": {
    "collapsed": false
   }
  },
  {
   "cell_type": "code",
   "execution_count": 46,
   "outputs": [
    {
     "name": "stdout",
     "output_type": "stream",
     "text": [
      "38\n"
     ]
    },
    {
     "data": {
      "text/plain": "  sequenceNumber corporateNumber process correct  updateDate  changeDate  \\\n0              1   1000013040008      01       1  2018-04-02  2015-10-05   \n1              2   1000013050072      01       1  2018-04-02  2015-10-05   \n2              3   1000013050080      01       1  2018-04-02  2015-10-05   \n\n      name nameImageId kind prefectureName  ...       furigana hihyoji  \\\n0  静岡家庭裁判所         NaN  101            静岡県  ...  シズオカカテイサイバンショ       0   \n1  清水簡易裁判所         NaN  101            静岡県  ...   シミズカンイサイバンショ       0   \n2  浜松簡易裁判所         NaN  101            静岡県  ...  ハママツカンイサイバンショ       0   \n\n  process_kbn_name correct_kbn_name corp_kind_name closeCause_name  \\\n0               新規               訂正           国の機関             NaN   \n1               新規               訂正           国の機関             NaN   \n2               新規               訂正           国の機関             NaN   \n\n  latest_name hihyoji_name             address postCode_head  \n0        最新情報         検索対象     静岡県静岡市葵区城内町１−２０           420  \n1        最新情報         検索対象  静岡県静岡市清水区天神１丁目６−１５           424  \n2        最新情報         検索対象   静岡県浜松市中区中央１丁目１２−５           430  \n\n[3 rows x 38 columns]",
      "text/html": "<div>\n<style scoped>\n    .dataframe tbody tr th:only-of-type {\n        vertical-align: middle;\n    }\n\n    .dataframe tbody tr th {\n        vertical-align: top;\n    }\n\n    .dataframe thead th {\n        text-align: right;\n    }\n</style>\n<table border=\"1\" class=\"dataframe\">\n  <thead>\n    <tr style=\"text-align: right;\">\n      <th></th>\n      <th>sequenceNumber</th>\n      <th>corporateNumber</th>\n      <th>process</th>\n      <th>correct</th>\n      <th>updateDate</th>\n      <th>changeDate</th>\n      <th>name</th>\n      <th>nameImageId</th>\n      <th>kind</th>\n      <th>prefectureName</th>\n      <th>...</th>\n      <th>furigana</th>\n      <th>hihyoji</th>\n      <th>process_kbn_name</th>\n      <th>correct_kbn_name</th>\n      <th>corp_kind_name</th>\n      <th>closeCause_name</th>\n      <th>latest_name</th>\n      <th>hihyoji_name</th>\n      <th>address</th>\n      <th>postCode_head</th>\n    </tr>\n  </thead>\n  <tbody>\n    <tr>\n      <th>0</th>\n      <td>1</td>\n      <td>1000013040008</td>\n      <td>01</td>\n      <td>1</td>\n      <td>2018-04-02</td>\n      <td>2015-10-05</td>\n      <td>静岡家庭裁判所</td>\n      <td>NaN</td>\n      <td>101</td>\n      <td>静岡県</td>\n      <td>...</td>\n      <td>シズオカカテイサイバンショ</td>\n      <td>0</td>\n      <td>新規</td>\n      <td>訂正</td>\n      <td>国の機関</td>\n      <td>NaN</td>\n      <td>最新情報</td>\n      <td>検索対象</td>\n      <td>静岡県静岡市葵区城内町１−２０</td>\n      <td>420</td>\n    </tr>\n    <tr>\n      <th>1</th>\n      <td>2</td>\n      <td>1000013050072</td>\n      <td>01</td>\n      <td>1</td>\n      <td>2018-04-02</td>\n      <td>2015-10-05</td>\n      <td>清水簡易裁判所</td>\n      <td>NaN</td>\n      <td>101</td>\n      <td>静岡県</td>\n      <td>...</td>\n      <td>シミズカンイサイバンショ</td>\n      <td>0</td>\n      <td>新規</td>\n      <td>訂正</td>\n      <td>国の機関</td>\n      <td>NaN</td>\n      <td>最新情報</td>\n      <td>検索対象</td>\n      <td>静岡県静岡市清水区天神１丁目６−１５</td>\n      <td>424</td>\n    </tr>\n    <tr>\n      <th>2</th>\n      <td>3</td>\n      <td>1000013050080</td>\n      <td>01</td>\n      <td>1</td>\n      <td>2018-04-02</td>\n      <td>2015-10-05</td>\n      <td>浜松簡易裁判所</td>\n      <td>NaN</td>\n      <td>101</td>\n      <td>静岡県</td>\n      <td>...</td>\n      <td>ハママツカンイサイバンショ</td>\n      <td>0</td>\n      <td>新規</td>\n      <td>訂正</td>\n      <td>国の機関</td>\n      <td>NaN</td>\n      <td>最新情報</td>\n      <td>検索対象</td>\n      <td>静岡県浜松市中区中央１丁目１２−５</td>\n      <td>430</td>\n    </tr>\n  </tbody>\n</table>\n<p>3 rows × 38 columns</p>\n</div>"
     },
     "execution_count": 46,
     "metadata": {},
     "output_type": "execute_result"
    }
   ],
   "source": [
    "data['postCode_head'] = data['postCode'].str[:3]\n",
    "print(len(data.columns))\n",
    "data.head(3)"
   ],
   "metadata": {
    "collapsed": false
   }
  },
  {
   "cell_type": "code",
   "execution_count": 47,
   "outputs": [
    {
     "name": "stdout",
     "output_type": "stream",
     "text": [
      "39\n"
     ]
    },
    {
     "data": {
      "text/plain": "  sequenceNumber corporateNumber process correct  updateDate  changeDate  \\\n0              1   1000013040008      01       1  2018-04-02  2015-10-05   \n1              2   1000013050072      01       1  2018-04-02  2015-10-05   \n2              3   1000013050080      01       1  2018-04-02  2015-10-05   \n\n      name nameImageId kind prefectureName  ... hihyoji process_kbn_name  \\\n0  静岡家庭裁判所         NaN  101            静岡県  ...       0               新規   \n1  清水簡易裁判所         NaN  101            静岡県  ...       0               新規   \n2  浜松簡易裁判所         NaN  101            静岡県  ...       0               新規   \n\n  correct_kbn_name corp_kind_name closeCause_name latest_name hihyoji_name  \\\n0               訂正           国の機関             NaN        最新情報         検索対象   \n1               訂正           国の機関             NaN        最新情報         検索対象   \n2               訂正           国の機関             NaN        最新情報         検索対象   \n\n              address postCode_head postCode_tail  \n0     静岡県静岡市葵区城内町１−２０           420          0854  \n1  静岡県静岡市清水区天神１丁目６−１５           424          0809  \n2   静岡県浜松市中区中央１丁目１２−５           430          0929  \n\n[3 rows x 39 columns]",
      "text/html": "<div>\n<style scoped>\n    .dataframe tbody tr th:only-of-type {\n        vertical-align: middle;\n    }\n\n    .dataframe tbody tr th {\n        vertical-align: top;\n    }\n\n    .dataframe thead th {\n        text-align: right;\n    }\n</style>\n<table border=\"1\" class=\"dataframe\">\n  <thead>\n    <tr style=\"text-align: right;\">\n      <th></th>\n      <th>sequenceNumber</th>\n      <th>corporateNumber</th>\n      <th>process</th>\n      <th>correct</th>\n      <th>updateDate</th>\n      <th>changeDate</th>\n      <th>name</th>\n      <th>nameImageId</th>\n      <th>kind</th>\n      <th>prefectureName</th>\n      <th>...</th>\n      <th>hihyoji</th>\n      <th>process_kbn_name</th>\n      <th>correct_kbn_name</th>\n      <th>corp_kind_name</th>\n      <th>closeCause_name</th>\n      <th>latest_name</th>\n      <th>hihyoji_name</th>\n      <th>address</th>\n      <th>postCode_head</th>\n      <th>postCode_tail</th>\n    </tr>\n  </thead>\n  <tbody>\n    <tr>\n      <th>0</th>\n      <td>1</td>\n      <td>1000013040008</td>\n      <td>01</td>\n      <td>1</td>\n      <td>2018-04-02</td>\n      <td>2015-10-05</td>\n      <td>静岡家庭裁判所</td>\n      <td>NaN</td>\n      <td>101</td>\n      <td>静岡県</td>\n      <td>...</td>\n      <td>0</td>\n      <td>新規</td>\n      <td>訂正</td>\n      <td>国の機関</td>\n      <td>NaN</td>\n      <td>最新情報</td>\n      <td>検索対象</td>\n      <td>静岡県静岡市葵区城内町１−２０</td>\n      <td>420</td>\n      <td>0854</td>\n    </tr>\n    <tr>\n      <th>1</th>\n      <td>2</td>\n      <td>1000013050072</td>\n      <td>01</td>\n      <td>1</td>\n      <td>2018-04-02</td>\n      <td>2015-10-05</td>\n      <td>清水簡易裁判所</td>\n      <td>NaN</td>\n      <td>101</td>\n      <td>静岡県</td>\n      <td>...</td>\n      <td>0</td>\n      <td>新規</td>\n      <td>訂正</td>\n      <td>国の機関</td>\n      <td>NaN</td>\n      <td>最新情報</td>\n      <td>検索対象</td>\n      <td>静岡県静岡市清水区天神１丁目６−１５</td>\n      <td>424</td>\n      <td>0809</td>\n    </tr>\n    <tr>\n      <th>2</th>\n      <td>3</td>\n      <td>1000013050080</td>\n      <td>01</td>\n      <td>1</td>\n      <td>2018-04-02</td>\n      <td>2015-10-05</td>\n      <td>浜松簡易裁判所</td>\n      <td>NaN</td>\n      <td>101</td>\n      <td>静岡県</td>\n      <td>...</td>\n      <td>0</td>\n      <td>新規</td>\n      <td>訂正</td>\n      <td>国の機関</td>\n      <td>NaN</td>\n      <td>最新情報</td>\n      <td>検索対象</td>\n      <td>静岡県浜松市中区中央１丁目１２−５</td>\n      <td>430</td>\n      <td>0929</td>\n    </tr>\n  </tbody>\n</table>\n<p>3 rows × 39 columns</p>\n</div>"
     },
     "execution_count": 47,
     "metadata": {},
     "output_type": "execute_result"
    }
   ],
   "source": [
    "data['postCode_tail'] = data['postCode'].str[-4:]\n",
    "print(len(data.columns))\n",
    "data.head(3)"
   ],
   "metadata": {
    "collapsed": false,
    "pycharm": {
     "name": "#%%だた\n"
    }
   }
  },
  {
   "cell_type": "code",
   "execution_count": 48,
   "outputs": [
    {
     "data": {
      "text/plain": "dtype('<M8[ns]')"
     },
     "execution_count": 48,
     "metadata": {},
     "output_type": "execute_result"
    }
   ],
   "source": [
    "tmp = pd.to_datetime(data['closeDate'])\n",
    "tmp.dtypes"
   ],
   "metadata": {
    "collapsed": false
   }
  },
  {
   "cell_type": "code",
   "execution_count": null,
   "outputs": [],
   "source": [
    "dt_columns = ['updateDate', 'changeDate', 'close']"
   ],
   "metadata": {
    "collapsed": false
   }
  }
 ],
 "metadata": {
  "kernelspec": {
   "display_name": "Python 3",
   "language": "python",
   "name": "python3"
  },
  "language_info": {
   "codemirror_mode": {
    "name": "ipython",
    "version": 2
   },
   "file_extension": ".py",
   "mimetype": "text/x-python",
   "name": "python",
   "nbconvert_exporter": "python",
   "pygments_lexer": "ipython2",
   "version": "2.7.6"
  }
 },
 "nbformat": 4,
 "nbformat_minor": 0
}
