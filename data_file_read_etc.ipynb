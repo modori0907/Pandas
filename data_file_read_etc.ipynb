{
 "cells": [
  {
   "cell_type": "code",
   "execution_count": 1,
   "metadata": {
    "collapsed": true
   },
   "outputs": [
    {
     "ename": "TypeError",
     "evalue": "Expected object of type bytes or bytearray, got: <class 'str'>",
     "output_type": "error",
     "traceback": [
      "\u001B[0;31m---------------------------------------------------------------------------\u001B[0m",
      "\u001B[0;31mTypeError\u001B[0m                                 Traceback (most recent call last)",
      "Cell \u001B[0;32mIn [1], line 7\u001B[0m\n\u001B[1;32m      1\u001B[0m \u001B[38;5;124;03m\"\"\"\u001B[39;00m\n\u001B[1;32m      2\u001B[0m \u001B[38;5;124;03mファイル形式を調べる必要がある\u001B[39;00m\n\u001B[1;32m      3\u001B[0m \u001B[38;5;124;03m読み込むときにencodingで指定してあげる必要がある\u001B[39;00m\n\u001B[1;32m      4\u001B[0m \u001B[38;5;124;03m\"\"\"\u001B[39;00m\n\u001B[1;32m      6\u001B[0m \u001B[38;5;28;01mimport\u001B[39;00m \u001B[38;5;21;01mchardet\u001B[39;00m\n\u001B[0;32m----> 7\u001B[0m \u001B[43mchardet\u001B[49m\u001B[38;5;241;43m.\u001B[39;49m\u001B[43mdetect\u001B[49m\u001B[43m(\u001B[49m\u001B[38;5;124;43mr\u001B[39;49m\u001B[38;5;124;43m\"\u001B[39;49m\u001B[38;5;124;43mchap1/chap1-1.py\u001B[39;49m\u001B[38;5;124;43m\"\u001B[39;49m\u001B[43m)\u001B[49m\n",
      "File \u001B[0;32m~/Desktop/python/Pandas/venv/lib/python3.8/site-packages/chardet/__init__.py:34\u001B[0m, in \u001B[0;36mdetect\u001B[0;34m(byte_str)\u001B[0m\n\u001B[1;32m     32\u001B[0m \u001B[38;5;28;01mif\u001B[39;00m \u001B[38;5;129;01mnot\u001B[39;00m \u001B[38;5;28misinstance\u001B[39m(byte_str, \u001B[38;5;28mbytearray\u001B[39m):\n\u001B[1;32m     33\u001B[0m     \u001B[38;5;28;01mif\u001B[39;00m \u001B[38;5;129;01mnot\u001B[39;00m \u001B[38;5;28misinstance\u001B[39m(byte_str, \u001B[38;5;28mbytes\u001B[39m):\n\u001B[0;32m---> 34\u001B[0m         \u001B[38;5;28;01mraise\u001B[39;00m \u001B[38;5;167;01mTypeError\u001B[39;00m(\n\u001B[1;32m     35\u001B[0m             \u001B[38;5;124mf\u001B[39m\u001B[38;5;124m\"\u001B[39m\u001B[38;5;124mExpected object of type bytes or bytearray, got: \u001B[39m\u001B[38;5;132;01m{\u001B[39;00m\u001B[38;5;28mtype\u001B[39m(byte_str)\u001B[38;5;132;01m}\u001B[39;00m\u001B[38;5;124m\"\u001B[39m\n\u001B[1;32m     36\u001B[0m         )\n\u001B[1;32m     37\u001B[0m     byte_str \u001B[38;5;241m=\u001B[39m \u001B[38;5;28mbytearray\u001B[39m(byte_str)\n\u001B[1;32m     38\u001B[0m detector \u001B[38;5;241m=\u001B[39m UniversalDetector()\n",
      "\u001B[0;31mTypeError\u001B[0m: Expected object of type bytes or bytearray, got: <class 'str'>"
     ]
    }
   ],
   "source": [
    "\"\"\"\n",
    "ファイル形式を調べる必要がある\n",
    "読み込むときにencodingで指定してあげる必要がある\n",
    "\"\"\"\n",
    "\n",
    "import chardet\n",
    "print(chardet.detect(r\"chap1/chap1-1.py\"))"
   ]
  }
 ],
 "metadata": {
  "kernelspec": {
   "display_name": "Python 3",
   "language": "python",
   "name": "python3"
  },
  "language_info": {
   "codemirror_mode": {
    "name": "ipython",
    "version": 2
   },
   "file_extension": ".py",
   "mimetype": "text/x-python",
   "name": "python",
   "nbconvert_exporter": "python",
   "pygments_lexer": "ipython2",
   "version": "2.7.6"
  }
 },
 "nbformat": 4,
 "nbformat_minor": 0
}
