{
 "cells": [
  {
   "cell_type": "code",
   "execution_count": 4,
   "metadata": {
    "collapsed": true
   },
   "outputs": [
    {
     "name": "stdout",
     "output_type": "stream",
     "text": [
      "{'encoding': 'utf-8', 'confidence': 0.99, 'language': ''}\n"
     ]
    }
   ],
   "source": [
    "\"\"\"\n",
    "ファイル形式を調べる必要がある\n",
    "読み込むときにencodingで指定してあげる必要がある\n",
    "調べ方は以下の通り\n",
    "\"\"\"\n",
    "import chardet\n",
    "source_file = \"test.csv\"\n",
    "with open(source_file, 'rb') as f:\n",
    "    c = f.read()\n",
    "    result = chardet.detect(c)\n",
    "    print(result)"
   ]
  },
  {
   "cell_type": "code",
   "execution_count": 8,
   "outputs": [
    {
     "data": {
      "text/plain": "     国語  数学  英語  学生番号\n名前                   \nA太   83  89  76  A001\nB介   66  93  75  B001\nC子  100  84  96  B002\nD郎   60  73  40  A002\nE美   92  62  84  C001\nF菜   96  92  94  C002",
      "text/html": "<div>\n<style scoped>\n    .dataframe tbody tr th:only-of-type {\n        vertical-align: middle;\n    }\n\n    .dataframe tbody tr th {\n        vertical-align: top;\n    }\n\n    .dataframe thead th {\n        text-align: right;\n    }\n</style>\n<table border=\"1\" class=\"dataframe\">\n  <thead>\n    <tr style=\"text-align: right;\">\n      <th></th>\n      <th>国語</th>\n      <th>数学</th>\n      <th>英語</th>\n      <th>学生番号</th>\n    </tr>\n    <tr>\n      <th>名前</th>\n      <th></th>\n      <th></th>\n      <th></th>\n      <th></th>\n    </tr>\n  </thead>\n  <tbody>\n    <tr>\n      <th>A太</th>\n      <td>83</td>\n      <td>89</td>\n      <td>76</td>\n      <td>A001</td>\n    </tr>\n    <tr>\n      <th>B介</th>\n      <td>66</td>\n      <td>93</td>\n      <td>75</td>\n      <td>B001</td>\n    </tr>\n    <tr>\n      <th>C子</th>\n      <td>100</td>\n      <td>84</td>\n      <td>96</td>\n      <td>B002</td>\n    </tr>\n    <tr>\n      <th>D郎</th>\n      <td>60</td>\n      <td>73</td>\n      <td>40</td>\n      <td>A002</td>\n    </tr>\n    <tr>\n      <th>E美</th>\n      <td>92</td>\n      <td>62</td>\n      <td>84</td>\n      <td>C001</td>\n    </tr>\n    <tr>\n      <th>F菜</th>\n      <td>96</td>\n      <td>92</td>\n      <td>94</td>\n      <td>C002</td>\n    </tr>\n  </tbody>\n</table>\n</div>"
     },
     "execution_count": 8,
     "metadata": {},
     "output_type": "execute_result"
    }
   ],
   "source": [
    "\"\"\"\n",
    "UTF-8形式の読み込み\n",
    "encodingの指定は不要\n",
    "\"\"\"\n",
    "import pandas as pd\n",
    "df = pd.read_csv(\"test.csv\")\n",
    "df\n",
    "\n",
    "\"\"\"\n",
    "Shift_JIS形式の読み込み\n",
    "encodingの指定は不要\n",
    "\"\"\"\n",
    "df = pd.read_csv(\"testSJIS.csv\", encoding=\"Shift_JIS\")\n",
    "df\n",
    "\n",
    "# インデックスの列を指定する\n",
    "df = pd.read_csv(\"test.csv\", index_col=0)\n",
    "df"
   ],
   "metadata": {
    "collapsed": false
   }
  },
  {
   "cell_type": "code",
   "execution_count": 9,
   "outputs": [
    {
     "data": {
      "text/plain": "    0    1   2   3     4\n0  A太   83  89  76  A001\n1  B介   66  93  75  B001\n2  C子  100  84  96  B002\n3  D郎   60  73  40  A002\n4  E美   92  62  84  C001\n5  F菜   96  92  94  C002",
      "text/html": "<div>\n<style scoped>\n    .dataframe tbody tr th:only-of-type {\n        vertical-align: middle;\n    }\n\n    .dataframe tbody tr th {\n        vertical-align: top;\n    }\n\n    .dataframe thead th {\n        text-align: right;\n    }\n</style>\n<table border=\"1\" class=\"dataframe\">\n  <thead>\n    <tr style=\"text-align: right;\">\n      <th></th>\n      <th>0</th>\n      <th>1</th>\n      <th>2</th>\n      <th>3</th>\n      <th>4</th>\n    </tr>\n  </thead>\n  <tbody>\n    <tr>\n      <th>0</th>\n      <td>A太</td>\n      <td>83</td>\n      <td>89</td>\n      <td>76</td>\n      <td>A001</td>\n    </tr>\n    <tr>\n      <th>1</th>\n      <td>B介</td>\n      <td>66</td>\n      <td>93</td>\n      <td>75</td>\n      <td>B001</td>\n    </tr>\n    <tr>\n      <th>2</th>\n      <td>C子</td>\n      <td>100</td>\n      <td>84</td>\n      <td>96</td>\n      <td>B002</td>\n    </tr>\n    <tr>\n      <th>3</th>\n      <td>D郎</td>\n      <td>60</td>\n      <td>73</td>\n      <td>40</td>\n      <td>A002</td>\n    </tr>\n    <tr>\n      <th>4</th>\n      <td>E美</td>\n      <td>92</td>\n      <td>62</td>\n      <td>84</td>\n      <td>C001</td>\n    </tr>\n    <tr>\n      <th>5</th>\n      <td>F菜</td>\n      <td>96</td>\n      <td>92</td>\n      <td>94</td>\n      <td>C002</td>\n    </tr>\n  </tbody>\n</table>\n</div>"
     },
     "execution_count": 9,
     "metadata": {},
     "output_type": "execute_result"
    }
   ],
   "source": [
    "\"\"\"\n",
    "ヘッダーがないデータの扱い\n",
    "\"\"\"\n",
    "df = pd.read_csv(\"testNoHeader.csv\", index_col=0, header=None)\n",
    "df"
   ],
   "metadata": {
    "collapsed": false
   }
  },
  {
   "cell_type": "code",
   "execution_count": 13,
   "outputs": [
    {
     "data": {
      "text/plain": "     国語  数学  英語  学生番号\n名前                   \nA太   83  89  76  A001\nB介   66  93  75  B001\nC子  100  84  96  B002\nD郎   60  73  40  A002\nE美   92  62  84  C001",
      "text/html": "<div>\n<style scoped>\n    .dataframe tbody tr th:only-of-type {\n        vertical-align: middle;\n    }\n\n    .dataframe tbody tr th {\n        vertical-align: top;\n    }\n\n    .dataframe thead th {\n        text-align: right;\n    }\n</style>\n<table border=\"1\" class=\"dataframe\">\n  <thead>\n    <tr style=\"text-align: right;\">\n      <th></th>\n      <th>国語</th>\n      <th>数学</th>\n      <th>英語</th>\n      <th>学生番号</th>\n    </tr>\n    <tr>\n      <th>名前</th>\n      <th></th>\n      <th></th>\n      <th></th>\n      <th></th>\n    </tr>\n  </thead>\n  <tbody>\n    <tr>\n      <th>A太</th>\n      <td>83</td>\n      <td>89</td>\n      <td>76</td>\n      <td>A001</td>\n    </tr>\n    <tr>\n      <th>B介</th>\n      <td>66</td>\n      <td>93</td>\n      <td>75</td>\n      <td>B001</td>\n    </tr>\n    <tr>\n      <th>C子</th>\n      <td>100</td>\n      <td>84</td>\n      <td>96</td>\n      <td>B002</td>\n    </tr>\n    <tr>\n      <th>D郎</th>\n      <td>60</td>\n      <td>73</td>\n      <td>40</td>\n      <td>A002</td>\n    </tr>\n    <tr>\n      <th>E美</th>\n      <td>92</td>\n      <td>62</td>\n      <td>84</td>\n      <td>C001</td>\n    </tr>\n  </tbody>\n</table>\n</div>"
     },
     "execution_count": 13,
     "metadata": {},
     "output_type": "execute_result"
    }
   ],
   "source": [
    "\"\"\"\n",
    "最初の５行目だけを出力するやりかた\n",
    "データを眺めたりするときに便利\n",
    "\"\"\"\n",
    "df = pd.read_csv(\"test.csv\", index_col=0)\n",
    "df.head()\n"
   ],
   "metadata": {
    "collapsed": false
   }
  },
  {
   "cell_type": "code",
   "execution_count": 21,
   "outputs": [
    {
     "name": "stdout",
     "output_type": "stream",
     "text": [
      "['国語', '数学', '英語', '学生番号']\n",
      "['A太', 'B介', 'C子', 'D郎', 'E美', 'F菜']\n",
      "データの個数 6\n"
     ]
    }
   ],
   "source": [
    "# 列名を出力\n",
    "df.columns\n",
    "# インデックスを出力\n",
    "df.index\n",
    "\"\"\"\n",
    "列名,インデックスをリストに変換する\n",
    "\"\"\"\n",
    "list1 = [i for i in df.columns]\n",
    "print(list1)\n",
    "list2 = [i for i in df.index]\n",
    "print(list2)\n",
    "\"\"\"\n",
    "データタイプの確認\n",
    "objectは文字列型のこと\n",
    "\"\"\"\n",
    "df.dtypes\n",
    "\n",
    "\"\"\"\n",
    "データの個数を確認する\n",
    "\"\"\"\n",
    "print(\"データの個数\", len(df))"
   ],
   "metadata": {
    "collapsed": false
   }
  },
  {
   "cell_type": "code",
   "execution_count": 23,
   "outputs": [
    {
     "data": {
      "text/plain": "     国語  数学\n名前         \nA太   83  89\nB介   66  93\nC子  100  84\nD郎   60  73\nE美   92  62\nF菜   96  92",
      "text/html": "<div>\n<style scoped>\n    .dataframe tbody tr th:only-of-type {\n        vertical-align: middle;\n    }\n\n    .dataframe tbody tr th {\n        vertical-align: top;\n    }\n\n    .dataframe thead th {\n        text-align: right;\n    }\n</style>\n<table border=\"1\" class=\"dataframe\">\n  <thead>\n    <tr style=\"text-align: right;\">\n      <th></th>\n      <th>国語</th>\n      <th>数学</th>\n    </tr>\n    <tr>\n      <th>名前</th>\n      <th></th>\n      <th></th>\n    </tr>\n  </thead>\n  <tbody>\n    <tr>\n      <th>A太</th>\n      <td>83</td>\n      <td>89</td>\n    </tr>\n    <tr>\n      <th>B介</th>\n      <td>66</td>\n      <td>93</td>\n    </tr>\n    <tr>\n      <th>C子</th>\n      <td>100</td>\n      <td>84</td>\n    </tr>\n    <tr>\n      <th>D郎</th>\n      <td>60</td>\n      <td>73</td>\n    </tr>\n    <tr>\n      <th>E美</th>\n      <td>92</td>\n      <td>62</td>\n    </tr>\n    <tr>\n      <th>F菜</th>\n      <td>96</td>\n      <td>92</td>\n    </tr>\n  </tbody>\n</table>\n</div>"
     },
     "execution_count": 23,
     "metadata": {},
     "output_type": "execute_result"
    }
   ],
   "source": [
    "\"\"\"\n",
    "列データを取り出す\n",
    "\"\"\"\n",
    "df[\"国語\"]\n",
    "# 複数のデータを取り出す\n",
    "df[[\"国語\", \"数学\"]]"
   ],
   "metadata": {
    "collapsed": false
   }
  },
  {
   "cell_type": "code",
   "execution_count": null,
   "outputs": [],
   "source": [
    "\"\"\"\n",
    "行データを取り出す\n",
    "\"\"\""
   ],
   "metadata": {
    "collapsed": false
   }
  }
 ],
 "metadata": {
  "kernelspec": {
   "display_name": "Python 3",
   "language": "python",
   "name": "python3"
  },
  "language_info": {
   "codemirror_mode": {
    "name": "ipython",
    "version": 2
   },
   "file_extension": ".py",
   "mimetype": "text/x-python",
   "name": "python",
   "nbconvert_exporter": "python",
   "pygments_lexer": "ipython2",
   "version": "2.7.6"
  }
 },
 "nbformat": 4,
 "nbformat_minor": 0
}
