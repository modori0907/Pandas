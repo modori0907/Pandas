{
 "cells": [
  {
   "cell_type": "code",
   "execution_count": 2,
   "outputs": [
    {
     "data": {
      "text/plain": "     国語  数学  英語  学生番号\n名前                   \nA太   83  89  76  A001\nB介   66  93  75  B001\nC子  100  84  96  B002\nD郎   60  73  40  A002\nE美   92  62  84  C001\nF菜   96  92  94  C002",
      "text/html": "<div>\n<style scoped>\n    .dataframe tbody tr th:only-of-type {\n        vertical-align: middle;\n    }\n\n    .dataframe tbody tr th {\n        vertical-align: top;\n    }\n\n    .dataframe thead th {\n        text-align: right;\n    }\n</style>\n<table border=\"1\" class=\"dataframe\">\n  <thead>\n    <tr style=\"text-align: right;\">\n      <th></th>\n      <th>国語</th>\n      <th>数学</th>\n      <th>英語</th>\n      <th>学生番号</th>\n    </tr>\n    <tr>\n      <th>名前</th>\n      <th></th>\n      <th></th>\n      <th></th>\n      <th></th>\n    </tr>\n  </thead>\n  <tbody>\n    <tr>\n      <th>A太</th>\n      <td>83</td>\n      <td>89</td>\n      <td>76</td>\n      <td>A001</td>\n    </tr>\n    <tr>\n      <th>B介</th>\n      <td>66</td>\n      <td>93</td>\n      <td>75</td>\n      <td>B001</td>\n    </tr>\n    <tr>\n      <th>C子</th>\n      <td>100</td>\n      <td>84</td>\n      <td>96</td>\n      <td>B002</td>\n    </tr>\n    <tr>\n      <th>D郎</th>\n      <td>60</td>\n      <td>73</td>\n      <td>40</td>\n      <td>A002</td>\n    </tr>\n    <tr>\n      <th>E美</th>\n      <td>92</td>\n      <td>62</td>\n      <td>84</td>\n      <td>C001</td>\n    </tr>\n    <tr>\n      <th>F菜</th>\n      <td>96</td>\n      <td>92</td>\n      <td>94</td>\n      <td>C002</td>\n    </tr>\n  </tbody>\n</table>\n</div>"
     },
     "execution_count": 2,
     "metadata": {},
     "output_type": "execute_result"
    }
   ],
   "source": [
    "\"\"\"\n",
    "UTF-8形式の読み込み\n",
    "encodingの指定は不要\n",
    "\"\"\"\n",
    "import pandas as pd\n",
    "df = pd.read_csv(\"test.csv\")\n",
    "df\n",
    "\n",
    "\"\"\"\n",
    "Shift_JIS形式の読み込み\n",
    "encodingの指定は不要\n",
    "\"\"\"\n",
    "df = pd.read_csv(\"testSJIS.csv\", encoding=\"Shift_JIS\")\n",
    "df\n",
    "\n",
    "# インデックスの列を指定する\n",
    "df = pd.read_csv(\"test.csv\", index_col=0)\n",
    "df"
   ],
   "metadata": {
    "collapsed": false
   }
  },
  {
   "cell_type": "code",
   "execution_count": 9,
   "outputs": [
    {
     "data": {
      "text/plain": "    0    1   2   3     4\n0  A太   83  89  76  A001\n1  B介   66  93  75  B001\n2  C子  100  84  96  B002\n3  D郎   60  73  40  A002\n4  E美   92  62  84  C001\n5  F菜   96  92  94  C002",
      "text/html": "<div>\n<style scoped>\n    .dataframe tbody tr th:only-of-type {\n        vertical-align: middle;\n    }\n\n    .dataframe tbody tr th {\n        vertical-align: top;\n    }\n\n    .dataframe thead th {\n        text-align: right;\n    }\n</style>\n<table border=\"1\" class=\"dataframe\">\n  <thead>\n    <tr style=\"text-align: right;\">\n      <th></th>\n      <th>0</th>\n      <th>1</th>\n      <th>2</th>\n      <th>3</th>\n      <th>4</th>\n    </tr>\n  </thead>\n  <tbody>\n    <tr>\n      <th>0</th>\n      <td>A太</td>\n      <td>83</td>\n      <td>89</td>\n      <td>76</td>\n      <td>A001</td>\n    </tr>\n    <tr>\n      <th>1</th>\n      <td>B介</td>\n      <td>66</td>\n      <td>93</td>\n      <td>75</td>\n      <td>B001</td>\n    </tr>\n    <tr>\n      <th>2</th>\n      <td>C子</td>\n      <td>100</td>\n      <td>84</td>\n      <td>96</td>\n      <td>B002</td>\n    </tr>\n    <tr>\n      <th>3</th>\n      <td>D郎</td>\n      <td>60</td>\n      <td>73</td>\n      <td>40</td>\n      <td>A002</td>\n    </tr>\n    <tr>\n      <th>4</th>\n      <td>E美</td>\n      <td>92</td>\n      <td>62</td>\n      <td>84</td>\n      <td>C001</td>\n    </tr>\n    <tr>\n      <th>5</th>\n      <td>F菜</td>\n      <td>96</td>\n      <td>92</td>\n      <td>94</td>\n      <td>C002</td>\n    </tr>\n  </tbody>\n</table>\n</div>"
     },
     "execution_count": 9,
     "metadata": {},
     "output_type": "execute_result"
    }
   ],
   "source": [
    "\"\"\"\n",
    "ヘッダーがないデータの扱い\n",
    "\"\"\"\n",
    "df = pd.read_csv(\"testNoHeader.csv\", index_col=0, header=None)\n",
    "df"
   ],
   "metadata": {
    "collapsed": false
   }
  },
  {
   "cell_type": "code",
   "execution_count": 13,
   "outputs": [
    {
     "data": {
      "text/plain": "     国語  数学  英語  学生番号\n名前                   \nA太   83  89  76  A001\nB介   66  93  75  B001\nC子  100  84  96  B002\nD郎   60  73  40  A002\nE美   92  62  84  C001",
      "text/html": "<div>\n<style scoped>\n    .dataframe tbody tr th:only-of-type {\n        vertical-align: middle;\n    }\n\n    .dataframe tbody tr th {\n        vertical-align: top;\n    }\n\n    .dataframe thead th {\n        text-align: right;\n    }\n</style>\n<table border=\"1\" class=\"dataframe\">\n  <thead>\n    <tr style=\"text-align: right;\">\n      <th></th>\n      <th>国語</th>\n      <th>数学</th>\n      <th>英語</th>\n      <th>学生番号</th>\n    </tr>\n    <tr>\n      <th>名前</th>\n      <th></th>\n      <th></th>\n      <th></th>\n      <th></th>\n    </tr>\n  </thead>\n  <tbody>\n    <tr>\n      <th>A太</th>\n      <td>83</td>\n      <td>89</td>\n      <td>76</td>\n      <td>A001</td>\n    </tr>\n    <tr>\n      <th>B介</th>\n      <td>66</td>\n      <td>93</td>\n      <td>75</td>\n      <td>B001</td>\n    </tr>\n    <tr>\n      <th>C子</th>\n      <td>100</td>\n      <td>84</td>\n      <td>96</td>\n      <td>B002</td>\n    </tr>\n    <tr>\n      <th>D郎</th>\n      <td>60</td>\n      <td>73</td>\n      <td>40</td>\n      <td>A002</td>\n    </tr>\n    <tr>\n      <th>E美</th>\n      <td>92</td>\n      <td>62</td>\n      <td>84</td>\n      <td>C001</td>\n    </tr>\n  </tbody>\n</table>\n</div>"
     },
     "execution_count": 13,
     "metadata": {},
     "output_type": "execute_result"
    }
   ],
   "source": [
    "\"\"\"\n",
    "最初の５行目だけを出力するやりかた\n",
    "データを眺めたりするときに便利\n",
    "\"\"\"\n",
    "df = pd.read_csv(\"test.csv\", index_col=0)\n",
    "df.head()\n"
   ],
   "metadata": {
    "collapsed": false
   }
  },
  {
   "cell_type": "code",
   "execution_count": 21,
   "outputs": [
    {
     "name": "stdout",
     "output_type": "stream",
     "text": [
      "['国語', '数学', '英語', '学生番号']\n",
      "['A太', 'B介', 'C子', 'D郎', 'E美', 'F菜']\n",
      "データの個数 6\n"
     ]
    }
   ],
   "source": [
    "# 列名を出力\n",
    "df.columns\n",
    "# インデックスを出力\n",
    "df.index\n",
    "\"\"\"\n",
    "列名,インデックスをリストに変換する\n",
    "\"\"\"\n",
    "list1 = [i for i in df.columns]\n",
    "print(list1)\n",
    "list2 = [i for i in df.index]\n",
    "print(list2)\n",
    "\"\"\"\n",
    "データタイプの確認\n",
    "objectは文字列型のこと\n",
    "\"\"\"\n",
    "df.dtypes\n",
    "\n",
    "\"\"\"\n",
    "データの個数を確認する\n",
    "\"\"\"\n",
    "print(\"データの個数\", len(df))"
   ],
   "metadata": {
    "collapsed": false
   }
  },
  {
   "cell_type": "code",
   "execution_count": 23,
   "outputs": [
    {
     "data": {
      "text/plain": "     国語  数学\n名前         \nA太   83  89\nB介   66  93\nC子  100  84\nD郎   60  73\nE美   92  62\nF菜   96  92",
      "text/html": "<div>\n<style scoped>\n    .dataframe tbody tr th:only-of-type {\n        vertical-align: middle;\n    }\n\n    .dataframe tbody tr th {\n        vertical-align: top;\n    }\n\n    .dataframe thead th {\n        text-align: right;\n    }\n</style>\n<table border=\"1\" class=\"dataframe\">\n  <thead>\n    <tr style=\"text-align: right;\">\n      <th></th>\n      <th>国語</th>\n      <th>数学</th>\n    </tr>\n    <tr>\n      <th>名前</th>\n      <th></th>\n      <th></th>\n    </tr>\n  </thead>\n  <tbody>\n    <tr>\n      <th>A太</th>\n      <td>83</td>\n      <td>89</td>\n    </tr>\n    <tr>\n      <th>B介</th>\n      <td>66</td>\n      <td>93</td>\n    </tr>\n    <tr>\n      <th>C子</th>\n      <td>100</td>\n      <td>84</td>\n    </tr>\n    <tr>\n      <th>D郎</th>\n      <td>60</td>\n      <td>73</td>\n    </tr>\n    <tr>\n      <th>E美</th>\n      <td>92</td>\n      <td>62</td>\n    </tr>\n    <tr>\n      <th>F菜</th>\n      <td>96</td>\n      <td>92</td>\n    </tr>\n  </tbody>\n</table>\n</div>"
     },
     "execution_count": 23,
     "metadata": {},
     "output_type": "execute_result"
    }
   ],
   "source": [
    "\"\"\"\n",
    "列データを取り出す\n",
    "\"\"\"\n",
    "df[\"国語\"]\n",
    "# 複数のデータを取り出す\n",
    "df[[\"国語\", \"数学\"]]"
   ],
   "metadata": {
    "collapsed": false
   }
  },
  {
   "cell_type": "code",
   "execution_count": 27,
   "outputs": [
    {
     "data": {
      "text/plain": "83"
     },
     "execution_count": 27,
     "metadata": {},
     "output_type": "execute_result"
    }
   ],
   "source": [
    "\"\"\"\n",
    "行データを取り出す\n",
    "\"\"\"\n",
    "df.iloc[0]\n",
    "# 複数のデータを取り出す\n",
    "df.iloc[[0, 3]]\n",
    "\n",
    "# 要素データを取り出す\n",
    "df.iloc[0][\"国語\"]"
   ],
   "metadata": {
    "collapsed": false
   }
  },
  {
   "cell_type": "code",
   "execution_count": 35,
   "outputs": [
    {
     "data": {
      "text/plain": "     国語  数学  英語  学生番号\n名前                   \nA太   83  89  76  A001\nC子  100  84  96  B002\nE美   92  62  84  C001\nF菜   96  92  94  C002",
      "text/html": "<div>\n<style scoped>\n    .dataframe tbody tr th:only-of-type {\n        vertical-align: middle;\n    }\n\n    .dataframe tbody tr th {\n        vertical-align: top;\n    }\n\n    .dataframe thead th {\n        text-align: right;\n    }\n</style>\n<table border=\"1\" class=\"dataframe\">\n  <thead>\n    <tr style=\"text-align: right;\">\n      <th></th>\n      <th>国語</th>\n      <th>数学</th>\n      <th>英語</th>\n      <th>学生番号</th>\n    </tr>\n    <tr>\n      <th>名前</th>\n      <th></th>\n      <th></th>\n      <th></th>\n      <th></th>\n    </tr>\n  </thead>\n  <tbody>\n    <tr>\n      <th>A太</th>\n      <td>83</td>\n      <td>89</td>\n      <td>76</td>\n      <td>A001</td>\n    </tr>\n    <tr>\n      <th>C子</th>\n      <td>100</td>\n      <td>84</td>\n      <td>96</td>\n      <td>B002</td>\n    </tr>\n    <tr>\n      <th>E美</th>\n      <td>92</td>\n      <td>62</td>\n      <td>84</td>\n      <td>C001</td>\n    </tr>\n    <tr>\n      <th>F菜</th>\n      <td>96</td>\n      <td>92</td>\n      <td>94</td>\n      <td>C002</td>\n    </tr>\n  </tbody>\n</table>\n</div>"
     },
     "execution_count": 35,
     "metadata": {},
     "output_type": "execute_result"
    }
   ],
   "source": [
    "\"\"\"\n",
    "列データの追加・削除・加工\n",
    "\"\"\"\n",
    "\n",
    "# 特定のデータを取り出して別のデータフレームに追加する\n",
    "dfA = pd.read_csv(\"test.csv\", index_col=0)\n",
    "\n",
    "# 空のデータフレーム\n",
    "dfB = pd.DataFrame()\n",
    "\n",
    "dfB[\"国語\"] = dfA[\"国語\"]\n",
    "dfB\n",
    "# 列データの削除\n",
    "# dfA = dfA.drop(\"国語\", axis=1)\n",
    "# dfA\n",
    "\n",
    "\n"
   ],
   "metadata": {
    "collapsed": false
   }
  },
  {
   "cell_type": "code",
   "execution_count": 36,
   "outputs": [
    {
     "name": "stderr",
     "output_type": "stream",
     "text": [
      "/var/folders/27/ydgmxlhx53s5rgdv9pqq_fbc0000gn/T/ipykernel_19993/2894062539.py:5: FutureWarning: The frame.append method is deprecated and will be removed from pandas in a future version. Use pandas.concat instead.\n",
      "  dfB = dfB.append(dfA.iloc[0])\n"
     ]
    },
    {
     "data": {
      "text/plain": "     国語  数学  英語  学生番号\n名前                   \nA太   83  89  76  A001\nC子  100  84  96  B002\nF菜   96  92  94  C002",
      "text/html": "<div>\n<style scoped>\n    .dataframe tbody tr th:only-of-type {\n        vertical-align: middle;\n    }\n\n    .dataframe tbody tr th {\n        vertical-align: top;\n    }\n\n    .dataframe thead th {\n        text-align: right;\n    }\n</style>\n<table border=\"1\" class=\"dataframe\">\n  <thead>\n    <tr style=\"text-align: right;\">\n      <th></th>\n      <th>国語</th>\n      <th>数学</th>\n      <th>英語</th>\n      <th>学生番号</th>\n    </tr>\n    <tr>\n      <th>名前</th>\n      <th></th>\n      <th></th>\n      <th></th>\n      <th></th>\n    </tr>\n  </thead>\n  <tbody>\n    <tr>\n      <th>A太</th>\n      <td>83</td>\n      <td>89</td>\n      <td>76</td>\n      <td>A001</td>\n    </tr>\n    <tr>\n      <th>C子</th>\n      <td>100</td>\n      <td>84</td>\n      <td>96</td>\n      <td>B002</td>\n    </tr>\n    <tr>\n      <th>F菜</th>\n      <td>96</td>\n      <td>92</td>\n      <td>94</td>\n      <td>C002</td>\n    </tr>\n  </tbody>\n</table>\n</div>"
     },
     "execution_count": 36,
     "metadata": {},
     "output_type": "execute_result"
    }
   ],
   "source": [
    "\"\"\"\n",
    "行データの追加・削除・加工\n",
    "\"\"\"\n",
    "dfB = pd.DataFrame()\n",
    "dfB = dfB.append(dfA.iloc[0])\n",
    "dfB\n",
    "\n",
    "# 行データの削除\n",
    "dfA = pd.read_csv(\"test.csv\", index_col=0)\n",
    "dfA = dfA.drop(dfA.index[3])\n",
    "dfA\n",
    "\n",
    "# 条件に合う行データを抽出する\n",
    "dfA[\"国語\"] > 80\n",
    "\n",
    "# 条件にあった行だけを抽出する。\n",
    "dfB = dfA[dfA[\"国語\"] > 80]\n",
    "dfB\n",
    "\n",
    "# 複数の条件にあった行だけを抽出する。\n",
    "dfB = dfA[(dfA[\"国語\"] > 80) & (dfA[\"数学\"] > 80)]\n",
    "dfB"
   ],
   "metadata": {
    "collapsed": false
   }
  },
  {
   "cell_type": "code",
   "execution_count": 41,
   "outputs": [
    {
     "data": {
      "text/plain": "      国語    数学\nA太  90.0  80.0\nB介  50.0  80.0\nC子  50.0  80.0\nD郎  40.0  50.0",
      "text/html": "<div>\n<style scoped>\n    .dataframe tbody tr th:only-of-type {\n        vertical-align: middle;\n    }\n\n    .dataframe tbody tr th {\n        vertical-align: top;\n    }\n\n    .dataframe thead th {\n        text-align: right;\n    }\n</style>\n<table border=\"1\" class=\"dataframe\">\n  <thead>\n    <tr style=\"text-align: right;\">\n      <th></th>\n      <th>国語</th>\n      <th>数学</th>\n    </tr>\n  </thead>\n  <tbody>\n    <tr>\n      <th>A太</th>\n      <td>90.0</td>\n      <td>80.0</td>\n    </tr>\n    <tr>\n      <th>B介</th>\n      <td>50.0</td>\n      <td>80.0</td>\n    </tr>\n    <tr>\n      <th>C子</th>\n      <td>50.0</td>\n      <td>80.0</td>\n    </tr>\n    <tr>\n      <th>D郎</th>\n      <td>40.0</td>\n      <td>50.0</td>\n    </tr>\n  </tbody>\n</table>\n</div>"
     },
     "execution_count": 41,
     "metadata": {},
     "output_type": "execute_result"
    }
   ],
   "source": [
    "\"\"\"\n",
    "データの欠損値を確認\n",
    "\"\"\"\n",
    "\n",
    "data = {\n",
    "    \"国語\" : [90,50,None ,40],\n",
    "    \"数学\" : [80,None,None,50]\n",
    "}\n",
    "idx = [\"A太\",\"B介\",\"C子\",\"D郎\"]\n",
    "dfA = pd.DataFrame(data, index=idx)\n",
    "dfA\n",
    "\n",
    "# 欠損値の個数\n",
    "dfA.isnull().sum()\n",
    "\n",
    "# 指定した列で欠損値がある行を削除する\n",
    "dfB = dfA.dropna(subset=[\"国語\"])\n",
    "dfB\n",
    "\n",
    "# 欠損値は、平均値で埋める\n",
    "dfB = dfA.fillna(dfA.mean())\n",
    "dfB\n",
    "\n",
    "# 欠損値を１つ前の値で埋める。気温とかある程度、連続している値が対象の場合\n",
    "dfB = dfA.fillna(method='ffill')\n",
    "dfB"
   ],
   "metadata": {
    "collapsed": false
   }
  },
  {
   "cell_type": "code",
   "execution_count": 44,
   "outputs": [
    {
     "data": {
      "text/plain": "    0   1   2\n0  10  30  40\n1  20  30  40\n3  30  30  50",
      "text/html": "<div>\n<style scoped>\n    .dataframe tbody tr th:only-of-type {\n        vertical-align: middle;\n    }\n\n    .dataframe tbody tr th {\n        vertical-align: top;\n    }\n\n    .dataframe thead th {\n        text-align: right;\n    }\n</style>\n<table border=\"1\" class=\"dataframe\">\n  <thead>\n    <tr style=\"text-align: right;\">\n      <th></th>\n      <th>0</th>\n      <th>1</th>\n      <th>2</th>\n    </tr>\n  </thead>\n  <tbody>\n    <tr>\n      <th>0</th>\n      <td>10</td>\n      <td>30</td>\n      <td>40</td>\n    </tr>\n    <tr>\n      <th>1</th>\n      <td>20</td>\n      <td>30</td>\n      <td>40</td>\n    </tr>\n    <tr>\n      <th>3</th>\n      <td>30</td>\n      <td>30</td>\n      <td>50</td>\n    </tr>\n  </tbody>\n</table>\n</div>"
     },
     "execution_count": 44,
     "metadata": {},
     "output_type": "execute_result"
    }
   ],
   "source": [
    "#  修復データの扱い\n",
    "\n",
    "data = [\n",
    "    [10, 30, 40],\n",
    "    [20, 30, 40],\n",
    "    [20, 30, 40],\n",
    "    [30, 30, 50],\n",
    "    [20, 30, 40],\n",
    "]\n",
    "\n",
    "dfA = pd.DataFrame(data)\n",
    "dfA\n",
    "# 重複データの個数。Trueがそれ。\n",
    "dfA.duplicated().value_counts()\n",
    "\n",
    "# 重複データの２つめ以降を削除する\n",
    "dfB = dfA.drop_duplicates()\n",
    "dfB"
   ],
   "metadata": {
    "collapsed": false
   }
  },
  {
   "cell_type": "code",
   "execution_count": 5,
   "outputs": [
    {
     "data": {
      "text/plain": "     A     B\n0  100   500\n1  300  1500",
      "text/html": "<div>\n<style scoped>\n    .dataframe tbody tr th:only-of-type {\n        vertical-align: middle;\n    }\n\n    .dataframe tbody tr th {\n        vertical-align: top;\n    }\n\n    .dataframe thead th {\n        text-align: right;\n    }\n</style>\n<table border=\"1\" class=\"dataframe\">\n  <thead>\n    <tr style=\"text-align: right;\">\n      <th></th>\n      <th>A</th>\n      <th>B</th>\n    </tr>\n  </thead>\n  <tbody>\n    <tr>\n      <th>0</th>\n      <td>100</td>\n      <td>500</td>\n    </tr>\n    <tr>\n      <th>1</th>\n      <td>300</td>\n      <td>1500</td>\n    </tr>\n  </tbody>\n</table>\n</div>"
     },
     "execution_count": 5,
     "metadata": {},
     "output_type": "execute_result"
    }
   ],
   "source": [
    "# 文字列型のデータを数値に変換する\n",
    "\n",
    "data = {\n",
    "    \"A\": [\"100\", \"300\"],\n",
    "    \"B\": [\"500\", \"1,500\"]\n",
    "}\n",
    "dfA = pd.DataFrame(data)\n",
    "dfA\n",
    "\n",
    "# 各列のデータの種類 確認\n",
    "dfA.dtypes\n",
    "# 文字列の列データを整数に変換する ここでは列Aを整数型に変換する\n",
    "dfA[\"A\"] = dfA[\"A\"].astype(int)\n",
    "dfA.dtypes\n",
    "# カンマつき文字列の字列データのカンマを削除する　これを例に1,500\n",
    "dfA[\"B\"] = dfA[\"B\"].str.replace(\",\",\"\").astype(int)\n",
    "dfA.dtypes\n",
    "dfA"
   ],
   "metadata": {
    "collapsed": false
   }
  },
  {
   "cell_type": "code",
   "execution_count": 10,
   "outputs": [
    {
     "name": "stdout",
     "output_type": "stream",
     "text": [
      "Aクラス = 85.0\n",
      "Bクラス = 80.0\n",
      "Aクラス    85.0\n",
      "Bクラス    80.0\n",
      "dtype: float64\n",
      "82\n",
      "85.0\n"
     ]
    }
   ],
   "source": [
    "\"\"\"\n",
    "データを平に均す\n",
    "平均値をもとめる\n",
    "\"\"\"\n",
    "\n",
    "data = {\n",
    "    \"Aクラス\":[82,89,93,85,76],\n",
    "    \"Bクラス\":[100,62,82,70,86],\n",
    "}\n",
    "df = pd.DataFrame(data)\n",
    "df\n",
    "\n",
    "# 平均値\n",
    "print(\"Aクラス =\", df[\"Aクラス\"].mean())\n",
    "print(\"Bクラス =\", df[\"Bクラス\"].mean())\n",
    "\n",
    "print(df.mean())\n",
    "\n",
    "# 代表値と１つのデータを比較する.0番の生徒とAクラス全体でみると平均値よりまだ少し下なのか\n",
    "print(df.iloc[0][\"Aクラス\"])\n",
    "print(df[\"Aクラス\"].mean())"
   ],
   "metadata": {
    "collapsed": false
   }
  },
  {
   "cell_type": "code",
   "execution_count": 11,
   "outputs": [
    {
     "name": "stdout",
     "output_type": "stream",
     "text": [
      "中央値 = 予想価格    236.0\n",
      "dtype: float64\n",
      "中央値 = 予想価格    240.0\n",
      "dtype: float64\n",
      "最頻値 =    予想価格\n",
      "0   240\n"
     ]
    }
   ],
   "source": [
    "\"\"\"\n",
    "中央値：データを順番に並べたとき、ちょうど真ん中にくる値\n",
    "最頻値：データの中で一番多く現れる。サンプル数が少ないと使えない\n",
    "\"\"\"\n",
    "\n",
    "data = {\n",
    "    \"予想価格\": [240,250,150,240,300]\n",
    "}\n",
    "df = pd.DataFrame(data)\n",
    "print(\"中央値 =\", df.mean())\n",
    "print(\"中央値 =\", df.median())\n",
    "print(\"最頻値 =\", df.mode())"
   ],
   "metadata": {
    "collapsed": false
   }
  },
  {
   "cell_type": "code",
   "execution_count": null,
   "outputs": [],
   "source": [],
   "metadata": {
    "collapsed": false
   }
  }
 ],
 "metadata": {
  "kernelspec": {
   "display_name": "Python 3",
   "language": "python",
   "name": "python3"
  },
  "language_info": {
   "codemirror_mode": {
    "name": "ipython",
    "version": 2
   },
   "file_extension": ".py",
   "mimetype": "text/x-python",
   "name": "python",
   "nbconvert_exporter": "python",
   "pygments_lexer": "ipython2",
   "version": "2.7.6"
  }
 },
 "nbformat": 4,
 "nbformat_minor": 0
}
